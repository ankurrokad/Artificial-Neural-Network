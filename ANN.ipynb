{
  "nbformat": 4,
  "nbformat_minor": 0,
  "metadata": {
    "kernelspec": {
      "display_name": "Python 3",
      "language": "python",
      "name": "python3"
    },
    "language_info": {
      "codemirror_mode": {
        "name": "ipython",
        "version": 3
      },
      "file_extension": ".py",
      "mimetype": "text/x-python",
      "name": "python",
      "nbconvert_exporter": "python",
      "pygments_lexer": "ipython3",
      "version": "3.8.3"
    },
    "colab": {
      "name": "ANN.ipynb",
      "provenance": [],
      "collapsed_sections": [],
      "include_colab_link": true
    }
  },
  "cells": [
    {
      "cell_type": "markdown",
      "metadata": {
        "id": "view-in-github",
        "colab_type": "text"
      },
      "source": [
        "<a href=\"https://colab.research.google.com/github/ankurrokad/Artificial-Neural-Network/blob/Ankur/ANN.ipynb\" target=\"_parent\"><img src=\"https://colab.research.google.com/assets/colab-badge.svg\" alt=\"Open In Colab\"/></a>"
      ]
    },
    {
      "cell_type": "markdown",
      "metadata": {
        "id": "B_fiEC8Z-89i"
      },
      "source": [
        "Dataset : https://archive.ics.uci.edu/ml/datasets/Bank+Marketing\n",
        "\n",
        "### Our goal is to predict , when customer service representative call the customer, will they subscribe for a bank term deposit or not?\n",
        "\n",
        "#### Teammates\n",
        "\n",
        "* [Ankur Rokad](https://github.com/ankurrokad)\n",
        "* [Sahista Patel](https://github.com/Sahista-Patel)\n",
        "* [Murali Krishna](https://github.com/muralikrishnarar)\n",
        "* [Gursanjam Kaur](https://github.com/sv2021)\n",
        "\n",
        "\n"
      ]
    },
    {
      "cell_type": "code",
      "metadata": {
        "id": "9blIbfX4-89n"
      },
      "source": [
        "import pandas as pd\n",
        "import numpy as np\n",
        "import matplotlib.pyplot as plot\n",
        "import seaborn as sos\n",
        "from sklearn.model_selection import train_test_split, GridSearchCV\n",
        "from sklearn.preprocessing import LabelEncoder, StandardScaler\n",
        "from sklearn.metrics import f1_score, accuracy_score, precision_score, recall_score, confusion_matrix\n",
        "from sklearn.svm import SVC\n",
        "from time import time"
      ],
      "execution_count": null,
      "outputs": []
    },
    {
      "cell_type": "code",
      "metadata": {
        "id": "ldK4MZYC-89o"
      },
      "source": [
        "#ANN Model\n",
        "from keras.models import Sequential\n",
        "from keras.layers import Dense, Dropout"
      ],
      "execution_count": null,
      "outputs": []
    },
    {
      "cell_type": "code",
      "metadata": {
        "colab": {
          "base_uri": "https://localhost:8080/",
          "height": 224
        },
        "id": "TKviD9z_-89o",
        "outputId": "870b9ea1-48ef-444d-fec7-8a6cd60ba58c"
      },
      "source": [
        "df = pd.read_csv('https://raw.githubusercontent.com/ankurrokad/Artificial-Neural-Network/main/bank-additional-full.csv', sep=';')\n",
        "df.columns = ['age', 'job', 'marital', 'education', 'credit', 'housing', 'loan','contact', 'month', 'day_of_week',\n",
        "              'duration', 'campaign', 'pdays','previous', 'poutcome', 'emp.var.rate', 'cons.price.idx','cons.conf.idx',\n",
        "              'euribor3m', 'nr.employed', 'subscribed']\n",
        "df.head()\n"
      ],
      "execution_count": null,
      "outputs": [
        {
          "output_type": "execute_result",
          "data": {
            "text/html": [
              "<div>\n",
              "<style scoped>\n",
              "    .dataframe tbody tr th:only-of-type {\n",
              "        vertical-align: middle;\n",
              "    }\n",
              "\n",
              "    .dataframe tbody tr th {\n",
              "        vertical-align: top;\n",
              "    }\n",
              "\n",
              "    .dataframe thead th {\n",
              "        text-align: right;\n",
              "    }\n",
              "</style>\n",
              "<table border=\"1\" class=\"dataframe\">\n",
              "  <thead>\n",
              "    <tr style=\"text-align: right;\">\n",
              "      <th></th>\n",
              "      <th>age</th>\n",
              "      <th>job</th>\n",
              "      <th>marital</th>\n",
              "      <th>education</th>\n",
              "      <th>credit</th>\n",
              "      <th>housing</th>\n",
              "      <th>loan</th>\n",
              "      <th>contact</th>\n",
              "      <th>month</th>\n",
              "      <th>day_of_week</th>\n",
              "      <th>duration</th>\n",
              "      <th>campaign</th>\n",
              "      <th>pdays</th>\n",
              "      <th>previous</th>\n",
              "      <th>poutcome</th>\n",
              "      <th>emp.var.rate</th>\n",
              "      <th>cons.price.idx</th>\n",
              "      <th>cons.conf.idx</th>\n",
              "      <th>euribor3m</th>\n",
              "      <th>nr.employed</th>\n",
              "      <th>subscribed</th>\n",
              "    </tr>\n",
              "  </thead>\n",
              "  <tbody>\n",
              "    <tr>\n",
              "      <th>0</th>\n",
              "      <td>56</td>\n",
              "      <td>housemaid</td>\n",
              "      <td>married</td>\n",
              "      <td>basic.4y</td>\n",
              "      <td>no</td>\n",
              "      <td>no</td>\n",
              "      <td>no</td>\n",
              "      <td>telephone</td>\n",
              "      <td>may</td>\n",
              "      <td>mon</td>\n",
              "      <td>261</td>\n",
              "      <td>1</td>\n",
              "      <td>999</td>\n",
              "      <td>0</td>\n",
              "      <td>nonexistent</td>\n",
              "      <td>1.1</td>\n",
              "      <td>93.994</td>\n",
              "      <td>-36.4</td>\n",
              "      <td>4.857</td>\n",
              "      <td>5191.0</td>\n",
              "      <td>no</td>\n",
              "    </tr>\n",
              "    <tr>\n",
              "      <th>1</th>\n",
              "      <td>57</td>\n",
              "      <td>services</td>\n",
              "      <td>married</td>\n",
              "      <td>high.school</td>\n",
              "      <td>unknown</td>\n",
              "      <td>no</td>\n",
              "      <td>no</td>\n",
              "      <td>telephone</td>\n",
              "      <td>may</td>\n",
              "      <td>mon</td>\n",
              "      <td>149</td>\n",
              "      <td>1</td>\n",
              "      <td>999</td>\n",
              "      <td>0</td>\n",
              "      <td>nonexistent</td>\n",
              "      <td>1.1</td>\n",
              "      <td>93.994</td>\n",
              "      <td>-36.4</td>\n",
              "      <td>4.857</td>\n",
              "      <td>5191.0</td>\n",
              "      <td>no</td>\n",
              "    </tr>\n",
              "    <tr>\n",
              "      <th>2</th>\n",
              "      <td>37</td>\n",
              "      <td>services</td>\n",
              "      <td>married</td>\n",
              "      <td>high.school</td>\n",
              "      <td>no</td>\n",
              "      <td>yes</td>\n",
              "      <td>no</td>\n",
              "      <td>telephone</td>\n",
              "      <td>may</td>\n",
              "      <td>mon</td>\n",
              "      <td>226</td>\n",
              "      <td>1</td>\n",
              "      <td>999</td>\n",
              "      <td>0</td>\n",
              "      <td>nonexistent</td>\n",
              "      <td>1.1</td>\n",
              "      <td>93.994</td>\n",
              "      <td>-36.4</td>\n",
              "      <td>4.857</td>\n",
              "      <td>5191.0</td>\n",
              "      <td>no</td>\n",
              "    </tr>\n",
              "    <tr>\n",
              "      <th>3</th>\n",
              "      <td>40</td>\n",
              "      <td>admin.</td>\n",
              "      <td>married</td>\n",
              "      <td>basic.6y</td>\n",
              "      <td>no</td>\n",
              "      <td>no</td>\n",
              "      <td>no</td>\n",
              "      <td>telephone</td>\n",
              "      <td>may</td>\n",
              "      <td>mon</td>\n",
              "      <td>151</td>\n",
              "      <td>1</td>\n",
              "      <td>999</td>\n",
              "      <td>0</td>\n",
              "      <td>nonexistent</td>\n",
              "      <td>1.1</td>\n",
              "      <td>93.994</td>\n",
              "      <td>-36.4</td>\n",
              "      <td>4.857</td>\n",
              "      <td>5191.0</td>\n",
              "      <td>no</td>\n",
              "    </tr>\n",
              "    <tr>\n",
              "      <th>4</th>\n",
              "      <td>56</td>\n",
              "      <td>services</td>\n",
              "      <td>married</td>\n",
              "      <td>high.school</td>\n",
              "      <td>no</td>\n",
              "      <td>no</td>\n",
              "      <td>yes</td>\n",
              "      <td>telephone</td>\n",
              "      <td>may</td>\n",
              "      <td>mon</td>\n",
              "      <td>307</td>\n",
              "      <td>1</td>\n",
              "      <td>999</td>\n",
              "      <td>0</td>\n",
              "      <td>nonexistent</td>\n",
              "      <td>1.1</td>\n",
              "      <td>93.994</td>\n",
              "      <td>-36.4</td>\n",
              "      <td>4.857</td>\n",
              "      <td>5191.0</td>\n",
              "      <td>no</td>\n",
              "    </tr>\n",
              "  </tbody>\n",
              "</table>\n",
              "</div>"
            ],
            "text/plain": [
              "   age        job  marital  ... euribor3m nr.employed subscribed\n",
              "0   56  housemaid  married  ...     4.857      5191.0         no\n",
              "1   57   services  married  ...     4.857      5191.0         no\n",
              "2   37   services  married  ...     4.857      5191.0         no\n",
              "3   40     admin.  married  ...     4.857      5191.0         no\n",
              "4   56   services  married  ...     4.857      5191.0         no\n",
              "\n",
              "[5 rows x 21 columns]"
            ]
          },
          "metadata": {
            "tags": []
          },
          "execution_count": 3
        }
      ]
    },
    {
      "cell_type": "markdown",
      "metadata": {
        "id": "7sUoA3Mk-89p"
      },
      "source": [
        "# bank client data:\n",
        "1 - age (numeric)\n",
        "\n",
        "2 - job : type of job (categorical: 'admin.','blue-collar','entrepreneur','housemaid','management','retired','self-employed','services','student','technician','unemployed','unknown')\n",
        "\n",
        "3 - marital : marital status (categorical: 'divorced','married','single','unknown'; note: 'divorced' means divorced or widowed)\n",
        "\n",
        "4 - education (categorical: 'basic.4y','basic.6y','basic.9y','high.school','illiterate','professional.course','university.degree','unknown')\n",
        "\n",
        "5 - default: has credit in default? (categorical: 'no','yes','unknown')\n",
        "\n",
        "6 - housing: has housing loan? (categorical: 'no','yes','unknown')\n",
        "\n",
        "7 - loan: has personal loan? (categorical: 'no','yes','unknown')\n",
        "\n",
        "# related with the last contact of the current campaign:\n",
        "8 - contact: contact communication type (categorical: 'cellular','telephone')\n",
        "\n",
        "9 - month: last contact month of year (categorical: 'jan', 'feb', 'mar', ..., 'nov', 'dec')\n",
        "\n",
        "10 - day_of_week: last contact day of the week (categorical: 'mon','tue','wed','thu','fri')\n",
        "\n",
        "11 - duration: last contact duration, in seconds (numeric). Important note: this attribute highly affects the output target (e.g., if duration=0 then y='no'). Yet, the duration is not known before a call is performed. Also, after the end of the call y is obviously known. Thus, this input should only be included for benchmark purposes and should be discarded if the intention is to have a realistic predictive model.\n",
        "\n",
        "# other attributes:\n",
        "12 - campaign: number of contacts performed during this campaign and for this client (numeric, includes last contact)\n",
        "\n",
        "13 - pdays: number of days that passed by after the client was last contacted from a previous campaign (numeric; 999 means client was not previously contacted)\n",
        "\n",
        "14 - previous: number of contacts performed before this campaign and for this client (numeric)\n",
        "\n",
        "15 - poutcome: outcome of the previous marketing campaign (categorical: 'failure','nonexistent','success')\n",
        "\n",
        "# social and economic context attributes\n",
        "16 - emp.var.rate: employment variation rate - quarterly indicator (numeric)\n",
        "\n",
        "17 - cons.price.idx: consumer price index - monthly indicator (numeric)\n",
        "\n",
        "18 - cons.conf.idx: consumer confidence index - monthly indicator (numeric)\n",
        "\n",
        "19 - euribor3m: euribor 3 month rate - daily indicator (numeric)\n",
        "\n",
        "20 - nr.employed: number of employees - quarterly indicator (numeric)\n",
        "\n",
        "# Output variable (desired target):\n",
        "21 - y - has the client subscribed a term deposit? (binary: 'yes','no')"
      ]
    },
    {
      "cell_type": "code",
      "metadata": {
        "colab": {
          "base_uri": "https://localhost:8080/"
        },
        "id": "06LmBa__-89q",
        "outputId": "22438a0d-c9e6-44ae-c0f5-6df0e2376d9a"
      },
      "source": [
        "df.isnull().sum()"
      ],
      "execution_count": null,
      "outputs": [
        {
          "output_type": "execute_result",
          "data": {
            "text/plain": [
              "age               0\n",
              "job               0\n",
              "marital           0\n",
              "education         0\n",
              "credit            0\n",
              "housing           0\n",
              "loan              0\n",
              "contact           0\n",
              "month             0\n",
              "day_of_week       0\n",
              "duration          0\n",
              "campaign          0\n",
              "pdays             0\n",
              "previous          0\n",
              "poutcome          0\n",
              "emp.var.rate      0\n",
              "cons.price.idx    0\n",
              "cons.conf.idx     0\n",
              "euribor3m         0\n",
              "nr.employed       0\n",
              "subscribed        0\n",
              "dtype: int64"
            ]
          },
          "metadata": {
            "tags": []
          },
          "execution_count": 4
        }
      ]
    },
    {
      "cell_type": "markdown",
      "metadata": {
        "id": "htWsFk1M-89q"
      },
      "source": [
        "We dont have any null values, so no need to do any imputation or anything"
      ]
    },
    {
      "cell_type": "markdown",
      "metadata": {
        "id": "uhDL54zf-89r"
      },
      "source": [
        "## Label Encoding"
      ]
    },
    {
      "cell_type": "markdown",
      "metadata": {
        "id": "55n_-d5O-89r"
      },
      "source": [
        "{'job': {'housemaid': 1, 'unemployed': 0, 'entrepreneur': 4, 'blue-collar': 1, 'services': 3, 'admin.': 2, 'technician': 2, 'retired': 1, 'management': 4, 'self-employed': 3, 'unknown': 1, 'student': 0.5}}\n",
        "{'education': {'basic.4y': 1, 'basic.6y': 1, 'basic.9y': 1, 'high.school': 1, 'professional.course': 2, 'university.degree': 2, 'illiterate': 0.9, 'unknown': 0.9}}\n",
        "{'poutcome': {'nonexistent': 0, 'failure': 0, 'success': 1}}\n",
        "{'y': {'no': 0, 'yes': 1}}"
      ]
    },
    {
      "cell_type": "code",
      "metadata": {
        "colab": {
          "base_uri": "https://localhost:8080/"
        },
        "id": "tuOBkb-u-89r",
        "outputId": "e49d0fb5-f76f-4dec-ec11-c21399d1b3c3"
      },
      "source": [
        "# Let's find out the categorical variables first\n",
        "\n",
        "df.select_dtypes('object').info()"
      ],
      "execution_count": null,
      "outputs": [
        {
          "output_type": "stream",
          "text": [
            "<class 'pandas.core.frame.DataFrame'>\n",
            "RangeIndex: 41188 entries, 0 to 41187\n",
            "Data columns (total 11 columns):\n",
            " #   Column       Non-Null Count  Dtype \n",
            "---  ------       --------------  ----- \n",
            " 0   job          41188 non-null  object\n",
            " 1   marital      41188 non-null  object\n",
            " 2   education    41188 non-null  object\n",
            " 3   credit       41188 non-null  object\n",
            " 4   housing      41188 non-null  object\n",
            " 5   loan         41188 non-null  object\n",
            " 6   contact      41188 non-null  object\n",
            " 7   month        41188 non-null  object\n",
            " 8   day_of_week  41188 non-null  object\n",
            " 9   poutcome     41188 non-null  object\n",
            " 10  subscribed   41188 non-null  object\n",
            "dtypes: object(11)\n",
            "memory usage: 3.5+ MB\n"
          ],
          "name": "stdout"
        }
      ]
    },
    {
      "cell_type": "code",
      "metadata": {
        "scrolled": false,
        "colab": {
          "base_uri": "https://localhost:8080/",
          "height": 204
        },
        "id": "1soqfo5Q-89s",
        "outputId": "c7d26ee9-8dee-4e63-8285-4f177c25d112"
      },
      "source": [
        "df.groupby(df['marital']).mean()"
      ],
      "execution_count": null,
      "outputs": [
        {
          "output_type": "execute_result",
          "data": {
            "text/html": [
              "<div>\n",
              "<style scoped>\n",
              "    .dataframe tbody tr th:only-of-type {\n",
              "        vertical-align: middle;\n",
              "    }\n",
              "\n",
              "    .dataframe tbody tr th {\n",
              "        vertical-align: top;\n",
              "    }\n",
              "\n",
              "    .dataframe thead th {\n",
              "        text-align: right;\n",
              "    }\n",
              "</style>\n",
              "<table border=\"1\" class=\"dataframe\">\n",
              "  <thead>\n",
              "    <tr style=\"text-align: right;\">\n",
              "      <th></th>\n",
              "      <th>age</th>\n",
              "      <th>duration</th>\n",
              "      <th>campaign</th>\n",
              "      <th>pdays</th>\n",
              "      <th>previous</th>\n",
              "      <th>emp.var.rate</th>\n",
              "      <th>cons.price.idx</th>\n",
              "      <th>cons.conf.idx</th>\n",
              "      <th>euribor3m</th>\n",
              "      <th>nr.employed</th>\n",
              "    </tr>\n",
              "    <tr>\n",
              "      <th>marital</th>\n",
              "      <th></th>\n",
              "      <th></th>\n",
              "      <th></th>\n",
              "      <th></th>\n",
              "      <th></th>\n",
              "      <th></th>\n",
              "      <th></th>\n",
              "      <th></th>\n",
              "      <th></th>\n",
              "      <th></th>\n",
              "    </tr>\n",
              "  </thead>\n",
              "  <tbody>\n",
              "    <tr>\n",
              "      <th>divorced</th>\n",
              "      <td>44.899393</td>\n",
              "      <td>253.790330</td>\n",
              "      <td>2.61340</td>\n",
              "      <td>968.639853</td>\n",
              "      <td>0.168690</td>\n",
              "      <td>0.163985</td>\n",
              "      <td>93.606563</td>\n",
              "      <td>-40.707069</td>\n",
              "      <td>3.715603</td>\n",
              "      <td>5170.878643</td>\n",
              "    </tr>\n",
              "    <tr>\n",
              "      <th>married</th>\n",
              "      <td>42.307165</td>\n",
              "      <td>257.438623</td>\n",
              "      <td>2.57281</td>\n",
              "      <td>967.247673</td>\n",
              "      <td>0.155608</td>\n",
              "      <td>0.183625</td>\n",
              "      <td>93.597367</td>\n",
              "      <td>-40.270659</td>\n",
              "      <td>3.745832</td>\n",
              "      <td>5171.848772</td>\n",
              "    </tr>\n",
              "    <tr>\n",
              "      <th>single</th>\n",
              "      <td>33.158714</td>\n",
              "      <td>261.524378</td>\n",
              "      <td>2.53380</td>\n",
              "      <td>949.909578</td>\n",
              "      <td>0.211359</td>\n",
              "      <td>-0.167989</td>\n",
              "      <td>93.517300</td>\n",
              "      <td>-40.918698</td>\n",
              "      <td>3.317447</td>\n",
              "      <td>5155.199265</td>\n",
              "    </tr>\n",
              "    <tr>\n",
              "      <th>unknown</th>\n",
              "      <td>40.275000</td>\n",
              "      <td>312.725000</td>\n",
              "      <td>3.18750</td>\n",
              "      <td>937.100000</td>\n",
              "      <td>0.275000</td>\n",
              "      <td>-0.221250</td>\n",
              "      <td>93.471250</td>\n",
              "      <td>-40.820000</td>\n",
              "      <td>3.313037</td>\n",
              "      <td>5157.393750</td>\n",
              "    </tr>\n",
              "  </tbody>\n",
              "</table>\n",
              "</div>"
            ],
            "text/plain": [
              "                age    duration  ...  euribor3m  nr.employed\n",
              "marital                          ...                        \n",
              "divorced  44.899393  253.790330  ...   3.715603  5170.878643\n",
              "married   42.307165  257.438623  ...   3.745832  5171.848772\n",
              "single    33.158714  261.524378  ...   3.317447  5155.199265\n",
              "unknown   40.275000  312.725000  ...   3.313037  5157.393750\n",
              "\n",
              "[4 rows x 10 columns]"
            ]
          },
          "metadata": {
            "tags": []
          },
          "execution_count": 6
        }
      ]
    },
    {
      "cell_type": "markdown",
      "metadata": {
        "id": "LO-sSsAa-89s"
      },
      "source": [
        "Job:\"housemaid\":1,\n",
        "    \"unemployed\":0,\n",
        "    \"entrepreneur\":4,\n",
        "    \"blue-collar\":1,\n",
        "    \"services\":3,\n",
        "    \"admin.\":2,\n",
        "    \"technician\":2,\n",
        "    \"retired\":1,\n",
        "    \"management\":4,\n",
        "    \"self-employed\":3,\n",
        "    \"unknown\":1,\n",
        "    \"student\":0.5\n",
        "    \n",
        "Education:\"basic.4y\":1,\n",
        "          \"basic.6y\":1,\n",
        "          \"basic.9y\":1,\n",
        "          \"high.school\":1,\n",
        "          \"professional.course\":2,\n",
        "          \"university.degree\":2,\n",
        "          \"illiterate\":0.9,\n",
        "          \"unknown\":0.9\n",
        "outcome:\"nonexistent\":0,\n",
        "        \"failure\":0,\n",
        "        \"success\":1\n",
        "Subscribed:\"no\":0,\n",
        "            \"yes\":1"
      ]
    },
    {
      "cell_type": "code",
      "metadata": {
        "id": "fQv_lmac-89s"
      },
      "source": [
        "dict_job = {\n",
        "    \"job\":{\n",
        "        \"housemaid\":1,\n",
        "        \"unemployed\":0,\n",
        "        \"entrepreneur\":4,\n",
        "        \"blue-collar\":1,\n",
        "        \"services\":3,\n",
        "        \"admin.\":2,\n",
        "        \"technician\":2,\n",
        "        \"retired\":1,\n",
        "        \"management\":4,\n",
        "        \"self-employed\":3,\n",
        "        \"unknown\":1,\n",
        "        \"student\":0.5\n",
        "    }}\n",
        "dict_education = {\n",
        "    \"education\":{\n",
        "        \"basic.4y\":1,\n",
        "        \"basic.6y\":1,\n",
        "        \"basic.9y\":1,\n",
        "        \"high.school\":1,\n",
        "        \"professional.course\":2,\n",
        "        \"university.degree\":2,\n",
        "        \"illiterate\":0.9,\n",
        "        \"unknown\":0.9\n",
        "    }}\n",
        "dict_poutcome = {\n",
        "    \"poutcome\":{\n",
        "        \"nonexistent\":0,\n",
        "        \"failure\":0,\n",
        "        \"success\":1\n",
        "    }}\n",
        "dict_y = {\n",
        "    \"subscribed\":{\n",
        "        \"no\":0,\n",
        "        \"yes\":1\n",
        "    }}"
      ],
      "execution_count": null,
      "outputs": []
    },
    {
      "cell_type": "code",
      "metadata": {
        "id": "FdXdAd80-89t"
      },
      "source": [
        "for i in [dict_job,dict_education,dict_poutcome,dict_y]:\n",
        "    df.replace(i,inplace=True)"
      ],
      "execution_count": null,
      "outputs": []
    },
    {
      "cell_type": "code",
      "metadata": {
        "colab": {
          "base_uri": "https://localhost:8080/",
          "height": 224
        },
        "id": "vRFADWo2-89t",
        "outputId": "74284277-85ec-4618-fa93-8e631bc8dfb3"
      },
      "source": [
        "df.head()"
      ],
      "execution_count": null,
      "outputs": [
        {
          "output_type": "execute_result",
          "data": {
            "text/html": [
              "<div>\n",
              "<style scoped>\n",
              "    .dataframe tbody tr th:only-of-type {\n",
              "        vertical-align: middle;\n",
              "    }\n",
              "\n",
              "    .dataframe tbody tr th {\n",
              "        vertical-align: top;\n",
              "    }\n",
              "\n",
              "    .dataframe thead th {\n",
              "        text-align: right;\n",
              "    }\n",
              "</style>\n",
              "<table border=\"1\" class=\"dataframe\">\n",
              "  <thead>\n",
              "    <tr style=\"text-align: right;\">\n",
              "      <th></th>\n",
              "      <th>age</th>\n",
              "      <th>job</th>\n",
              "      <th>marital</th>\n",
              "      <th>education</th>\n",
              "      <th>credit</th>\n",
              "      <th>housing</th>\n",
              "      <th>loan</th>\n",
              "      <th>contact</th>\n",
              "      <th>month</th>\n",
              "      <th>day_of_week</th>\n",
              "      <th>duration</th>\n",
              "      <th>campaign</th>\n",
              "      <th>pdays</th>\n",
              "      <th>previous</th>\n",
              "      <th>poutcome</th>\n",
              "      <th>emp.var.rate</th>\n",
              "      <th>cons.price.idx</th>\n",
              "      <th>cons.conf.idx</th>\n",
              "      <th>euribor3m</th>\n",
              "      <th>nr.employed</th>\n",
              "      <th>subscribed</th>\n",
              "    </tr>\n",
              "  </thead>\n",
              "  <tbody>\n",
              "    <tr>\n",
              "      <th>0</th>\n",
              "      <td>56</td>\n",
              "      <td>1.0</td>\n",
              "      <td>married</td>\n",
              "      <td>1.0</td>\n",
              "      <td>no</td>\n",
              "      <td>no</td>\n",
              "      <td>no</td>\n",
              "      <td>telephone</td>\n",
              "      <td>may</td>\n",
              "      <td>mon</td>\n",
              "      <td>261</td>\n",
              "      <td>1</td>\n",
              "      <td>999</td>\n",
              "      <td>0</td>\n",
              "      <td>0</td>\n",
              "      <td>1.1</td>\n",
              "      <td>93.994</td>\n",
              "      <td>-36.4</td>\n",
              "      <td>4.857</td>\n",
              "      <td>5191.0</td>\n",
              "      <td>0</td>\n",
              "    </tr>\n",
              "    <tr>\n",
              "      <th>1</th>\n",
              "      <td>57</td>\n",
              "      <td>3.0</td>\n",
              "      <td>married</td>\n",
              "      <td>1.0</td>\n",
              "      <td>unknown</td>\n",
              "      <td>no</td>\n",
              "      <td>no</td>\n",
              "      <td>telephone</td>\n",
              "      <td>may</td>\n",
              "      <td>mon</td>\n",
              "      <td>149</td>\n",
              "      <td>1</td>\n",
              "      <td>999</td>\n",
              "      <td>0</td>\n",
              "      <td>0</td>\n",
              "      <td>1.1</td>\n",
              "      <td>93.994</td>\n",
              "      <td>-36.4</td>\n",
              "      <td>4.857</td>\n",
              "      <td>5191.0</td>\n",
              "      <td>0</td>\n",
              "    </tr>\n",
              "    <tr>\n",
              "      <th>2</th>\n",
              "      <td>37</td>\n",
              "      <td>3.0</td>\n",
              "      <td>married</td>\n",
              "      <td>1.0</td>\n",
              "      <td>no</td>\n",
              "      <td>yes</td>\n",
              "      <td>no</td>\n",
              "      <td>telephone</td>\n",
              "      <td>may</td>\n",
              "      <td>mon</td>\n",
              "      <td>226</td>\n",
              "      <td>1</td>\n",
              "      <td>999</td>\n",
              "      <td>0</td>\n",
              "      <td>0</td>\n",
              "      <td>1.1</td>\n",
              "      <td>93.994</td>\n",
              "      <td>-36.4</td>\n",
              "      <td>4.857</td>\n",
              "      <td>5191.0</td>\n",
              "      <td>0</td>\n",
              "    </tr>\n",
              "    <tr>\n",
              "      <th>3</th>\n",
              "      <td>40</td>\n",
              "      <td>2.0</td>\n",
              "      <td>married</td>\n",
              "      <td>1.0</td>\n",
              "      <td>no</td>\n",
              "      <td>no</td>\n",
              "      <td>no</td>\n",
              "      <td>telephone</td>\n",
              "      <td>may</td>\n",
              "      <td>mon</td>\n",
              "      <td>151</td>\n",
              "      <td>1</td>\n",
              "      <td>999</td>\n",
              "      <td>0</td>\n",
              "      <td>0</td>\n",
              "      <td>1.1</td>\n",
              "      <td>93.994</td>\n",
              "      <td>-36.4</td>\n",
              "      <td>4.857</td>\n",
              "      <td>5191.0</td>\n",
              "      <td>0</td>\n",
              "    </tr>\n",
              "    <tr>\n",
              "      <th>4</th>\n",
              "      <td>56</td>\n",
              "      <td>3.0</td>\n",
              "      <td>married</td>\n",
              "      <td>1.0</td>\n",
              "      <td>no</td>\n",
              "      <td>no</td>\n",
              "      <td>yes</td>\n",
              "      <td>telephone</td>\n",
              "      <td>may</td>\n",
              "      <td>mon</td>\n",
              "      <td>307</td>\n",
              "      <td>1</td>\n",
              "      <td>999</td>\n",
              "      <td>0</td>\n",
              "      <td>0</td>\n",
              "      <td>1.1</td>\n",
              "      <td>93.994</td>\n",
              "      <td>-36.4</td>\n",
              "      <td>4.857</td>\n",
              "      <td>5191.0</td>\n",
              "      <td>0</td>\n",
              "    </tr>\n",
              "  </tbody>\n",
              "</table>\n",
              "</div>"
            ],
            "text/plain": [
              "   age  job  marital  ...  euribor3m nr.employed subscribed\n",
              "0   56  1.0  married  ...      4.857      5191.0          0\n",
              "1   57  3.0  married  ...      4.857      5191.0          0\n",
              "2   37  3.0  married  ...      4.857      5191.0          0\n",
              "3   40  2.0  married  ...      4.857      5191.0          0\n",
              "4   56  3.0  married  ...      4.857      5191.0          0\n",
              "\n",
              "[5 rows x 21 columns]"
            ]
          },
          "metadata": {
            "tags": []
          },
          "execution_count": 9
        }
      ]
    },
    {
      "cell_type": "code",
      "metadata": {
        "id": "hMCEXz71-89t"
      },
      "source": [
        "#Encoding rest of the un ordinal categorical variable \n",
        "lc_X1 = LabelEncoder()\n",
        "lst = ['marital','credit','housing','loan','contact','month','day_of_week']\n",
        "for i in lst:\n",
        "    df[i] = lc_X1.fit_transform(df[i])"
      ],
      "execution_count": null,
      "outputs": []
    },
    {
      "cell_type": "code",
      "metadata": {
        "colab": {
          "base_uri": "https://localhost:8080/",
          "height": 224
        },
        "id": "vK9GIKnb-89t",
        "outputId": "813ebd7d-54c4-4908-c3ab-b59653ae412b"
      },
      "source": [
        "df.head()\n",
        "# df.groupby(df['marital']).mean()"
      ],
      "execution_count": null,
      "outputs": [
        {
          "output_type": "execute_result",
          "data": {
            "text/html": [
              "<div>\n",
              "<style scoped>\n",
              "    .dataframe tbody tr th:only-of-type {\n",
              "        vertical-align: middle;\n",
              "    }\n",
              "\n",
              "    .dataframe tbody tr th {\n",
              "        vertical-align: top;\n",
              "    }\n",
              "\n",
              "    .dataframe thead th {\n",
              "        text-align: right;\n",
              "    }\n",
              "</style>\n",
              "<table border=\"1\" class=\"dataframe\">\n",
              "  <thead>\n",
              "    <tr style=\"text-align: right;\">\n",
              "      <th></th>\n",
              "      <th>age</th>\n",
              "      <th>job</th>\n",
              "      <th>marital</th>\n",
              "      <th>education</th>\n",
              "      <th>credit</th>\n",
              "      <th>housing</th>\n",
              "      <th>loan</th>\n",
              "      <th>contact</th>\n",
              "      <th>month</th>\n",
              "      <th>day_of_week</th>\n",
              "      <th>duration</th>\n",
              "      <th>campaign</th>\n",
              "      <th>pdays</th>\n",
              "      <th>previous</th>\n",
              "      <th>poutcome</th>\n",
              "      <th>emp.var.rate</th>\n",
              "      <th>cons.price.idx</th>\n",
              "      <th>cons.conf.idx</th>\n",
              "      <th>euribor3m</th>\n",
              "      <th>nr.employed</th>\n",
              "      <th>subscribed</th>\n",
              "    </tr>\n",
              "  </thead>\n",
              "  <tbody>\n",
              "    <tr>\n",
              "      <th>0</th>\n",
              "      <td>56</td>\n",
              "      <td>1.0</td>\n",
              "      <td>1</td>\n",
              "      <td>1.0</td>\n",
              "      <td>0</td>\n",
              "      <td>0</td>\n",
              "      <td>0</td>\n",
              "      <td>1</td>\n",
              "      <td>6</td>\n",
              "      <td>1</td>\n",
              "      <td>261</td>\n",
              "      <td>1</td>\n",
              "      <td>999</td>\n",
              "      <td>0</td>\n",
              "      <td>0</td>\n",
              "      <td>1.1</td>\n",
              "      <td>93.994</td>\n",
              "      <td>-36.4</td>\n",
              "      <td>4.857</td>\n",
              "      <td>5191.0</td>\n",
              "      <td>0</td>\n",
              "    </tr>\n",
              "    <tr>\n",
              "      <th>1</th>\n",
              "      <td>57</td>\n",
              "      <td>3.0</td>\n",
              "      <td>1</td>\n",
              "      <td>1.0</td>\n",
              "      <td>1</td>\n",
              "      <td>0</td>\n",
              "      <td>0</td>\n",
              "      <td>1</td>\n",
              "      <td>6</td>\n",
              "      <td>1</td>\n",
              "      <td>149</td>\n",
              "      <td>1</td>\n",
              "      <td>999</td>\n",
              "      <td>0</td>\n",
              "      <td>0</td>\n",
              "      <td>1.1</td>\n",
              "      <td>93.994</td>\n",
              "      <td>-36.4</td>\n",
              "      <td>4.857</td>\n",
              "      <td>5191.0</td>\n",
              "      <td>0</td>\n",
              "    </tr>\n",
              "    <tr>\n",
              "      <th>2</th>\n",
              "      <td>37</td>\n",
              "      <td>3.0</td>\n",
              "      <td>1</td>\n",
              "      <td>1.0</td>\n",
              "      <td>0</td>\n",
              "      <td>2</td>\n",
              "      <td>0</td>\n",
              "      <td>1</td>\n",
              "      <td>6</td>\n",
              "      <td>1</td>\n",
              "      <td>226</td>\n",
              "      <td>1</td>\n",
              "      <td>999</td>\n",
              "      <td>0</td>\n",
              "      <td>0</td>\n",
              "      <td>1.1</td>\n",
              "      <td>93.994</td>\n",
              "      <td>-36.4</td>\n",
              "      <td>4.857</td>\n",
              "      <td>5191.0</td>\n",
              "      <td>0</td>\n",
              "    </tr>\n",
              "    <tr>\n",
              "      <th>3</th>\n",
              "      <td>40</td>\n",
              "      <td>2.0</td>\n",
              "      <td>1</td>\n",
              "      <td>1.0</td>\n",
              "      <td>0</td>\n",
              "      <td>0</td>\n",
              "      <td>0</td>\n",
              "      <td>1</td>\n",
              "      <td>6</td>\n",
              "      <td>1</td>\n",
              "      <td>151</td>\n",
              "      <td>1</td>\n",
              "      <td>999</td>\n",
              "      <td>0</td>\n",
              "      <td>0</td>\n",
              "      <td>1.1</td>\n",
              "      <td>93.994</td>\n",
              "      <td>-36.4</td>\n",
              "      <td>4.857</td>\n",
              "      <td>5191.0</td>\n",
              "      <td>0</td>\n",
              "    </tr>\n",
              "    <tr>\n",
              "      <th>4</th>\n",
              "      <td>56</td>\n",
              "      <td>3.0</td>\n",
              "      <td>1</td>\n",
              "      <td>1.0</td>\n",
              "      <td>0</td>\n",
              "      <td>0</td>\n",
              "      <td>2</td>\n",
              "      <td>1</td>\n",
              "      <td>6</td>\n",
              "      <td>1</td>\n",
              "      <td>307</td>\n",
              "      <td>1</td>\n",
              "      <td>999</td>\n",
              "      <td>0</td>\n",
              "      <td>0</td>\n",
              "      <td>1.1</td>\n",
              "      <td>93.994</td>\n",
              "      <td>-36.4</td>\n",
              "      <td>4.857</td>\n",
              "      <td>5191.0</td>\n",
              "      <td>0</td>\n",
              "    </tr>\n",
              "  </tbody>\n",
              "</table>\n",
              "</div>"
            ],
            "text/plain": [
              "   age  job  marital  ...  euribor3m  nr.employed  subscribed\n",
              "0   56  1.0        1  ...      4.857       5191.0           0\n",
              "1   57  3.0        1  ...      4.857       5191.0           0\n",
              "2   37  3.0        1  ...      4.857       5191.0           0\n",
              "3   40  2.0        1  ...      4.857       5191.0           0\n",
              "4   56  3.0        1  ...      4.857       5191.0           0\n",
              "\n",
              "[5 rows x 21 columns]"
            ]
          },
          "metadata": {
            "tags": []
          },
          "execution_count": 11
        }
      ]
    },
    {
      "cell_type": "code",
      "metadata": {
        "id": "-HCE0NNf-89t"
      },
      "source": [
        "#one hot encoding\n",
        "df_1 = pd.get_dummies(df,\n",
        "                      columns=['marital','credit','housing','loan','contact','month','day_of_week'],\n",
        "                      drop_first=True)"
      ],
      "execution_count": null,
      "outputs": []
    },
    {
      "cell_type": "code",
      "metadata": {
        "colab": {
          "base_uri": "https://localhost:8080/"
        },
        "id": "qI_TE6eC-89u",
        "outputId": "a3c8f010-7e31-49ff-f48b-aefac1c099b4"
      },
      "source": [
        "print(df_1.shape)\n",
        "df_1.head()\n",
        "df_1.columns"
      ],
      "execution_count": null,
      "outputs": [
        {
          "output_type": "stream",
          "text": [
            "(41188, 37)\n"
          ],
          "name": "stdout"
        },
        {
          "output_type": "execute_result",
          "data": {
            "text/plain": [
              "Index(['age', 'job', 'education', 'duration', 'campaign', 'pdays', 'previous',\n",
              "       'poutcome', 'emp.var.rate', 'cons.price.idx', 'cons.conf.idx',\n",
              "       'euribor3m', 'nr.employed', 'subscribed', 'marital_1', 'marital_2',\n",
              "       'marital_3', 'credit_1', 'credit_2', 'housing_1', 'housing_2', 'loan_1',\n",
              "       'loan_2', 'contact_1', 'month_1', 'month_2', 'month_3', 'month_4',\n",
              "       'month_5', 'month_6', 'month_7', 'month_8', 'month_9', 'day_of_week_1',\n",
              "       'day_of_week_2', 'day_of_week_3', 'day_of_week_4'],\n",
              "      dtype='object')"
            ]
          },
          "metadata": {
            "tags": []
          },
          "execution_count": 13
        }
      ]
    },
    {
      "cell_type": "code",
      "metadata": {
        "id": "61Ublvft-89u"
      },
      "source": [
        "#Assign Variable\n",
        "X = df_1.drop(columns = 'subscribed',axis=1).values\n",
        "y = df_1['subscribed'].values \n",
        "#split training - test set\n",
        "X_train,X_test,y_train,y_test = train_test_split(X,y,test_size=0.2,random_state=101)"
      ],
      "execution_count": null,
      "outputs": []
    },
    {
      "cell_type": "code",
      "metadata": {
        "id": "fpvwUzM7-89u"
      },
      "source": [
        "sc = StandardScaler()\n",
        "X_train = sc.fit_transform(X_train)\n",
        "X_test = sc.fit_transform(X_test)"
      ],
      "execution_count": null,
      "outputs": []
    },
    {
      "cell_type": "code",
      "metadata": {
        "id": "MyoM7rNk-89u"
      },
      "source": [
        "# We are using this function to calculate the accuracy, precision, recall, f1_score etc.\n",
        "# Hyperparams: model = string, labels = y, pred = model.pred(y)\n",
        "def print_scores(model, labels, pred):\n",
        "    # Confusion matrix\n",
        "    accuracy = round(accuracy_score(labels, pred), 3)\n",
        "    precision = round(precision_score(labels, pred), 3)    \n",
        "    recall = round(recall_score(labels, pred), 3)\n",
        "    f1 = round(f1_score(labels, pred), 3)\n",
        "    \n",
        "    cm = confusion_matrix(labels, pred)\n",
        "    df = pd.DataFrame(cm)\n",
        "#     print(df)\n",
        "    \n",
        "    print(f\"TP: {df[0][0]} \")\n",
        "    print(f\"TN: {df[1][1]} \")\n",
        "    print(f\"FP: {df[1][0]} \")\n",
        "    print(f\"FN: {df[0][1]} \")\n",
        "    \n",
        "    print(f\"{model}:: Accuracy: {accuracy}, Precision: {precision}, Recall: {recall}, f1_score: {f1}\")"
      ],
      "execution_count": null,
      "outputs": []
    },
    {
      "cell_type": "markdown",
      "metadata": {
        "id": "lNwe4-13-89v"
      },
      "source": [
        "# SVM"
      ]
    },
    {
      "cell_type": "code",
      "metadata": {
        "colab": {
          "base_uri": "https://localhost:8080/"
        },
        "id": "f4uyzHqI-89v",
        "outputId": "167ee22a-f173-4994-ec8e-99a7a6c06d7d"
      },
      "source": [
        "# start = time()\n",
        "# svc = SVC(kernel = \"rbf\", C=1)\n",
        "# svc.fit(X_train,y_train)\n",
        "# y_pred_svm = svc.predict(X_test)\n",
        "# end = time()\n",
        "# print(f\"SVM Time:{round((end - start), 5) * 1000}\")\n",
        "# print_scores(\"SVM\", y_test, y_pred_svm)"
      ],
      "execution_count": null,
      "outputs": [
        {
          "output_type": "stream",
          "text": [
            "SVM Time:26051.52\n",
            "TP: 7105 \n",
            "TN: 356 \n",
            "FP: 174 \n",
            "FN: 603 \n",
            "SVM:: Accuracy: 0.906, Precision: 0.672, Recall: 0.371, f1_score: 0.478\n"
          ],
          "name": "stdout"
        }
      ]
    },
    {
      "cell_type": "code",
      "metadata": {
        "id": "l6Qlx7eUA_ye"
      },
      "source": [
        "# # print the cross-validation results\r\n",
        "# def print_result(results):\r\n",
        "#     print(\"Best Params : {}\\n\".format(results.best_params_))\r\n",
        "    \r\n",
        "#     means = results.cv_results_['mean_test_score']\r\n",
        "#     stds = results.cv_results_['std_test_score']\r\n",
        "    \r\n",
        "#     for mean, std, params in zip(means, stds, results.cv_results_['params']):\r\n",
        "#         print('{} (+/-{}) for {}'.format(round(mean, 3), round(std * 2, 3), params))"
      ],
      "execution_count": null,
      "outputs": []
    },
    {
      "cell_type": "code",
      "metadata": {
        "colab": {
          "base_uri": "https://localhost:8080/"
        },
        "id": "t8BrqjXf-89v",
        "outputId": "386d2496-dd59-4b05-f900-8e14d881ddc3"
      },
      "source": [
        "# start = time()\r\n",
        "# svc = SVC()\r\n",
        "# parameters = {\r\n",
        "#     'kernel' : ['linear', 'rbf'],\r\n",
        "#     'C' : [ 0.1, 1, 10]\r\n",
        "# }\r\n",
        "\r\n",
        "# cv = GridSearchCV(svc, parameters, cv=5)\r\n",
        "\r\n",
        "# cv.fit(X_train, y_train)\r\n",
        "\r\n",
        "# print_result(cv)\r\n",
        "\r\n",
        "# end = time()\r\n",
        "# print(f\"SVM Time:{round((end - start), 5) * 1000}\")"
      ],
      "execution_count": null,
      "outputs": [
        {
          "output_type": "stream",
          "text": [
            "Best Params : {'C': 1, 'kernel': 'rbf'}\n",
            "\n",
            "0.906 (+/-0.005) for {'C': 0.1, 'kernel': 'linear'}\n",
            "0.903 (+/-0.005) for {'C': 0.1, 'kernel': 'rbf'}\n",
            "0.906 (+/-0.006) for {'C': 1, 'kernel': 'linear'}\n",
            "0.91 (+/-0.006) for {'C': 1, 'kernel': 'rbf'}\n",
            "0.906 (+/-0.006) for {'C': 10, 'kernel': 'linear'}\n",
            "0.906 (+/-0.006) for {'C': 10, 'kernel': 'rbf'}\n",
            "SVM Time:1267158.77\n"
          ],
          "name": "stdout"
        }
      ]
    },
    {
      "cell_type": "code",
      "metadata": {
        "id": "qIUEkefcCIm9"
      },
      "source": [
        "# y_pred_svm = svc.predict(X_test)\r\n",
        "\r\n",
        "# print_scores(\"SVM\", y_test, y_pred_svm)"
      ],
      "execution_count": null,
      "outputs": []
    },
    {
      "cell_type": "markdown",
      "metadata": {
        "id": "_EAjDJHN-89v"
      },
      "source": [
        "# ANN"
      ]
    },
    {
      "cell_type": "code",
      "metadata": {
        "id": "WA49ZKU0-89v"
      },
      "source": [
        "classifier = Sequential()"
      ],
      "execution_count": null,
      "outputs": []
    },
    {
      "cell_type": "markdown",
      "metadata": {
        "id": "mvGz3rO6-89v"
      },
      "source": [
        "##### Hyperparams\n",
        "* units — number of nodes for first layer\n",
        "* activation — activation function we use hidden layers\n",
        "* kernel_initializer — initiating weight as close as 0\n",
        "* input_dim — number of independent variable in our dataset\n",
        "\n",
        "![img](https://miro.medium.com/max/4200/1*GTLzJ0sUmwDPb9uVffnZ6g.png)"
      ]
    },
    {
      "cell_type": "code",
      "metadata": {
        "id": "REhAWsjb-89w"
      },
      "source": [
        "classifier.add(Dense(units=13,\n",
        "                     activation='relu',\n",
        "                     kernel_initializer='uniform',\n",
        "                     input_dim=36))\n",
        "classifier.add(Dropout(rate=0.1))"
      ],
      "execution_count": null,
      "outputs": []
    },
    {
      "cell_type": "code",
      "metadata": {
        "id": "ErvIRA9r-89w"
      },
      "source": [
        "classifier.add(Dense(units=13,\n",
        "                     activation='relu',\n",
        "                     kernel_initializer='uniform'))\n",
        "classifier.add(Dropout(rate=0.1))"
      ],
      "execution_count": null,
      "outputs": []
    },
    {
      "cell_type": "code",
      "metadata": {
        "id": "ztRPVrha-89w"
      },
      "source": [
        "classifier.add(Dense(units=1,\n",
        "                     activation='sigmoid',\n",
        "                     kernel_initializer='uniform'))"
      ],
      "execution_count": null,
      "outputs": []
    },
    {
      "cell_type": "code",
      "metadata": {
        "id": "tFt2VnBW-89w"
      },
      "source": [
        "#compile ANN\n",
        "classifier.compile(optimizer='adam',loss='binary_crossentropy',\n",
        "                  metrics=['accuracy'])"
      ],
      "execution_count": null,
      "outputs": []
    },
    {
      "cell_type": "markdown",
      "metadata": {
        "id": "GTmY3io8-89w"
      },
      "source": [
        "#####  Hyperparams\n",
        "\n",
        "* batch_size — number of sample it takes for each iteration\n",
        "* epochs — number of iteration to optimise the model"
      ]
    },
    {
      "cell_type": "code",
      "metadata": {
        "colab": {
          "base_uri": "https://localhost:8080/"
        },
        "id": "3-vtxlqS-89x",
        "outputId": "49419df7-c55c-42c0-90ba-3342191ac3f4"
      },
      "source": [
        "#fitting ANN\n",
        "\n",
        "print(X_train.shape, y_train.shape)\n",
        "start = time()\n",
        "classifier.fit(x=X_train, y=y_train, batch_size=10,epochs=100)"
      ],
      "execution_count": null,
      "outputs": [
        {
          "output_type": "stream",
          "text": [
            "(32950, 36) (32950,)\n",
            "Epoch 1/100\n",
            "3295/3295 [==============================] - 4s 1ms/step - loss: 0.2175 - accuracy: 0.8979\n",
            "Epoch 2/100\n",
            "3295/3295 [==============================] - 4s 1ms/step - loss: 0.1938 - accuracy: 0.9090\n",
            "Epoch 3/100\n",
            "3295/3295 [==============================] - 4s 1ms/step - loss: 0.1909 - accuracy: 0.9101\n",
            "Epoch 4/100\n",
            "3295/3295 [==============================] - 4s 1ms/step - loss: 0.1887 - accuracy: 0.9117\n",
            "Epoch 5/100\n",
            "3295/3295 [==============================] - 4s 1ms/step - loss: 0.1873 - accuracy: 0.9123\n",
            "Epoch 6/100\n",
            "3295/3295 [==============================] - 4s 1ms/step - loss: 0.1853 - accuracy: 0.9142\n",
            "Epoch 7/100\n",
            "3295/3295 [==============================] - 4s 1ms/step - loss: 0.1851 - accuracy: 0.9137\n",
            "Epoch 8/100\n",
            "3295/3295 [==============================] - 4s 1ms/step - loss: 0.1843 - accuracy: 0.9141\n",
            "Epoch 9/100\n",
            "3295/3295 [==============================] - 4s 1ms/step - loss: 0.1837 - accuracy: 0.9151\n",
            "Epoch 10/100\n",
            "3295/3295 [==============================] - 4s 1ms/step - loss: 0.1830 - accuracy: 0.9166\n",
            "Epoch 11/100\n",
            "3295/3295 [==============================] - 4s 1ms/step - loss: 0.1826 - accuracy: 0.9161\n",
            "Epoch 12/100\n",
            "3295/3295 [==============================] - 4s 1ms/step - loss: 0.1822 - accuracy: 0.9151\n",
            "Epoch 13/100\n",
            "3295/3295 [==============================] - 4s 1ms/step - loss: 0.1827 - accuracy: 0.9162\n",
            "Epoch 14/100\n",
            "3295/3295 [==============================] - 4s 1ms/step - loss: 0.1814 - accuracy: 0.9157\n",
            "Epoch 15/100\n",
            "3295/3295 [==============================] - 4s 1ms/step - loss: 0.1818 - accuracy: 0.9157\n",
            "Epoch 16/100\n",
            "3295/3295 [==============================] - 4s 1ms/step - loss: 0.1809 - accuracy: 0.9158\n",
            "Epoch 17/100\n",
            "3295/3295 [==============================] - 4s 1ms/step - loss: 0.1796 - accuracy: 0.9177\n",
            "Epoch 18/100\n",
            "3295/3295 [==============================] - 4s 1ms/step - loss: 0.1808 - accuracy: 0.9158\n",
            "Epoch 19/100\n",
            "3295/3295 [==============================] - 4s 1ms/step - loss: 0.1804 - accuracy: 0.9167\n",
            "Epoch 20/100\n",
            "3295/3295 [==============================] - 4s 1ms/step - loss: 0.1796 - accuracy: 0.9169\n",
            "Epoch 21/100\n",
            "3295/3295 [==============================] - 4s 1ms/step - loss: 0.1792 - accuracy: 0.9179\n",
            "Epoch 22/100\n",
            "3295/3295 [==============================] - 4s 1ms/step - loss: 0.1791 - accuracy: 0.9158\n",
            "Epoch 23/100\n",
            "3295/3295 [==============================] - 4s 1ms/step - loss: 0.1787 - accuracy: 0.9178\n",
            "Epoch 24/100\n",
            "3295/3295 [==============================] - 4s 1ms/step - loss: 0.1793 - accuracy: 0.9164\n",
            "Epoch 25/100\n",
            "3295/3295 [==============================] - 4s 1ms/step - loss: 0.1790 - accuracy: 0.9175\n",
            "Epoch 26/100\n",
            "3295/3295 [==============================] - 4s 1ms/step - loss: 0.1793 - accuracy: 0.9177\n",
            "Epoch 27/100\n",
            "3295/3295 [==============================] - 4s 1ms/step - loss: 0.1789 - accuracy: 0.9166\n",
            "Epoch 28/100\n",
            "3295/3295 [==============================] - 3s 1ms/step - loss: 0.1796 - accuracy: 0.9164\n",
            "Epoch 29/100\n",
            "3295/3295 [==============================] - 4s 1ms/step - loss: 0.1784 - accuracy: 0.9180\n",
            "Epoch 30/100\n",
            "3295/3295 [==============================] - 4s 1ms/step - loss: 0.1780 - accuracy: 0.9173\n",
            "Epoch 31/100\n",
            "3295/3295 [==============================] - 4s 1ms/step - loss: 0.1776 - accuracy: 0.9183\n",
            "Epoch 32/100\n",
            "3295/3295 [==============================] - 4s 1ms/step - loss: 0.1784 - accuracy: 0.9185\n",
            "Epoch 33/100\n",
            "3295/3295 [==============================] - 4s 1ms/step - loss: 0.1783 - accuracy: 0.9180\n",
            "Epoch 34/100\n",
            "3295/3295 [==============================] - 4s 1ms/step - loss: 0.1779 - accuracy: 0.9191\n",
            "Epoch 35/100\n",
            "3295/3295 [==============================] - 4s 1ms/step - loss: 0.1772 - accuracy: 0.9179\n",
            "Epoch 36/100\n",
            "3295/3295 [==============================] - 4s 1ms/step - loss: 0.1779 - accuracy: 0.9178\n",
            "Epoch 37/100\n",
            "3295/3295 [==============================] - 4s 1ms/step - loss: 0.1784 - accuracy: 0.9170\n",
            "Epoch 38/100\n",
            "3295/3295 [==============================] - 4s 1ms/step - loss: 0.1793 - accuracy: 0.9161\n",
            "Epoch 39/100\n",
            "3295/3295 [==============================] - 4s 1ms/step - loss: 0.1768 - accuracy: 0.9174\n",
            "Epoch 40/100\n",
            "3295/3295 [==============================] - 4s 1ms/step - loss: 0.1775 - accuracy: 0.9177\n",
            "Epoch 41/100\n",
            "3295/3295 [==============================] - 4s 1ms/step - loss: 0.1772 - accuracy: 0.9175\n",
            "Epoch 42/100\n",
            "3295/3295 [==============================] - 4s 1ms/step - loss: 0.1767 - accuracy: 0.9181\n",
            "Epoch 43/100\n",
            "3295/3295 [==============================] - 4s 1ms/step - loss: 0.1773 - accuracy: 0.9184\n",
            "Epoch 44/100\n",
            "3295/3295 [==============================] - 4s 1ms/step - loss: 0.1777 - accuracy: 0.9176\n",
            "Epoch 45/100\n",
            "3295/3295 [==============================] - 4s 1ms/step - loss: 0.1783 - accuracy: 0.9182\n",
            "Epoch 46/100\n",
            "3295/3295 [==============================] - 4s 1ms/step - loss: 0.1773 - accuracy: 0.9184\n",
            "Epoch 47/100\n",
            "3295/3295 [==============================] - 4s 1ms/step - loss: 0.1775 - accuracy: 0.9177\n",
            "Epoch 48/100\n",
            "3295/3295 [==============================] - 4s 1ms/step - loss: 0.1769 - accuracy: 0.9187\n",
            "Epoch 49/100\n",
            "3295/3295 [==============================] - 4s 1ms/step - loss: 0.1764 - accuracy: 0.9177\n",
            "Epoch 50/100\n",
            "3295/3295 [==============================] - 4s 1ms/step - loss: 0.1769 - accuracy: 0.9179\n",
            "Epoch 51/100\n",
            "3295/3295 [==============================] - 4s 1ms/step - loss: 0.1780 - accuracy: 0.9176\n",
            "Epoch 52/100\n",
            "3295/3295 [==============================] - 4s 1ms/step - loss: 0.1771 - accuracy: 0.9167\n",
            "Epoch 53/100\n",
            "3295/3295 [==============================] - 4s 1ms/step - loss: 0.1774 - accuracy: 0.9172\n",
            "Epoch 54/100\n",
            "3295/3295 [==============================] - 4s 1ms/step - loss: 0.1763 - accuracy: 0.9185\n",
            "Epoch 55/100\n",
            "3295/3295 [==============================] - 4s 1ms/step - loss: 0.1755 - accuracy: 0.9185\n",
            "Epoch 56/100\n",
            "3295/3295 [==============================] - 4s 1ms/step - loss: 0.1774 - accuracy: 0.9179\n",
            "Epoch 57/100\n",
            "3295/3295 [==============================] - 4s 1ms/step - loss: 0.1757 - accuracy: 0.9180\n",
            "Epoch 58/100\n",
            "3295/3295 [==============================] - 4s 1ms/step - loss: 0.1767 - accuracy: 0.9179\n",
            "Epoch 59/100\n",
            "3295/3295 [==============================] - 4s 1ms/step - loss: 0.1768 - accuracy: 0.9188\n",
            "Epoch 60/100\n",
            "3295/3295 [==============================] - 4s 1ms/step - loss: 0.1773 - accuracy: 0.9179\n",
            "Epoch 61/100\n",
            "3295/3295 [==============================] - 4s 1ms/step - loss: 0.1762 - accuracy: 0.9182\n",
            "Epoch 62/100\n",
            "3295/3295 [==============================] - 4s 1ms/step - loss: 0.1759 - accuracy: 0.9188\n",
            "Epoch 63/100\n",
            "3295/3295 [==============================] - 4s 1ms/step - loss: 0.1768 - accuracy: 0.9188\n",
            "Epoch 64/100\n",
            "3295/3295 [==============================] - 4s 1ms/step - loss: 0.1761 - accuracy: 0.9183\n",
            "Epoch 65/100\n",
            "3295/3295 [==============================] - 4s 1ms/step - loss: 0.1755 - accuracy: 0.9181\n",
            "Epoch 66/100\n",
            "3295/3295 [==============================] - 4s 1ms/step - loss: 0.1768 - accuracy: 0.9186\n",
            "Epoch 67/100\n",
            "3295/3295 [==============================] - 4s 1ms/step - loss: 0.1764 - accuracy: 0.9172\n",
            "Epoch 68/100\n",
            "3295/3295 [==============================] - 4s 1ms/step - loss: 0.1763 - accuracy: 0.9181\n",
            "Epoch 69/100\n",
            "3295/3295 [==============================] - 4s 1ms/step - loss: 0.1765 - accuracy: 0.9180\n",
            "Epoch 70/100\n",
            "3295/3295 [==============================] - 4s 1ms/step - loss: 0.1764 - accuracy: 0.9185\n",
            "Epoch 71/100\n",
            "3295/3295 [==============================] - 4s 1ms/step - loss: 0.1760 - accuracy: 0.9182\n",
            "Epoch 72/100\n",
            "3295/3295 [==============================] - 4s 1ms/step - loss: 0.1761 - accuracy: 0.9176\n",
            "Epoch 73/100\n",
            "3295/3295 [==============================] - 4s 1ms/step - loss: 0.1758 - accuracy: 0.9187\n",
            "Epoch 74/100\n",
            "3295/3295 [==============================] - 4s 1ms/step - loss: 0.1757 - accuracy: 0.9174\n",
            "Epoch 75/100\n",
            "3295/3295 [==============================] - 4s 1ms/step - loss: 0.1769 - accuracy: 0.9179\n",
            "Epoch 76/100\n",
            "3295/3295 [==============================] - 4s 1ms/step - loss: 0.1756 - accuracy: 0.9180\n",
            "Epoch 77/100\n",
            "3295/3295 [==============================] - 4s 1ms/step - loss: 0.1754 - accuracy: 0.9186\n",
            "Epoch 78/100\n",
            "3295/3295 [==============================] - 4s 1ms/step - loss: 0.1760 - accuracy: 0.9181\n",
            "Epoch 79/100\n",
            "3295/3295 [==============================] - 4s 1ms/step - loss: 0.1758 - accuracy: 0.9186\n",
            "Epoch 80/100\n",
            "3295/3295 [==============================] - 4s 1ms/step - loss: 0.1745 - accuracy: 0.9174\n",
            "Epoch 81/100\n",
            "3295/3295 [==============================] - 4s 1ms/step - loss: 0.1768 - accuracy: 0.9175\n",
            "Epoch 82/100\n",
            "3295/3295 [==============================] - 4s 1ms/step - loss: 0.1758 - accuracy: 0.9187\n",
            "Epoch 83/100\n",
            "3295/3295 [==============================] - 4s 1ms/step - loss: 0.1755 - accuracy: 0.9191\n",
            "Epoch 84/100\n",
            "3295/3295 [==============================] - 4s 1ms/step - loss: 0.1759 - accuracy: 0.9185\n",
            "Epoch 85/100\n",
            "3295/3295 [==============================] - 4s 1ms/step - loss: 0.1759 - accuracy: 0.9193\n",
            "Epoch 86/100\n",
            "3295/3295 [==============================] - 4s 1ms/step - loss: 0.1753 - accuracy: 0.9188\n",
            "Epoch 87/100\n",
            "3295/3295 [==============================] - 4s 1ms/step - loss: 0.1754 - accuracy: 0.9190\n",
            "Epoch 88/100\n",
            "3295/3295 [==============================] - 4s 1ms/step - loss: 0.1762 - accuracy: 0.9179\n",
            "Epoch 89/100\n",
            "3295/3295 [==============================] - 4s 1ms/step - loss: 0.1755 - accuracy: 0.9197\n",
            "Epoch 90/100\n",
            "3295/3295 [==============================] - 4s 1ms/step - loss: 0.1758 - accuracy: 0.9186\n",
            "Epoch 91/100\n",
            "3295/3295 [==============================] - 4s 1ms/step - loss: 0.1751 - accuracy: 0.9196\n",
            "Epoch 92/100\n",
            "3295/3295 [==============================] - 4s 1ms/step - loss: 0.1754 - accuracy: 0.9199\n",
            "Epoch 93/100\n",
            "3295/3295 [==============================] - 4s 1ms/step - loss: 0.1762 - accuracy: 0.9186\n",
            "Epoch 94/100\n",
            "3295/3295 [==============================] - 4s 1ms/step - loss: 0.1754 - accuracy: 0.9194\n",
            "Epoch 95/100\n",
            "3295/3295 [==============================] - 4s 1ms/step - loss: 0.1755 - accuracy: 0.9188\n",
            "Epoch 96/100\n",
            "3295/3295 [==============================] - 4s 1ms/step - loss: 0.1764 - accuracy: 0.9185\n",
            "Epoch 97/100\n",
            "3295/3295 [==============================] - 4s 1ms/step - loss: 0.1756 - accuracy: 0.9188\n",
            "Epoch 98/100\n",
            "3295/3295 [==============================] - 4s 1ms/step - loss: 0.1754 - accuracy: 0.9199\n",
            "Epoch 99/100\n",
            "3295/3295 [==============================] - 4s 1ms/step - loss: 0.1758 - accuracy: 0.9190\n",
            "Epoch 100/100\n",
            "3295/3295 [==============================] - 4s 1ms/step - loss: 0.1756 - accuracy: 0.9182\n"
          ],
          "name": "stdout"
        },
        {
          "output_type": "execute_result",
          "data": {
            "text/plain": [
              "<tensorflow.python.keras.callbacks.History at 0x7fdfcd6e5eb8>"
            ]
          },
          "metadata": {
            "tags": []
          },
          "execution_count": 23
        }
      ]
    },
    {
      "cell_type": "code",
      "metadata": {
        "colab": {
          "base_uri": "https://localhost:8080/"
        },
        "id": "DsncBYC0-89x",
        "outputId": "dd8c78b4-c2ae-45f8-f00b-bb0f2e517c97"
      },
      "source": [
        "y_pred_ann = classifier.predict(X_test)\n",
        "end = time()\n",
        "print(f\"ANN Time:{round((end - start), 5) * 1000}\")\n",
        "\"\"\"\n",
        "y_pred array contains boolean value of whether dependent variable has more than 50% chance of being ‘yes’ or not.\n",
        "\n",
        "If ‘yes’ it will be True, if ‘no’ it will be ‘False’.\n",
        "\"\"\"\n",
        "y_pred_ann = y_pred_ann > 0.5\n",
        "\n",
        "print_scores(\"ANN\", y_test, y_pred_ann)"
      ],
      "execution_count": null,
      "outputs": [
        {
          "output_type": "stream",
          "text": [
            "ANN Time:362862.95\n",
            "TP: 6998 \n",
            "TN: 520 \n",
            "FP: 281 \n",
            "FN: 439 \n",
            "ANN:: Accuracy: 0.913, Precision: 0.649, Recall: 0.542, f1_score: 0.591\n"
          ],
          "name": "stdout"
        }
      ]
    },
    {
      "cell_type": "markdown",
      "metadata": {
        "id": "WhJDnQEy-89y"
      },
      "source": [
        "## References\n",
        "\n",
        "* Activation Function : https://www.analyticsvidhya.com/blog/2020/01/fundamentals-deep-learning-activation-functions-when-to-use-them/\n",
        "* Keras : https://medium.com/datadriveninvestor/building-neural-network-using-keras-for-classification-3a3656c726c1\n",
        "* Confusion Matrix : https://towardsdatascience.com/accuracy-precision-recall-or-f1-331fb37c5cb9"
      ]
    }
  ]
}