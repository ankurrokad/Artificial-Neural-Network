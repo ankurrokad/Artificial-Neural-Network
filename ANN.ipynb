{
  "nbformat": 4,
  "nbformat_minor": 0,
  "metadata": {
    "kernelspec": {
      "display_name": "Python 3",
      "language": "python",
      "name": "python3"
    },
    "language_info": {
      "codemirror_mode": {
        "name": "ipython",
        "version": 3
      },
      "file_extension": ".py",
      "mimetype": "text/x-python",
      "name": "python",
      "nbconvert_exporter": "python",
      "pygments_lexer": "ipython3",
      "version": "3.8.3"
    },
    "colab": {
      "name": "ANN.ipynb",
      "provenance": [],
      "collapsed_sections": [],
      "include_colab_link": true
    }
  },
  "cells": [
    {
      "cell_type": "markdown",
      "metadata": {
        "id": "view-in-github",
        "colab_type": "text"
      },
      "source": [
        "<a href=\"https://colab.research.google.com/github/ankurrokad/Artificial-Neural-Network/blob/Ankur/ANN.ipynb\" target=\"_parent\"><img src=\"https://colab.research.google.com/assets/colab-badge.svg\" alt=\"Open In Colab\"/></a>"
      ]
    },
    {
      "cell_type": "markdown",
      "metadata": {
        "id": "B_fiEC8Z-89i"
      },
      "source": [
        "### Problem\n",
        "\n",
        "**Our goal is to predict , when customer service representative call the customer, will they subscribe for a bank term deposit or not?**\n",
        "\n",
        "**Dataset : https://archive.ics.uci.edu/ml/datasets/Bank+Marketing**\n",
        "\n",
        "### Team\n",
        "\n",
        "* [Ankur Rokad](https://github.com/ankurrokad)\n",
        "* [Sahista Patel](https://github.com/Sahista-Patel)\n",
        "* [Murali Krishna](https://github.com/muralikrishnarar)\n",
        "* [Gursanjam Kaur](https://github.com/sv2021)\n",
        "\n",
        "\n"
      ]
    },
    {
      "cell_type": "code",
      "metadata": {
        "id": "9blIbfX4-89n"
      },
      "source": [
        "import pandas as pd\n",
        "import numpy as np\n",
        "import matplotlib.pyplot as plot\n",
        "import seaborn as sos\n",
        "from sklearn.model_selection import train_test_split, GridSearchCV\n",
        "from sklearn.preprocessing import LabelEncoder, StandardScaler\n",
        "from sklearn.metrics import f1_score, accuracy_score, precision_score, recall_score, confusion_matrix\n",
        "from sklearn.linear_model import LogisticRegression\n",
        "from sklearn.svm import SVC\n",
        "from time import time"
      ],
      "execution_count": 1,
      "outputs": []
    },
    {
      "cell_type": "code",
      "metadata": {
        "id": "ldK4MZYC-89o"
      },
      "source": [
        "#ANN Model\n",
        "from keras.models import Sequential\n",
        "from keras.layers import Dense, Dropout"
      ],
      "execution_count": 2,
      "outputs": []
    },
    {
      "cell_type": "code",
      "metadata": {
        "colab": {
          "base_uri": "https://localhost:8080/",
          "height": 217
        },
        "id": "TKviD9z_-89o",
        "outputId": "54cb361e-80cc-48dd-9af0-d7da6e606dec"
      },
      "source": [
        "df = pd.read_csv('https://raw.githubusercontent.com/ankurrokad/Artificial-Neural-Network/main/bank-additional-full.csv', sep=';')\n",
        "df.columns = ['age', 'job', 'marital', 'education', 'credit', 'housing', 'loan','contact', 'month', 'day_of_week',\n",
        "              'duration', 'campaign', 'pdays','previous', 'poutcome', 'emp.var.rate', 'cons.price.idx','cons.conf.idx',\n",
        "              'euribor3m', 'nr.employed', 'subscribed']\n",
        "df.head()\n"
      ],
      "execution_count": 3,
      "outputs": [
        {
          "output_type": "execute_result",
          "data": {
            "text/html": [
              "<div>\n",
              "<style scoped>\n",
              "    .dataframe tbody tr th:only-of-type {\n",
              "        vertical-align: middle;\n",
              "    }\n",
              "\n",
              "    .dataframe tbody tr th {\n",
              "        vertical-align: top;\n",
              "    }\n",
              "\n",
              "    .dataframe thead th {\n",
              "        text-align: right;\n",
              "    }\n",
              "</style>\n",
              "<table border=\"1\" class=\"dataframe\">\n",
              "  <thead>\n",
              "    <tr style=\"text-align: right;\">\n",
              "      <th></th>\n",
              "      <th>age</th>\n",
              "      <th>job</th>\n",
              "      <th>marital</th>\n",
              "      <th>education</th>\n",
              "      <th>credit</th>\n",
              "      <th>housing</th>\n",
              "      <th>loan</th>\n",
              "      <th>contact</th>\n",
              "      <th>month</th>\n",
              "      <th>day_of_week</th>\n",
              "      <th>duration</th>\n",
              "      <th>campaign</th>\n",
              "      <th>pdays</th>\n",
              "      <th>previous</th>\n",
              "      <th>poutcome</th>\n",
              "      <th>emp.var.rate</th>\n",
              "      <th>cons.price.idx</th>\n",
              "      <th>cons.conf.idx</th>\n",
              "      <th>euribor3m</th>\n",
              "      <th>nr.employed</th>\n",
              "      <th>subscribed</th>\n",
              "    </tr>\n",
              "  </thead>\n",
              "  <tbody>\n",
              "    <tr>\n",
              "      <th>0</th>\n",
              "      <td>56</td>\n",
              "      <td>housemaid</td>\n",
              "      <td>married</td>\n",
              "      <td>basic.4y</td>\n",
              "      <td>no</td>\n",
              "      <td>no</td>\n",
              "      <td>no</td>\n",
              "      <td>telephone</td>\n",
              "      <td>may</td>\n",
              "      <td>mon</td>\n",
              "      <td>261</td>\n",
              "      <td>1</td>\n",
              "      <td>999</td>\n",
              "      <td>0</td>\n",
              "      <td>nonexistent</td>\n",
              "      <td>1.1</td>\n",
              "      <td>93.994</td>\n",
              "      <td>-36.4</td>\n",
              "      <td>4.857</td>\n",
              "      <td>5191.0</td>\n",
              "      <td>no</td>\n",
              "    </tr>\n",
              "    <tr>\n",
              "      <th>1</th>\n",
              "      <td>57</td>\n",
              "      <td>services</td>\n",
              "      <td>married</td>\n",
              "      <td>high.school</td>\n",
              "      <td>unknown</td>\n",
              "      <td>no</td>\n",
              "      <td>no</td>\n",
              "      <td>telephone</td>\n",
              "      <td>may</td>\n",
              "      <td>mon</td>\n",
              "      <td>149</td>\n",
              "      <td>1</td>\n",
              "      <td>999</td>\n",
              "      <td>0</td>\n",
              "      <td>nonexistent</td>\n",
              "      <td>1.1</td>\n",
              "      <td>93.994</td>\n",
              "      <td>-36.4</td>\n",
              "      <td>4.857</td>\n",
              "      <td>5191.0</td>\n",
              "      <td>no</td>\n",
              "    </tr>\n",
              "    <tr>\n",
              "      <th>2</th>\n",
              "      <td>37</td>\n",
              "      <td>services</td>\n",
              "      <td>married</td>\n",
              "      <td>high.school</td>\n",
              "      <td>no</td>\n",
              "      <td>yes</td>\n",
              "      <td>no</td>\n",
              "      <td>telephone</td>\n",
              "      <td>may</td>\n",
              "      <td>mon</td>\n",
              "      <td>226</td>\n",
              "      <td>1</td>\n",
              "      <td>999</td>\n",
              "      <td>0</td>\n",
              "      <td>nonexistent</td>\n",
              "      <td>1.1</td>\n",
              "      <td>93.994</td>\n",
              "      <td>-36.4</td>\n",
              "      <td>4.857</td>\n",
              "      <td>5191.0</td>\n",
              "      <td>no</td>\n",
              "    </tr>\n",
              "    <tr>\n",
              "      <th>3</th>\n",
              "      <td>40</td>\n",
              "      <td>admin.</td>\n",
              "      <td>married</td>\n",
              "      <td>basic.6y</td>\n",
              "      <td>no</td>\n",
              "      <td>no</td>\n",
              "      <td>no</td>\n",
              "      <td>telephone</td>\n",
              "      <td>may</td>\n",
              "      <td>mon</td>\n",
              "      <td>151</td>\n",
              "      <td>1</td>\n",
              "      <td>999</td>\n",
              "      <td>0</td>\n",
              "      <td>nonexistent</td>\n",
              "      <td>1.1</td>\n",
              "      <td>93.994</td>\n",
              "      <td>-36.4</td>\n",
              "      <td>4.857</td>\n",
              "      <td>5191.0</td>\n",
              "      <td>no</td>\n",
              "    </tr>\n",
              "    <tr>\n",
              "      <th>4</th>\n",
              "      <td>56</td>\n",
              "      <td>services</td>\n",
              "      <td>married</td>\n",
              "      <td>high.school</td>\n",
              "      <td>no</td>\n",
              "      <td>no</td>\n",
              "      <td>yes</td>\n",
              "      <td>telephone</td>\n",
              "      <td>may</td>\n",
              "      <td>mon</td>\n",
              "      <td>307</td>\n",
              "      <td>1</td>\n",
              "      <td>999</td>\n",
              "      <td>0</td>\n",
              "      <td>nonexistent</td>\n",
              "      <td>1.1</td>\n",
              "      <td>93.994</td>\n",
              "      <td>-36.4</td>\n",
              "      <td>4.857</td>\n",
              "      <td>5191.0</td>\n",
              "      <td>no</td>\n",
              "    </tr>\n",
              "  </tbody>\n",
              "</table>\n",
              "</div>"
            ],
            "text/plain": [
              "   age        job  marital  ... euribor3m nr.employed subscribed\n",
              "0   56  housemaid  married  ...     4.857      5191.0         no\n",
              "1   57   services  married  ...     4.857      5191.0         no\n",
              "2   37   services  married  ...     4.857      5191.0         no\n",
              "3   40     admin.  married  ...     4.857      5191.0         no\n",
              "4   56   services  married  ...     4.857      5191.0         no\n",
              "\n",
              "[5 rows x 21 columns]"
            ]
          },
          "metadata": {
            "tags": []
          },
          "execution_count": 3
        }
      ]
    },
    {
      "cell_type": "markdown",
      "metadata": {
        "id": "7sUoA3Mk-89p"
      },
      "source": [
        "# Dataset Discription\n",
        "\n",
        "### User Details:\n",
        "\n",
        "1 - age (numeric)\n",
        "\n",
        "2 - job : type of job (categorical: 'admin.','blue-collar','entrepreneur','housemaid','management','retired','self-employed','services','student','technician','unemployed','unknown')\n",
        "\n",
        "3 - marital : marital status (categorical: 'divorced','married','single','unknown'; note: 'divorced' means divorced or widowed)\n",
        "\n",
        "4 - education (categorical: 'basic.4y','basic.6y','basic.9y','high.school','illiterate','professional.course','university.degree','unknown')\n",
        "\n",
        "5 - default: has credit in default? (categorical: 'no','yes','unknown')\n",
        "\n",
        "6 - housing: has housing loan? (categorical: 'no','yes','unknown')\n",
        "\n",
        "7 - loan: has personal loan? (categorical: 'no','yes','unknown')\n",
        "\n",
        "### Related with the last contact of the current campaign:\n",
        "8 - contact: contact communication type (categorical: 'cellular','telephone')\n",
        "\n",
        "9 - month: last contact month of year (categorical: 'jan', 'feb', 'mar', ..., 'nov', 'dec')\n",
        "\n",
        "10 - day_of_week: last contact day of the week (categorical: 'mon','tue','wed','thu','fri')\n",
        "\n",
        "11 - duration: last contact duration, in seconds (numeric). Important note: this attribute highly affects the output target (e.g., if duration=0 then y='no'). Yet, the duration is not known before a call is performed. Also, after the end of the call y is obviously known. Thus, this input should only be included for benchmark purposes and should be discarded if the intention is to have a realistic predictive model.\n",
        "\n",
        "# Other attributes:\n",
        "12 - campaign: number of contacts performed during this campaign and for this client (numeric, includes last contact)\n",
        "\n",
        "13 - pdays: number of days that passed by after the client was last contacted from a previous campaign (numeric; 999 means client was not previously contacted)\n",
        "\n",
        "14 - previous: number of contacts performed before this campaign and for this client (numeric)\n",
        "\n",
        "15 - poutcome: outcome of the previous marketing campaign (categorical: 'failure','nonexistent','success')\n",
        "\n",
        "# Social and economic context attributes\n",
        "16 - emp.var.rate: employment variation rate - quarterly indicator (numeric)\n",
        "\n",
        "17 - cons.price.idx: consumer price index - monthly indicator (numeric)\n",
        "\n",
        "18 - cons.conf.idx: consumer confidence index - monthly indicator (numeric)\n",
        "\n",
        "19 - euribor3m: euribor 3 month rate - daily indicator (numeric)\n",
        "\n",
        "20 - nr.employed: number of employees - quarterly indicator (numeric)\n",
        "\n",
        "# Output variable (desired target):\n",
        "21 - y - has the client subscribed a term deposit? (binary: 'yes','no')"
      ]
    },
    {
      "cell_type": "code",
      "metadata": {
        "colab": {
          "base_uri": "https://localhost:8080/"
        },
        "id": "06LmBa__-89q",
        "outputId": "2f89c1ad-9d12-4bfc-839d-927aea291800"
      },
      "source": [
        "df.isnull().sum()"
      ],
      "execution_count": 4,
      "outputs": [
        {
          "output_type": "execute_result",
          "data": {
            "text/plain": [
              "age               0\n",
              "job               0\n",
              "marital           0\n",
              "education         0\n",
              "credit            0\n",
              "housing           0\n",
              "loan              0\n",
              "contact           0\n",
              "month             0\n",
              "day_of_week       0\n",
              "duration          0\n",
              "campaign          0\n",
              "pdays             0\n",
              "previous          0\n",
              "poutcome          0\n",
              "emp.var.rate      0\n",
              "cons.price.idx    0\n",
              "cons.conf.idx     0\n",
              "euribor3m         0\n",
              "nr.employed       0\n",
              "subscribed        0\n",
              "dtype: int64"
            ]
          },
          "metadata": {
            "tags": []
          },
          "execution_count": 4
        }
      ]
    },
    {
      "cell_type": "markdown",
      "metadata": {
        "id": "htWsFk1M-89q"
      },
      "source": [
        "We dont have any null values, so no need to do any imputation or anything"
      ]
    },
    {
      "cell_type": "markdown",
      "metadata": {
        "id": "uhDL54zf-89r"
      },
      "source": [
        "# Pre processing"
      ]
    },
    {
      "cell_type": "markdown",
      "metadata": {
        "id": "0F8od8Xq20Oa"
      },
      "source": [
        "## Feature Eng."
      ]
    },
    {
      "cell_type": "code",
      "metadata": {
        "id": "eixqg82x4D1W"
      },
      "source": [
        "# import seaborn as sns\r\n",
        "# from matplotlib import pyplot as plt\r\n",
        "# from pylab import rcParams\r\n",
        "# rcParams['figure.figsize'] = 7,7\r\n",
        "# sns.set(color_codes=True, font_scale=1.2)\r\n",
        "# %matplotlib inline\r\n",
        "# %config InlineBackend.figure_format = 'retina'\r\n",
        "# %load_ext autoreload\r\n",
        "# %autoreload 2\r\n",
        "\r\n",
        "# from heatmap import heatmap, corrplot"
      ],
      "execution_count": 5,
      "outputs": []
    },
    {
      "cell_type": "code",
      "metadata": {
        "id": "fC5ylkfO4Ewf"
      },
      "source": [
        "# plt.figure(figsize=(20, 20))\r\n",
        "# corrplot(df.corr(), size_scale=300);"
      ],
      "execution_count": 6,
      "outputs": []
    },
    {
      "cell_type": "markdown",
      "metadata": {
        "id": "WDn1yZ4YPh6T"
      },
      "source": [
        "## Label Encoding"
      ]
    },
    {
      "cell_type": "code",
      "metadata": {
        "id": "ONqCh5LS5OX9"
      },
      "source": [
        "df.drop(['age', 'job','marital','education','housing', 'loan', 'day_of_week' ], axis=1, inplace=True)\r\n",
        "# plt.figure(figsize=(10, 10))\r\n",
        "# corrplot(df.corr());"
      ],
      "execution_count": 7,
      "outputs": []
    },
    {
      "cell_type": "code",
      "metadata": {
        "colab": {
          "base_uri": "https://localhost:8080/"
        },
        "id": "tuOBkb-u-89r",
        "outputId": "459afaef-1b97-4590-a212-2a427d9cdd84"
      },
      "source": [
        "df.select_dtypes('object').info()"
      ],
      "execution_count": 8,
      "outputs": [
        {
          "output_type": "stream",
          "text": [
            "<class 'pandas.core.frame.DataFrame'>\n",
            "RangeIndex: 41188 entries, 0 to 41187\n",
            "Data columns (total 5 columns):\n",
            " #   Column      Non-Null Count  Dtype \n",
            "---  ------      --------------  ----- \n",
            " 0   credit      41188 non-null  object\n",
            " 1   contact     41188 non-null  object\n",
            " 2   month       41188 non-null  object\n",
            " 3   poutcome    41188 non-null  object\n",
            " 4   subscribed  41188 non-null  object\n",
            "dtypes: object(5)\n",
            "memory usage: 1.6+ MB\n"
          ],
          "name": "stdout"
        }
      ]
    },
    {
      "cell_type": "markdown",
      "metadata": {
        "id": "LO-sSsAa-89s"
      },
      "source": [
        "Job:\"housemaid\":1,\n",
        "    \"unemployed\":0,\n",
        "    \"entrepreneur\":4,\n",
        "    \"blue-collar\":1,\n",
        "    \"services\":3,\n",
        "    \"admin.\":2,\n",
        "    \"technician\":2,\n",
        "    \"retired\":1,\n",
        "    \"management\":4,\n",
        "    \"self-employed\":3,\n",
        "    \"unknown\":1,\n",
        "    \"student\":0.5\n",
        "    \n",
        "Education:\"basic.4y\":1,\n",
        "          \"basic.6y\":1,\n",
        "          \"basic.9y\":1,\n",
        "          \"high.school\":1,\n",
        "          \"professional.course\":2,\n",
        "          \"university.degree\":2,\n",
        "          \"illiterate\":0.9,\n",
        "          \"unknown\":0.9\n",
        "outcome:\"nonexistent\":0,\n",
        "        \"failure\":0,\n",
        "        \"success\":1\n",
        "Subscribed:\"no\":0,\n",
        "            \"yes\":1"
      ]
    },
    {
      "cell_type": "code",
      "metadata": {
        "id": "fQv_lmac-89s"
      },
      "source": [
        "# dict_job = {\n",
        "#     \"job\":{\n",
        "#         \"housemaid\":1,\n",
        "#         \"unemployed\":0,\n",
        "#         \"entrepreneur\":4,\n",
        "#         \"blue-collar\":1,\n",
        "#         \"services\":3,\n",
        "#         \"admin.\":2,\n",
        "#         \"technician\":2,\n",
        "#         \"retired\":1,\n",
        "#         \"management\":4,\n",
        "#         \"self-employed\":3,\n",
        "#         \"unknown\":1,\n",
        "#         \"student\":0.5\n",
        "#     }}\n",
        "# dict_education = {\n",
        "#     \"education\":{\n",
        "#         \"basic.4y\":1,\n",
        "#         \"basic.6y\":1,\n",
        "#         \"basic.9y\":1,\n",
        "#         \"high.school\":1,\n",
        "#         \"professional.course\":2,\n",
        "#         \"university.degree\":2,\n",
        "#         \"illiterate\":0.9,\n",
        "#         \"unknown\":0.9\n",
        "#     }}\n",
        "dict_poutcome = {\n",
        "    \"poutcome\":{\n",
        "        \"nonexistent\":0,\n",
        "        \"failure\":0,\n",
        "        \"success\":1\n",
        "    }}\n",
        "dict_y = {\n",
        "    \"subscribed\":{\n",
        "        \"no\":0,\n",
        "        \"yes\":1\n",
        "    }}"
      ],
      "execution_count": 9,
      "outputs": []
    },
    {
      "cell_type": "code",
      "metadata": {
        "id": "FdXdAd80-89t"
      },
      "source": [
        "for i in [\n",
        "          # dict_job,\n",
        "          # dict_education,\n",
        "          dict_poutcome,\n",
        "          dict_y\n",
        "          ]:\n",
        "    df.replace(i,inplace=True)"
      ],
      "execution_count": 10,
      "outputs": []
    },
    {
      "cell_type": "code",
      "metadata": {
        "colab": {
          "base_uri": "https://localhost:8080/",
          "height": 197
        },
        "id": "vRFADWo2-89t",
        "outputId": "82d5adff-a68a-4438-f200-c0f0dd1c6f9e"
      },
      "source": [
        "df.head()"
      ],
      "execution_count": 11,
      "outputs": [
        {
          "output_type": "execute_result",
          "data": {
            "text/html": [
              "<div>\n",
              "<style scoped>\n",
              "    .dataframe tbody tr th:only-of-type {\n",
              "        vertical-align: middle;\n",
              "    }\n",
              "\n",
              "    .dataframe tbody tr th {\n",
              "        vertical-align: top;\n",
              "    }\n",
              "\n",
              "    .dataframe thead th {\n",
              "        text-align: right;\n",
              "    }\n",
              "</style>\n",
              "<table border=\"1\" class=\"dataframe\">\n",
              "  <thead>\n",
              "    <tr style=\"text-align: right;\">\n",
              "      <th></th>\n",
              "      <th>credit</th>\n",
              "      <th>contact</th>\n",
              "      <th>month</th>\n",
              "      <th>duration</th>\n",
              "      <th>campaign</th>\n",
              "      <th>pdays</th>\n",
              "      <th>previous</th>\n",
              "      <th>poutcome</th>\n",
              "      <th>emp.var.rate</th>\n",
              "      <th>cons.price.idx</th>\n",
              "      <th>cons.conf.idx</th>\n",
              "      <th>euribor3m</th>\n",
              "      <th>nr.employed</th>\n",
              "      <th>subscribed</th>\n",
              "    </tr>\n",
              "  </thead>\n",
              "  <tbody>\n",
              "    <tr>\n",
              "      <th>0</th>\n",
              "      <td>no</td>\n",
              "      <td>telephone</td>\n",
              "      <td>may</td>\n",
              "      <td>261</td>\n",
              "      <td>1</td>\n",
              "      <td>999</td>\n",
              "      <td>0</td>\n",
              "      <td>0</td>\n",
              "      <td>1.1</td>\n",
              "      <td>93.994</td>\n",
              "      <td>-36.4</td>\n",
              "      <td>4.857</td>\n",
              "      <td>5191.0</td>\n",
              "      <td>0</td>\n",
              "    </tr>\n",
              "    <tr>\n",
              "      <th>1</th>\n",
              "      <td>unknown</td>\n",
              "      <td>telephone</td>\n",
              "      <td>may</td>\n",
              "      <td>149</td>\n",
              "      <td>1</td>\n",
              "      <td>999</td>\n",
              "      <td>0</td>\n",
              "      <td>0</td>\n",
              "      <td>1.1</td>\n",
              "      <td>93.994</td>\n",
              "      <td>-36.4</td>\n",
              "      <td>4.857</td>\n",
              "      <td>5191.0</td>\n",
              "      <td>0</td>\n",
              "    </tr>\n",
              "    <tr>\n",
              "      <th>2</th>\n",
              "      <td>no</td>\n",
              "      <td>telephone</td>\n",
              "      <td>may</td>\n",
              "      <td>226</td>\n",
              "      <td>1</td>\n",
              "      <td>999</td>\n",
              "      <td>0</td>\n",
              "      <td>0</td>\n",
              "      <td>1.1</td>\n",
              "      <td>93.994</td>\n",
              "      <td>-36.4</td>\n",
              "      <td>4.857</td>\n",
              "      <td>5191.0</td>\n",
              "      <td>0</td>\n",
              "    </tr>\n",
              "    <tr>\n",
              "      <th>3</th>\n",
              "      <td>no</td>\n",
              "      <td>telephone</td>\n",
              "      <td>may</td>\n",
              "      <td>151</td>\n",
              "      <td>1</td>\n",
              "      <td>999</td>\n",
              "      <td>0</td>\n",
              "      <td>0</td>\n",
              "      <td>1.1</td>\n",
              "      <td>93.994</td>\n",
              "      <td>-36.4</td>\n",
              "      <td>4.857</td>\n",
              "      <td>5191.0</td>\n",
              "      <td>0</td>\n",
              "    </tr>\n",
              "    <tr>\n",
              "      <th>4</th>\n",
              "      <td>no</td>\n",
              "      <td>telephone</td>\n",
              "      <td>may</td>\n",
              "      <td>307</td>\n",
              "      <td>1</td>\n",
              "      <td>999</td>\n",
              "      <td>0</td>\n",
              "      <td>0</td>\n",
              "      <td>1.1</td>\n",
              "      <td>93.994</td>\n",
              "      <td>-36.4</td>\n",
              "      <td>4.857</td>\n",
              "      <td>5191.0</td>\n",
              "      <td>0</td>\n",
              "    </tr>\n",
              "  </tbody>\n",
              "</table>\n",
              "</div>"
            ],
            "text/plain": [
              "    credit    contact month  ...  euribor3m  nr.employed  subscribed\n",
              "0       no  telephone   may  ...      4.857       5191.0           0\n",
              "1  unknown  telephone   may  ...      4.857       5191.0           0\n",
              "2       no  telephone   may  ...      4.857       5191.0           0\n",
              "3       no  telephone   may  ...      4.857       5191.0           0\n",
              "4       no  telephone   may  ...      4.857       5191.0           0\n",
              "\n",
              "[5 rows x 14 columns]"
            ]
          },
          "metadata": {
            "tags": []
          },
          "execution_count": 11
        }
      ]
    },
    {
      "cell_type": "code",
      "metadata": {
        "id": "hMCEXz71-89t"
      },
      "source": [
        "#Encoding rest of the un ordinal categorical variable \n",
        "lc_X1 = LabelEncoder()\n",
        "lst = ['credit','contact','month']\n",
        "for i in lst:\n",
        "    df[i] = lc_X1.fit_transform(df[i])"
      ],
      "execution_count": 12,
      "outputs": []
    },
    {
      "cell_type": "code",
      "metadata": {
        "colab": {
          "base_uri": "https://localhost:8080/",
          "height": 197
        },
        "id": "vK9GIKnb-89t",
        "outputId": "aba5223d-ef39-49cd-a1fb-17bb5b896751"
      },
      "source": [
        "df.head()\n",
        "# df.groupby(df['marital']).mean()"
      ],
      "execution_count": 13,
      "outputs": [
        {
          "output_type": "execute_result",
          "data": {
            "text/html": [
              "<div>\n",
              "<style scoped>\n",
              "    .dataframe tbody tr th:only-of-type {\n",
              "        vertical-align: middle;\n",
              "    }\n",
              "\n",
              "    .dataframe tbody tr th {\n",
              "        vertical-align: top;\n",
              "    }\n",
              "\n",
              "    .dataframe thead th {\n",
              "        text-align: right;\n",
              "    }\n",
              "</style>\n",
              "<table border=\"1\" class=\"dataframe\">\n",
              "  <thead>\n",
              "    <tr style=\"text-align: right;\">\n",
              "      <th></th>\n",
              "      <th>credit</th>\n",
              "      <th>contact</th>\n",
              "      <th>month</th>\n",
              "      <th>duration</th>\n",
              "      <th>campaign</th>\n",
              "      <th>pdays</th>\n",
              "      <th>previous</th>\n",
              "      <th>poutcome</th>\n",
              "      <th>emp.var.rate</th>\n",
              "      <th>cons.price.idx</th>\n",
              "      <th>cons.conf.idx</th>\n",
              "      <th>euribor3m</th>\n",
              "      <th>nr.employed</th>\n",
              "      <th>subscribed</th>\n",
              "    </tr>\n",
              "  </thead>\n",
              "  <tbody>\n",
              "    <tr>\n",
              "      <th>0</th>\n",
              "      <td>0</td>\n",
              "      <td>1</td>\n",
              "      <td>6</td>\n",
              "      <td>261</td>\n",
              "      <td>1</td>\n",
              "      <td>999</td>\n",
              "      <td>0</td>\n",
              "      <td>0</td>\n",
              "      <td>1.1</td>\n",
              "      <td>93.994</td>\n",
              "      <td>-36.4</td>\n",
              "      <td>4.857</td>\n",
              "      <td>5191.0</td>\n",
              "      <td>0</td>\n",
              "    </tr>\n",
              "    <tr>\n",
              "      <th>1</th>\n",
              "      <td>1</td>\n",
              "      <td>1</td>\n",
              "      <td>6</td>\n",
              "      <td>149</td>\n",
              "      <td>1</td>\n",
              "      <td>999</td>\n",
              "      <td>0</td>\n",
              "      <td>0</td>\n",
              "      <td>1.1</td>\n",
              "      <td>93.994</td>\n",
              "      <td>-36.4</td>\n",
              "      <td>4.857</td>\n",
              "      <td>5191.0</td>\n",
              "      <td>0</td>\n",
              "    </tr>\n",
              "    <tr>\n",
              "      <th>2</th>\n",
              "      <td>0</td>\n",
              "      <td>1</td>\n",
              "      <td>6</td>\n",
              "      <td>226</td>\n",
              "      <td>1</td>\n",
              "      <td>999</td>\n",
              "      <td>0</td>\n",
              "      <td>0</td>\n",
              "      <td>1.1</td>\n",
              "      <td>93.994</td>\n",
              "      <td>-36.4</td>\n",
              "      <td>4.857</td>\n",
              "      <td>5191.0</td>\n",
              "      <td>0</td>\n",
              "    </tr>\n",
              "    <tr>\n",
              "      <th>3</th>\n",
              "      <td>0</td>\n",
              "      <td>1</td>\n",
              "      <td>6</td>\n",
              "      <td>151</td>\n",
              "      <td>1</td>\n",
              "      <td>999</td>\n",
              "      <td>0</td>\n",
              "      <td>0</td>\n",
              "      <td>1.1</td>\n",
              "      <td>93.994</td>\n",
              "      <td>-36.4</td>\n",
              "      <td>4.857</td>\n",
              "      <td>5191.0</td>\n",
              "      <td>0</td>\n",
              "    </tr>\n",
              "    <tr>\n",
              "      <th>4</th>\n",
              "      <td>0</td>\n",
              "      <td>1</td>\n",
              "      <td>6</td>\n",
              "      <td>307</td>\n",
              "      <td>1</td>\n",
              "      <td>999</td>\n",
              "      <td>0</td>\n",
              "      <td>0</td>\n",
              "      <td>1.1</td>\n",
              "      <td>93.994</td>\n",
              "      <td>-36.4</td>\n",
              "      <td>4.857</td>\n",
              "      <td>5191.0</td>\n",
              "      <td>0</td>\n",
              "    </tr>\n",
              "  </tbody>\n",
              "</table>\n",
              "</div>"
            ],
            "text/plain": [
              "   credit  contact  month  ...  euribor3m  nr.employed  subscribed\n",
              "0       0        1      6  ...      4.857       5191.0           0\n",
              "1       1        1      6  ...      4.857       5191.0           0\n",
              "2       0        1      6  ...      4.857       5191.0           0\n",
              "3       0        1      6  ...      4.857       5191.0           0\n",
              "4       0        1      6  ...      4.857       5191.0           0\n",
              "\n",
              "[5 rows x 14 columns]"
            ]
          },
          "metadata": {
            "tags": []
          },
          "execution_count": 13
        }
      ]
    },
    {
      "cell_type": "code",
      "metadata": {
        "id": "-HCE0NNf-89t"
      },
      "source": [
        "#one hot encoding\n",
        "df_1 = pd.get_dummies(df,\n",
        "                      columns=['credit','contact','month'],\n",
        "                      drop_first=True)"
      ],
      "execution_count": 14,
      "outputs": []
    },
    {
      "cell_type": "code",
      "metadata": {
        "colab": {
          "base_uri": "https://localhost:8080/",
          "height": 235
        },
        "id": "qI_TE6eC-89u",
        "outputId": "52381a4d-66d4-40b9-ec40-425df85eb13f"
      },
      "source": [
        "print(df_1.shape)\n",
        "df_1.head()"
      ],
      "execution_count": 15,
      "outputs": [
        {
          "output_type": "stream",
          "text": [
            "(41188, 23)\n"
          ],
          "name": "stdout"
        },
        {
          "output_type": "execute_result",
          "data": {
            "text/html": [
              "<div>\n",
              "<style scoped>\n",
              "    .dataframe tbody tr th:only-of-type {\n",
              "        vertical-align: middle;\n",
              "    }\n",
              "\n",
              "    .dataframe tbody tr th {\n",
              "        vertical-align: top;\n",
              "    }\n",
              "\n",
              "    .dataframe thead th {\n",
              "        text-align: right;\n",
              "    }\n",
              "</style>\n",
              "<table border=\"1\" class=\"dataframe\">\n",
              "  <thead>\n",
              "    <tr style=\"text-align: right;\">\n",
              "      <th></th>\n",
              "      <th>duration</th>\n",
              "      <th>campaign</th>\n",
              "      <th>pdays</th>\n",
              "      <th>previous</th>\n",
              "      <th>poutcome</th>\n",
              "      <th>emp.var.rate</th>\n",
              "      <th>cons.price.idx</th>\n",
              "      <th>cons.conf.idx</th>\n",
              "      <th>euribor3m</th>\n",
              "      <th>nr.employed</th>\n",
              "      <th>subscribed</th>\n",
              "      <th>credit_1</th>\n",
              "      <th>credit_2</th>\n",
              "      <th>contact_1</th>\n",
              "      <th>month_1</th>\n",
              "      <th>month_2</th>\n",
              "      <th>month_3</th>\n",
              "      <th>month_4</th>\n",
              "      <th>month_5</th>\n",
              "      <th>month_6</th>\n",
              "      <th>month_7</th>\n",
              "      <th>month_8</th>\n",
              "      <th>month_9</th>\n",
              "    </tr>\n",
              "  </thead>\n",
              "  <tbody>\n",
              "    <tr>\n",
              "      <th>0</th>\n",
              "      <td>261</td>\n",
              "      <td>1</td>\n",
              "      <td>999</td>\n",
              "      <td>0</td>\n",
              "      <td>0</td>\n",
              "      <td>1.1</td>\n",
              "      <td>93.994</td>\n",
              "      <td>-36.4</td>\n",
              "      <td>4.857</td>\n",
              "      <td>5191.0</td>\n",
              "      <td>0</td>\n",
              "      <td>0</td>\n",
              "      <td>0</td>\n",
              "      <td>1</td>\n",
              "      <td>0</td>\n",
              "      <td>0</td>\n",
              "      <td>0</td>\n",
              "      <td>0</td>\n",
              "      <td>0</td>\n",
              "      <td>1</td>\n",
              "      <td>0</td>\n",
              "      <td>0</td>\n",
              "      <td>0</td>\n",
              "    </tr>\n",
              "    <tr>\n",
              "      <th>1</th>\n",
              "      <td>149</td>\n",
              "      <td>1</td>\n",
              "      <td>999</td>\n",
              "      <td>0</td>\n",
              "      <td>0</td>\n",
              "      <td>1.1</td>\n",
              "      <td>93.994</td>\n",
              "      <td>-36.4</td>\n",
              "      <td>4.857</td>\n",
              "      <td>5191.0</td>\n",
              "      <td>0</td>\n",
              "      <td>1</td>\n",
              "      <td>0</td>\n",
              "      <td>1</td>\n",
              "      <td>0</td>\n",
              "      <td>0</td>\n",
              "      <td>0</td>\n",
              "      <td>0</td>\n",
              "      <td>0</td>\n",
              "      <td>1</td>\n",
              "      <td>0</td>\n",
              "      <td>0</td>\n",
              "      <td>0</td>\n",
              "    </tr>\n",
              "    <tr>\n",
              "      <th>2</th>\n",
              "      <td>226</td>\n",
              "      <td>1</td>\n",
              "      <td>999</td>\n",
              "      <td>0</td>\n",
              "      <td>0</td>\n",
              "      <td>1.1</td>\n",
              "      <td>93.994</td>\n",
              "      <td>-36.4</td>\n",
              "      <td>4.857</td>\n",
              "      <td>5191.0</td>\n",
              "      <td>0</td>\n",
              "      <td>0</td>\n",
              "      <td>0</td>\n",
              "      <td>1</td>\n",
              "      <td>0</td>\n",
              "      <td>0</td>\n",
              "      <td>0</td>\n",
              "      <td>0</td>\n",
              "      <td>0</td>\n",
              "      <td>1</td>\n",
              "      <td>0</td>\n",
              "      <td>0</td>\n",
              "      <td>0</td>\n",
              "    </tr>\n",
              "    <tr>\n",
              "      <th>3</th>\n",
              "      <td>151</td>\n",
              "      <td>1</td>\n",
              "      <td>999</td>\n",
              "      <td>0</td>\n",
              "      <td>0</td>\n",
              "      <td>1.1</td>\n",
              "      <td>93.994</td>\n",
              "      <td>-36.4</td>\n",
              "      <td>4.857</td>\n",
              "      <td>5191.0</td>\n",
              "      <td>0</td>\n",
              "      <td>0</td>\n",
              "      <td>0</td>\n",
              "      <td>1</td>\n",
              "      <td>0</td>\n",
              "      <td>0</td>\n",
              "      <td>0</td>\n",
              "      <td>0</td>\n",
              "      <td>0</td>\n",
              "      <td>1</td>\n",
              "      <td>0</td>\n",
              "      <td>0</td>\n",
              "      <td>0</td>\n",
              "    </tr>\n",
              "    <tr>\n",
              "      <th>4</th>\n",
              "      <td>307</td>\n",
              "      <td>1</td>\n",
              "      <td>999</td>\n",
              "      <td>0</td>\n",
              "      <td>0</td>\n",
              "      <td>1.1</td>\n",
              "      <td>93.994</td>\n",
              "      <td>-36.4</td>\n",
              "      <td>4.857</td>\n",
              "      <td>5191.0</td>\n",
              "      <td>0</td>\n",
              "      <td>0</td>\n",
              "      <td>0</td>\n",
              "      <td>1</td>\n",
              "      <td>0</td>\n",
              "      <td>0</td>\n",
              "      <td>0</td>\n",
              "      <td>0</td>\n",
              "      <td>0</td>\n",
              "      <td>1</td>\n",
              "      <td>0</td>\n",
              "      <td>0</td>\n",
              "      <td>0</td>\n",
              "    </tr>\n",
              "  </tbody>\n",
              "</table>\n",
              "</div>"
            ],
            "text/plain": [
              "   duration  campaign  pdays  previous  ...  month_6  month_7  month_8  month_9\n",
              "0       261         1    999         0  ...        1        0        0        0\n",
              "1       149         1    999         0  ...        1        0        0        0\n",
              "2       226         1    999         0  ...        1        0        0        0\n",
              "3       151         1    999         0  ...        1        0        0        0\n",
              "4       307         1    999         0  ...        1        0        0        0\n",
              "\n",
              "[5 rows x 23 columns]"
            ]
          },
          "metadata": {
            "tags": []
          },
          "execution_count": 15
        }
      ]
    },
    {
      "cell_type": "markdown",
      "metadata": {
        "id": "rZKM8QpOPbwu"
      },
      "source": [
        "## Splitting the data and Scaling"
      ]
    },
    {
      "cell_type": "code",
      "metadata": {
        "id": "61Ublvft-89u"
      },
      "source": [
        "#Assign Variable\n",
        "X = df_1.drop(columns = 'subscribed',axis=1).values\n",
        "y = df_1['subscribed'].values \n",
        "#split training - test set\n",
        "X_train,X_test,y_train,y_test = train_test_split(X,y,test_size=0.2,random_state=101)"
      ],
      "execution_count": 16,
      "outputs": []
    },
    {
      "cell_type": "code",
      "metadata": {
        "id": "fpvwUzM7-89u"
      },
      "source": [
        "sc = StandardScaler()\n",
        "X_train = sc.fit_transform(X_train)\n",
        "X_test = sc.fit_transform(X_test)"
      ],
      "execution_count": 17,
      "outputs": []
    },
    {
      "cell_type": "markdown",
      "metadata": {
        "id": "jp9TdDEgPz1M"
      },
      "source": [
        "# Printing Results"
      ]
    },
    {
      "cell_type": "code",
      "metadata": {
        "id": "MyoM7rNk-89u"
      },
      "source": [
        "# We are using this function to calculate the accuracy, precision, recall, f1_score etc.\n",
        "# Hyperparams: model = string, labels = y, pred = model.pred(y)\n",
        "def print_scores(model, labels, pred):\n",
        "    # Confusion matrix\n",
        "    accuracy = round(accuracy_score(labels, pred), 3)\n",
        "    precision = round(precision_score(labels, pred), 3)    \n",
        "    recall = round(recall_score(labels, pred), 3)\n",
        "    f1 = round(f1_score(labels, pred), 3)\n",
        "    \n",
        "    cm = confusion_matrix(labels, pred)\n",
        "    df = pd.DataFrame(cm)\n",
        "#     print(df)\n",
        "    \n",
        "    print(f\"TP: {df[0][0]} \")\n",
        "    print(f\"TN: {df[1][1]} \")\n",
        "    print(f\"FP: {df[1][0]} \")\n",
        "    print(f\"FN: {df[0][1]} \")\n",
        "    \n",
        "    print(f\"{model}:: Accuracy: {accuracy}, Precision: {precision}, Recall: {recall}, f1_score: {f1}\")"
      ],
      "execution_count": 18,
      "outputs": []
    },
    {
      "cell_type": "code",
      "metadata": {
        "id": "l6Qlx7eUA_ye"
      },
      "source": [
        "# print the cross-validation results\r\n",
        "def print_cv_result(results):\r\n",
        "    print(f\"Best Params : {results.best_params_}\\n\")\r\n",
        "    \r\n",
        "    means = results.cv_results_['mean_test_score']\r\n",
        "    stds = results.cv_results_['std_test_score']\r\n",
        "    \r\n",
        "    for mean, std, params in zip(means, stds, results.cv_results_['params']):\r\n",
        "        print(f'{round(mean, 3)} (+/-{round(std * 2, 3)}) for {params}')"
      ],
      "execution_count": 19,
      "outputs": []
    },
    {
      "cell_type": "markdown",
      "metadata": {
        "id": "lNwe4-13-89v"
      },
      "source": [
        "# SVM"
      ]
    },
    {
      "cell_type": "code",
      "metadata": {
        "id": "f4uyzHqI-89v",
        "colab": {
          "base_uri": "https://localhost:8080/"
        },
        "outputId": "423163aa-e8c5-4097-b056-7a3fe569a5a5"
      },
      "source": [
        "# Standard\n",
        "\n",
        "start = time()\n",
        "svc = SVC(kernel = \"rbf\", C=10)\n",
        "svc.fit(X_train,y_train)\n",
        "y_pred_svm = svc.predict(X_test)\n",
        "end = time()\n",
        "print(f\"SVM Time:{round((end - start), 5) * 1000}\")\n",
        "print_scores(\"SVM\", y_test, y_pred_svm)"
      ],
      "execution_count": 20,
      "outputs": [
        {
          "output_type": "stream",
          "text": [
            "SVM Time:20783.95\n",
            "TP: 7116 \n",
            "TN: 358 \n",
            "FP: 163 \n",
            "FN: 601 \n",
            "SVM:: Accuracy: 0.907, Precision: 0.687, Recall: 0.373, f1_score: 0.484\n"
          ],
          "name": "stdout"
        }
      ]
    },
    {
      "cell_type": "code",
      "metadata": {
        "id": "t8BrqjXf-89v"
      },
      "source": [
        "# K-Fold Cross Validation\r\n",
        "\r\n",
        "# start = time()\r\n",
        "# svc = SVC()\r\n",
        "# parameters = {\r\n",
        "#     'kernel' : ['linear', 'rbf'],\r\n",
        "#     'C' : [1, 10]\r\n",
        "# }\r\n",
        "\r\n",
        "# cv = GridSearchCV(svc, parameters, cv=5)\r\n",
        "\r\n",
        "# cv.fit(X_train, y_train)\r\n",
        "\r\n",
        "# print_cv_result(cv)\r\n",
        "\r\n",
        "# # best_params = cv.best_params_\r\n",
        "# # print(best_params)\r\n",
        "# # svc = SVC(kernel=best_params['kernel'], C=best_params['C'])\r\n",
        "\r\n",
        "\r\n",
        "# y_pred_svm = cv.predict(X_test)\r\n",
        "# print_scores(\"SVM\", y_test, y_pred_svm)\r\n",
        "\r\n",
        "# end = time()\r\n",
        "# print(f\"SVM Time:{round((end - start), 5) * 1000}\")\r\n"
      ],
      "execution_count": 21,
      "outputs": []
    },
    {
      "cell_type": "markdown",
      "metadata": {
        "id": "aGKzZpF8Nzqk"
      },
      "source": [
        "# Logistic Regression"
      ]
    },
    {
      "cell_type": "code",
      "metadata": {
        "id": "cl5JeNkjMGJb",
        "colab": {
          "base_uri": "https://localhost:8080/"
        },
        "outputId": "e5e86d41-53dd-476c-a367-f40e6f649f2d"
      },
      "source": [
        "lgr = LogisticRegression()\r\n",
        "lgr.fit(X_train, y_train)\r\n",
        "y_pred_lgr = lgr.predict(X_test)\r\n",
        "print_scores(\"LGR\", y_test, y_pred_lgr)"
      ],
      "execution_count": 22,
      "outputs": [
        {
          "output_type": "stream",
          "text": [
            "TP: 7087 \n",
            "TN: 372 \n",
            "FP: 192 \n",
            "FN: 587 \n",
            "LGR:: Accuracy: 0.905, Precision: 0.66, Recall: 0.388, f1_score: 0.489\n"
          ],
          "name": "stdout"
        }
      ]
    },
    {
      "cell_type": "markdown",
      "metadata": {
        "id": "_EAjDJHN-89v"
      },
      "source": [
        "# ANN"
      ]
    },
    {
      "cell_type": "code",
      "metadata": {
        "id": "WA49ZKU0-89v",
        "colab": {
          "base_uri": "https://localhost:8080/"
        },
        "outputId": "c39b3767-34a8-41c7-e816-7a85236185c2"
      },
      "source": [
        "classifier = Sequential()\r\n",
        "print(df_1.shape)"
      ],
      "execution_count": 23,
      "outputs": [
        {
          "output_type": "stream",
          "text": [
            "(41188, 23)\n"
          ],
          "name": "stdout"
        }
      ]
    },
    {
      "cell_type": "markdown",
      "metadata": {
        "id": "mvGz3rO6-89v"
      },
      "source": [
        "##### Configuring the layers\n",
        "* units — number of nodes for first layer\n",
        "* activation — activation function we use hidden layers\n",
        "* kernel_initializer — initiating weight as close as 0\n",
        "* input_dim — number of independent variable in our dataset\n",
        "\n",
        "<!-- ![img](https://miro.medium.com/max/4200/1*GTLzJ0sUmwDPb9uVffnZ6g.png) -->"
      ]
    },
    {
      "cell_type": "code",
      "metadata": {
        "id": "REhAWsjb-89w"
      },
      "source": [
        "classifier.add(Dense(units=13,\n",
        "                     activation='relu',\n",
        "                     kernel_initializer='uniform',\n",
        "                     input_dim=22))\n",
        "classifier.add(Dropout(rate=0.1))"
      ],
      "execution_count": 24,
      "outputs": []
    },
    {
      "cell_type": "code",
      "metadata": {
        "id": "ErvIRA9r-89w"
      },
      "source": [
        "classifier.add(Dense(units=13,\n",
        "                     activation='relu',\n",
        "                     kernel_initializer='uniform'))\n",
        "classifier.add(Dropout(rate=0.1))"
      ],
      "execution_count": 25,
      "outputs": []
    },
    {
      "cell_type": "code",
      "metadata": {
        "id": "ztRPVrha-89w"
      },
      "source": [
        "classifier.add(Dense(units=1,\n",
        "                     activation='sigmoid',\n",
        "                     kernel_initializer='uniform'))"
      ],
      "execution_count": 26,
      "outputs": []
    },
    {
      "cell_type": "code",
      "metadata": {
        "id": "tFt2VnBW-89w"
      },
      "source": [
        "#compile ANN\n",
        "classifier.compile(optimizer='adam',loss='binary_crossentropy',\n",
        "                  metrics=['accuracy'])"
      ],
      "execution_count": 27,
      "outputs": []
    },
    {
      "cell_type": "markdown",
      "metadata": {
        "id": "GTmY3io8-89w"
      },
      "source": [
        "#####  Training and testing\n",
        "\n",
        "* batch_size — number of sample it takes for each iteration\n",
        "* epochs — number of iteration to optimise the model"
      ]
    },
    {
      "cell_type": "code",
      "metadata": {
        "id": "3-vtxlqS-89x",
        "colab": {
          "base_uri": "https://localhost:8080/"
        },
        "outputId": "f562d38e-0a88-4d22-9671-9f7a11403895"
      },
      "source": [
        "#fitting ANN\n",
        "\n",
        "print(X_train.shape, y_train.shape)\n",
        "start = time()\n",
        "classifier.fit(x=X_train, y=y_train, batch_size=10,epochs=100)"
      ],
      "execution_count": null,
      "outputs": [
        {
          "output_type": "stream",
          "text": [
            "(32950, 22) (32950,)\n",
            "Epoch 1/100\n",
            "3295/3295 [==============================] - 3s 918us/step - loss: 0.2165 - accuracy: 0.9036\n",
            "Epoch 2/100\n",
            "3295/3295 [==============================] - 3s 951us/step - loss: 0.1909 - accuracy: 0.9116\n",
            "Epoch 3/100\n",
            "3295/3295 [==============================] - 3s 945us/step - loss: 0.1882 - accuracy: 0.9129\n",
            "Epoch 4/100\n",
            "3295/3295 [==============================] - 3s 938us/step - loss: 0.1878 - accuracy: 0.9134\n",
            "Epoch 5/100\n",
            "3295/3295 [==============================] - 3s 952us/step - loss: 0.1872 - accuracy: 0.9132\n",
            "Epoch 6/100\n",
            "3295/3295 [==============================] - 3s 953us/step - loss: 0.1857 - accuracy: 0.9139\n",
            "Epoch 7/100\n",
            "3295/3295 [==============================] - 3s 975us/step - loss: 0.1851 - accuracy: 0.9142\n",
            "Epoch 8/100\n",
            " 146/3295 [>.............................] - ETA: 3s - loss: 0.1804 - accuracy: 0.9158"
          ],
          "name": "stdout"
        }
      ]
    },
    {
      "cell_type": "code",
      "metadata": {
        "id": "DsncBYC0-89x"
      },
      "source": [
        "y_pred_ann = classifier.predict(X_test)\n",
        "end = time()\n",
        "print(f\"ANN Time:{round((end - start), 5) * 1000}\")\n",
        "\"\"\"\n",
        "y_pred array contains boolean value of whether dependent variable has more than 50% chance of being ‘yes’ or not.\n",
        "\n",
        "If ‘yes’ it will be True, if ‘no’ it will be ‘False’.\n",
        "\"\"\"\n",
        "y_pred_ann = y_pred_ann > 0.5\n",
        "\n",
        "print_scores(\"ANN\", y_test, y_pred_ann)"
      ],
      "execution_count": null,
      "outputs": []
    },
    {
      "cell_type": "markdown",
      "metadata": {
        "id": "gQ9WYcW8ODSV"
      },
      "source": [
        "# References"
      ]
    },
    {
      "cell_type": "markdown",
      "metadata": {
        "id": "WhJDnQEy-89y"
      },
      "source": [
        "* Activation Function : https://www.analyticsvidhya.com/blog/2020/01/fundamentals-deep-learning-activation-functions-when-to-use-them/\n",
        "* Keras : https://medium.com/datadriveninvestor/building-neural-network-using-keras-for-classification-3a3656c726c1\n",
        "* Confusion Matrix : https://towardsdatascience.com/accuracy-precision-recall-or-f1-331fb37c5cb9"
      ]
    }
  ]
}