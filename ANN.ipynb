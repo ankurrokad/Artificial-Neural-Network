{
  "nbformat": 4,
  "nbformat_minor": 0,
  "metadata": {
    "colab": {
      "name": "ANN.ipynb",
      "provenance": [],
      "collapsed_sections": [],
      "include_colab_link": true
    },
    "kernelspec": {
      "display_name": "Python 3",
      "language": "python",
      "name": "python3"
    },
    "language_info": {
      "codemirror_mode": {
        "name": "ipython",
        "version": 3
      },
      "file_extension": ".py",
      "mimetype": "text/x-python",
      "name": "python",
      "nbconvert_exporter": "python",
      "pygments_lexer": "ipython3",
      "version": "3.8.3"
    }
  },
  "cells": [
    {
      "cell_type": "markdown",
      "metadata": {
        "id": "view-in-github",
        "colab_type": "text"
      },
      "source": [
        "<a href=\"https://colab.research.google.com/github/ankurrokad/Artificial-Neural-Network/blob/Ankur/ANN.ipynb\" target=\"_parent\"><img src=\"https://colab.research.google.com/assets/colab-badge.svg\" alt=\"Open In Colab\"/></a>"
      ]
    },
    {
      "cell_type": "markdown",
      "metadata": {
        "id": "B_fiEC8Z-89i"
      },
      "source": [
        "### Problem\n",
        "\n",
        "**Our goal is to predict , when customer service representative call the customer, will they subscribe for a bank term deposit or not?**\n",
        "\n",
        "**Dataset : https://archive.ics.uci.edu/ml/datasets/Bank+Marketing**\n",
        "\n",
        "### Team\n",
        "\n",
        "* [Ankur Rokad](https://github.com/ankurrokad)\n",
        "* [Sahista Patel](https://github.com/Sahista-Patel)\n",
        "* [Murali Krishna](https://github.com/muralikrishnarar)\n",
        "* [Gursanjam Kaur](https://github.com/sv2021)\n",
        "\n",
        "\n"
      ]
    },
    {
      "cell_type": "code",
      "metadata": {
        "id": "9blIbfX4-89n"
      },
      "source": [
        "import pandas as pd\n",
        "import numpy as np\n",
        "import matplotlib.pyplot as plot\n",
        "import seaborn as sos\n",
        "from sklearn.model_selection import train_test_split, GridSearchCV\n",
        "from sklearn.preprocessing import LabelEncoder, StandardScaler\n",
        "from sklearn.metrics import f1_score, accuracy_score, precision_score, recall_score, confusion_matrix\n",
        "from sklearn.linear_model import LogisticRegression\n",
        "from sklearn.svm import SVC\n",
        "from time import time"
      ],
      "execution_count": 11,
      "outputs": []
    },
    {
      "cell_type": "code",
      "metadata": {
        "id": "ldK4MZYC-89o"
      },
      "source": [
        "#ANN Model\n",
        "from keras.models import Sequential\n",
        "from keras.layers import Dense, Dropout"
      ],
      "execution_count": 12,
      "outputs": []
    },
    {
      "cell_type": "code",
      "metadata": {
        "id": "-rT6pWNcyYoa"
      },
      "source": [
        "import seaborn as sns\r\n",
        "import matplotlib.pyplot as plt"
      ],
      "execution_count": 13,
      "outputs": []
    },
    {
      "cell_type": "code",
      "metadata": {
        "colab": {
          "base_uri": "https://localhost:8080/",
          "height": 215
        },
        "id": "TKviD9z_-89o",
        "outputId": "34456f6c-11e7-47a1-f18f-e35bc8d9a2ad"
      },
      "source": [
        "df = pd.read_csv('https://raw.githubusercontent.com/ankurrokad/Artificial-Neural-Network/main/bank-additional-full.csv', sep=';')\n",
        "df.columns = ['age', 'job', 'marital', 'education', 'credit', 'housing', 'loan','contact', 'month', 'day_of_week',\n",
        "              'duration', 'campaign', 'pdays','previous', 'poutcome', 'emp.var.rate', 'cons.price.idx','cons.conf.idx',\n",
        "              'euribor3m', 'nr.employed', 'subscribed']\n",
        "df.head()\n"
      ],
      "execution_count": 14,
      "outputs": [
        {
          "output_type": "execute_result",
          "data": {
            "text/html": [
              "<div>\n",
              "<style scoped>\n",
              "    .dataframe tbody tr th:only-of-type {\n",
              "        vertical-align: middle;\n",
              "    }\n",
              "\n",
              "    .dataframe tbody tr th {\n",
              "        vertical-align: top;\n",
              "    }\n",
              "\n",
              "    .dataframe thead th {\n",
              "        text-align: right;\n",
              "    }\n",
              "</style>\n",
              "<table border=\"1\" class=\"dataframe\">\n",
              "  <thead>\n",
              "    <tr style=\"text-align: right;\">\n",
              "      <th></th>\n",
              "      <th>age</th>\n",
              "      <th>job</th>\n",
              "      <th>marital</th>\n",
              "      <th>education</th>\n",
              "      <th>credit</th>\n",
              "      <th>housing</th>\n",
              "      <th>loan</th>\n",
              "      <th>contact</th>\n",
              "      <th>month</th>\n",
              "      <th>day_of_week</th>\n",
              "      <th>duration</th>\n",
              "      <th>campaign</th>\n",
              "      <th>pdays</th>\n",
              "      <th>previous</th>\n",
              "      <th>poutcome</th>\n",
              "      <th>emp.var.rate</th>\n",
              "      <th>cons.price.idx</th>\n",
              "      <th>cons.conf.idx</th>\n",
              "      <th>euribor3m</th>\n",
              "      <th>nr.employed</th>\n",
              "      <th>subscribed</th>\n",
              "    </tr>\n",
              "  </thead>\n",
              "  <tbody>\n",
              "    <tr>\n",
              "      <th>0</th>\n",
              "      <td>56</td>\n",
              "      <td>housemaid</td>\n",
              "      <td>married</td>\n",
              "      <td>basic.4y</td>\n",
              "      <td>no</td>\n",
              "      <td>no</td>\n",
              "      <td>no</td>\n",
              "      <td>telephone</td>\n",
              "      <td>may</td>\n",
              "      <td>mon</td>\n",
              "      <td>261</td>\n",
              "      <td>1</td>\n",
              "      <td>999</td>\n",
              "      <td>0</td>\n",
              "      <td>nonexistent</td>\n",
              "      <td>1.1</td>\n",
              "      <td>93.994</td>\n",
              "      <td>-36.4</td>\n",
              "      <td>4.857</td>\n",
              "      <td>5191.0</td>\n",
              "      <td>no</td>\n",
              "    </tr>\n",
              "    <tr>\n",
              "      <th>1</th>\n",
              "      <td>57</td>\n",
              "      <td>services</td>\n",
              "      <td>married</td>\n",
              "      <td>high.school</td>\n",
              "      <td>unknown</td>\n",
              "      <td>no</td>\n",
              "      <td>no</td>\n",
              "      <td>telephone</td>\n",
              "      <td>may</td>\n",
              "      <td>mon</td>\n",
              "      <td>149</td>\n",
              "      <td>1</td>\n",
              "      <td>999</td>\n",
              "      <td>0</td>\n",
              "      <td>nonexistent</td>\n",
              "      <td>1.1</td>\n",
              "      <td>93.994</td>\n",
              "      <td>-36.4</td>\n",
              "      <td>4.857</td>\n",
              "      <td>5191.0</td>\n",
              "      <td>no</td>\n",
              "    </tr>\n",
              "    <tr>\n",
              "      <th>2</th>\n",
              "      <td>37</td>\n",
              "      <td>services</td>\n",
              "      <td>married</td>\n",
              "      <td>high.school</td>\n",
              "      <td>no</td>\n",
              "      <td>yes</td>\n",
              "      <td>no</td>\n",
              "      <td>telephone</td>\n",
              "      <td>may</td>\n",
              "      <td>mon</td>\n",
              "      <td>226</td>\n",
              "      <td>1</td>\n",
              "      <td>999</td>\n",
              "      <td>0</td>\n",
              "      <td>nonexistent</td>\n",
              "      <td>1.1</td>\n",
              "      <td>93.994</td>\n",
              "      <td>-36.4</td>\n",
              "      <td>4.857</td>\n",
              "      <td>5191.0</td>\n",
              "      <td>no</td>\n",
              "    </tr>\n",
              "    <tr>\n",
              "      <th>3</th>\n",
              "      <td>40</td>\n",
              "      <td>admin.</td>\n",
              "      <td>married</td>\n",
              "      <td>basic.6y</td>\n",
              "      <td>no</td>\n",
              "      <td>no</td>\n",
              "      <td>no</td>\n",
              "      <td>telephone</td>\n",
              "      <td>may</td>\n",
              "      <td>mon</td>\n",
              "      <td>151</td>\n",
              "      <td>1</td>\n",
              "      <td>999</td>\n",
              "      <td>0</td>\n",
              "      <td>nonexistent</td>\n",
              "      <td>1.1</td>\n",
              "      <td>93.994</td>\n",
              "      <td>-36.4</td>\n",
              "      <td>4.857</td>\n",
              "      <td>5191.0</td>\n",
              "      <td>no</td>\n",
              "    </tr>\n",
              "    <tr>\n",
              "      <th>4</th>\n",
              "      <td>56</td>\n",
              "      <td>services</td>\n",
              "      <td>married</td>\n",
              "      <td>high.school</td>\n",
              "      <td>no</td>\n",
              "      <td>no</td>\n",
              "      <td>yes</td>\n",
              "      <td>telephone</td>\n",
              "      <td>may</td>\n",
              "      <td>mon</td>\n",
              "      <td>307</td>\n",
              "      <td>1</td>\n",
              "      <td>999</td>\n",
              "      <td>0</td>\n",
              "      <td>nonexistent</td>\n",
              "      <td>1.1</td>\n",
              "      <td>93.994</td>\n",
              "      <td>-36.4</td>\n",
              "      <td>4.857</td>\n",
              "      <td>5191.0</td>\n",
              "      <td>no</td>\n",
              "    </tr>\n",
              "  </tbody>\n",
              "</table>\n",
              "</div>"
            ],
            "text/plain": [
              "   age        job  marital  ... euribor3m nr.employed subscribed\n",
              "0   56  housemaid  married  ...     4.857      5191.0         no\n",
              "1   57   services  married  ...     4.857      5191.0         no\n",
              "2   37   services  married  ...     4.857      5191.0         no\n",
              "3   40     admin.  married  ...     4.857      5191.0         no\n",
              "4   56   services  married  ...     4.857      5191.0         no\n",
              "\n",
              "[5 rows x 21 columns]"
            ]
          },
          "metadata": {
            "tags": []
          },
          "execution_count": 14
        }
      ]
    },
    {
      "cell_type": "markdown",
      "metadata": {
        "id": "7sUoA3Mk-89p"
      },
      "source": [
        "# Dataset Discription\n",
        "\n",
        "### User Details:\n",
        "\n",
        "1 - age (numeric)\n",
        "\n",
        "2 - job : type of job (categorical: 'admin.','blue-collar','entrepreneur','housemaid','management','retired','self-employed','services','student','technician','unemployed','unknown')\n",
        "\n",
        "3 - marital : marital status (categorical: 'divorced','married','single','unknown'; note: 'divorced' means divorced or widowed)\n",
        "\n",
        "4 - education (categorical: 'basic.4y','basic.6y','basic.9y','high.school','illiterate','professional.course','university.degree','unknown')\n",
        "\n",
        "5 - default: has credit in default? (categorical: 'no','yes','unknown')\n",
        "\n",
        "6 - housing: has housing loan? (categorical: 'no','yes','unknown')\n",
        "\n",
        "7 - loan: has personal loan? (categorical: 'no','yes','unknown')\n",
        "\n",
        "### Related with the last contact of the current campaign:\n",
        "8 - contact: contact communication type (categorical: 'cellular','telephone')\n",
        "\n",
        "9 - month: last contact month of year (categorical: 'jan', 'feb', 'mar', ..., 'nov', 'dec')\n",
        "\n",
        "10 - day_of_week: last contact day of the week (categorical: 'mon','tue','wed','thu','fri')\n",
        "\n",
        "11 - duration: last contact duration, in seconds (numeric). Important note: this attribute highly affects the output target (e.g., if duration=0 then y='no'). Yet, the duration is not known before a call is performed. Also, after the end of the call y is obviously known. Thus, this input should only be included for benchmark purposes and should be discarded if the intention is to have a realistic predictive model.\n",
        "\n",
        "# Other attributes:\n",
        "12 - campaign: number of contacts performed during this campaign and for this client (numeric, includes last contact)\n",
        "\n",
        "13 - pdays: number of days that passed by after the client was last contacted from a previous campaign (numeric; 999 means client was not previously contacted)\n",
        "\n",
        "14 - previous: number of contacts performed before this campaign and for this client (numeric)\n",
        "\n",
        "15 - poutcome: outcome of the previous marketing campaign (categorical: 'failure','nonexistent','success')\n",
        "\n",
        "# Social and economic context attributes\n",
        "16 - emp.var.rate: employment variation rate - quarterly indicator (numeric)\n",
        "\n",
        "17 - cons.price.idx: consumer price index - monthly indicator (numeric)\n",
        "\n",
        "18 - cons.conf.idx: consumer confidence index - monthly indicator (numeric)\n",
        "\n",
        "19 - euribor3m: euribor 3 month rate - daily indicator (numeric)\n",
        "\n",
        "20 - nr.employed: number of employees - quarterly indicator (numeric)\n",
        "\n",
        "# Output variable (desired target):\n",
        "21 - y - has the client subscribed a term deposit? (binary: 'yes','no')"
      ]
    },
    {
      "cell_type": "code",
      "metadata": {
        "colab": {
          "base_uri": "https://localhost:8080/"
        },
        "id": "tWwbpeb0TAEN",
        "outputId": "d4037561-1ed3-4fe8-b63f-6a9e21f33b13"
      },
      "source": [
        "df['subscribed'].value_counts()/41188"
      ],
      "execution_count": 15,
      "outputs": [
        {
          "output_type": "execute_result",
          "data": {
            "text/plain": [
              "no     0.887346\n",
              "yes    0.112654\n",
              "Name: subscribed, dtype: float64"
            ]
          },
          "metadata": {
            "tags": []
          },
          "execution_count": 15
        }
      ]
    },
    {
      "cell_type": "code",
      "metadata": {
        "colab": {
          "base_uri": "https://localhost:8080/"
        },
        "id": "06LmBa__-89q",
        "outputId": "b1028b3d-7223-40a2-cb1d-45de4bc9ca5e"
      },
      "source": [
        "df.isnull().sum()"
      ],
      "execution_count": 16,
      "outputs": [
        {
          "output_type": "execute_result",
          "data": {
            "text/plain": [
              "age               0\n",
              "job               0\n",
              "marital           0\n",
              "education         0\n",
              "credit            0\n",
              "housing           0\n",
              "loan              0\n",
              "contact           0\n",
              "month             0\n",
              "day_of_week       0\n",
              "duration          0\n",
              "campaign          0\n",
              "pdays             0\n",
              "previous          0\n",
              "poutcome          0\n",
              "emp.var.rate      0\n",
              "cons.price.idx    0\n",
              "cons.conf.idx     0\n",
              "euribor3m         0\n",
              "nr.employed       0\n",
              "subscribed        0\n",
              "dtype: int64"
            ]
          },
          "metadata": {
            "tags": []
          },
          "execution_count": 16
        }
      ]
    },
    {
      "cell_type": "markdown",
      "metadata": {
        "id": "htWsFk1M-89q"
      },
      "source": [
        "We dont have any null values, so no need to do any imputation or anything"
      ]
    },
    {
      "cell_type": "markdown",
      "metadata": {
        "id": "uhDL54zf-89r"
      },
      "source": [
        "# Pre processing"
      ]
    },
    {
      "cell_type": "markdown",
      "metadata": {
        "id": "0F8od8Xq20Oa"
      },
      "source": [
        "## Feature Eng."
      ]
    },
    {
      "cell_type": "code",
      "metadata": {
        "id": "fC5ylkfO4Ewf",
        "colab": {
          "base_uri": "https://localhost:8080/",
          "height": 564
        },
        "outputId": "c0ec9b76-c1bc-466b-99fd-58cb48a71100"
      },
      "source": [
        "corr = df.corr()\r\n",
        "print(f\"Corr  {corr}\")\r\n",
        "sns.heatmap(\r\n",
        "    corr, \r\n",
        "    vmin=-1, vmax=1, center=0,\r\n",
        "    cmap=sns.diverging_palette(20, 220, n=200),\r\n",
        "    square=True\r\n",
        ")"
      ],
      "execution_count": 17,
      "outputs": [
        {
          "output_type": "stream",
          "text": [
            "Corr                       age  duration  ...  euribor3m  nr.employed\n",
            "age             1.000000 -0.000866  ...   0.010767    -0.017725\n",
            "duration       -0.000866  1.000000  ...  -0.032897    -0.044703\n",
            "campaign        0.004594 -0.071699  ...   0.135133     0.144095\n",
            "pdays          -0.034369 -0.047577  ...   0.296899     0.372605\n",
            "previous        0.024365  0.020640  ...  -0.454494    -0.501333\n",
            "emp.var.rate   -0.000371 -0.027968  ...   0.972245     0.906970\n",
            "cons.price.idx  0.000857  0.005312  ...   0.688230     0.522034\n",
            "cons.conf.idx   0.129372 -0.008173  ...   0.277686     0.100513\n",
            "euribor3m       0.010767 -0.032897  ...   1.000000     0.945154\n",
            "nr.employed    -0.017725 -0.044703  ...   0.945154     1.000000\n",
            "\n",
            "[10 rows x 10 columns]\n"
          ],
          "name": "stdout"
        },
        {
          "output_type": "execute_result",
          "data": {
            "text/plain": [
              "<matplotlib.axes._subplots.AxesSubplot at 0x7f856376f2b0>"
            ]
          },
          "metadata": {
            "tags": []
          },
          "execution_count": 17
        },
        {
          "output_type": "display_data",
          "data": {
            "image/png": "[encoded data removed]",
            "text/plain": [
              "<Figure size 432x288 with 2 Axes>"
            ]
          },
          "metadata": {
            "tags": [],
            "needs_background": "light"
          }
        }
      ]
    },
    {
      "cell_type": "markdown",
      "metadata": {
        "id": "WDn1yZ4YPh6T"
      },
      "source": [
        "## Label Encoding"
      ]
    },
    {
      "cell_type": "code",
      "metadata": {
        "id": "ONqCh5LS5OX9"
      },
      "source": [
        "df.drop(['age', 'job','marital','education','housing', 'loan', 'day_of_week' ], axis=1, inplace=True)"
      ],
      "execution_count": 18,
      "outputs": []
    },
    {
      "cell_type": "code",
      "metadata": {
        "colab": {
          "base_uri": "https://localhost:8080/"
        },
        "id": "tuOBkb-u-89r",
        "outputId": "a5be037c-dd5a-458e-bd22-36bdd5b2ddcc"
      },
      "source": [
        "df.select_dtypes('object').info()"
      ],
      "execution_count": 19,
      "outputs": [
        {
          "output_type": "stream",
          "text": [
            "<class 'pandas.core.frame.DataFrame'>\n",
            "RangeIndex: 41188 entries, 0 to 41187\n",
            "Data columns (total 5 columns):\n",
            " #   Column      Non-Null Count  Dtype \n",
            "---  ------      --------------  ----- \n",
            " 0   credit      41188 non-null  object\n",
            " 1   contact     41188 non-null  object\n",
            " 2   month       41188 non-null  object\n",
            " 3   poutcome    41188 non-null  object\n",
            " 4   subscribed  41188 non-null  object\n",
            "dtypes: object(5)\n",
            "memory usage: 1.6+ MB\n"
          ],
          "name": "stdout"
        }
      ]
    },
    {
      "cell_type": "code",
      "metadata": {
        "id": "fQv_lmac-89s"
      },
      "source": [
        "dict_poutcome = {\n",
        "    \"poutcome\":{\n",
        "        \"nonexistent\":0,\n",
        "        \"failure\":0,\n",
        "        \"success\":1\n",
        "    }}\n",
        "dict_y = {\n",
        "    \"subscribed\":{\n",
        "        \"no\":0,\n",
        "        \"yes\":1\n",
        "    }}"
      ],
      "execution_count": 20,
      "outputs": []
    },
    {
      "cell_type": "code",
      "metadata": {
        "id": "FdXdAd80-89t"
      },
      "source": [
        "for i in [dict_poutcome,dict_y]:\n",
        "    df.replace(i,inplace=True)"
      ],
      "execution_count": 21,
      "outputs": []
    },
    {
      "cell_type": "code",
      "metadata": {
        "colab": {
          "base_uri": "https://localhost:8080/",
          "height": 215
        },
        "id": "vRFADWo2-89t",
        "outputId": "318eb095-ef31-4c63-b784-44e46ac30df3"
      },
      "source": [
        "df.head()"
      ],
      "execution_count": 22,
      "outputs": [
        {
          "output_type": "execute_result",
          "data": {
            "text/html": [
              "<div>\n",
              "<style scoped>\n",
              "    .dataframe tbody tr th:only-of-type {\n",
              "        vertical-align: middle;\n",
              "    }\n",
              "\n",
              "    .dataframe tbody tr th {\n",
              "        vertical-align: top;\n",
              "    }\n",
              "\n",
              "    .dataframe thead th {\n",
              "        text-align: right;\n",
              "    }\n",
              "</style>\n",
              "<table border=\"1\" class=\"dataframe\">\n",
              "  <thead>\n",
              "    <tr style=\"text-align: right;\">\n",
              "      <th></th>\n",
              "      <th>credit</th>\n",
              "      <th>contact</th>\n",
              "      <th>month</th>\n",
              "      <th>duration</th>\n",
              "      <th>campaign</th>\n",
              "      <th>pdays</th>\n",
              "      <th>previous</th>\n",
              "      <th>poutcome</th>\n",
              "      <th>emp.var.rate</th>\n",
              "      <th>cons.price.idx</th>\n",
              "      <th>cons.conf.idx</th>\n",
              "      <th>euribor3m</th>\n",
              "      <th>nr.employed</th>\n",
              "      <th>subscribed</th>\n",
              "    </tr>\n",
              "  </thead>\n",
              "  <tbody>\n",
              "    <tr>\n",
              "      <th>0</th>\n",
              "      <td>no</td>\n",
              "      <td>telephone</td>\n",
              "      <td>may</td>\n",
              "      <td>261</td>\n",
              "      <td>1</td>\n",
              "      <td>999</td>\n",
              "      <td>0</td>\n",
              "      <td>0</td>\n",
              "      <td>1.1</td>\n",
              "      <td>93.994</td>\n",
              "      <td>-36.4</td>\n",
              "      <td>4.857</td>\n",
              "      <td>5191.0</td>\n",
              "      <td>0</td>\n",
              "    </tr>\n",
              "    <tr>\n",
              "      <th>1</th>\n",
              "      <td>unknown</td>\n",
              "      <td>telephone</td>\n",
              "      <td>may</td>\n",
              "      <td>149</td>\n",
              "      <td>1</td>\n",
              "      <td>999</td>\n",
              "      <td>0</td>\n",
              "      <td>0</td>\n",
              "      <td>1.1</td>\n",
              "      <td>93.994</td>\n",
              "      <td>-36.4</td>\n",
              "      <td>4.857</td>\n",
              "      <td>5191.0</td>\n",
              "      <td>0</td>\n",
              "    </tr>\n",
              "    <tr>\n",
              "      <th>2</th>\n",
              "      <td>no</td>\n",
              "      <td>telephone</td>\n",
              "      <td>may</td>\n",
              "      <td>226</td>\n",
              "      <td>1</td>\n",
              "      <td>999</td>\n",
              "      <td>0</td>\n",
              "      <td>0</td>\n",
              "      <td>1.1</td>\n",
              "      <td>93.994</td>\n",
              "      <td>-36.4</td>\n",
              "      <td>4.857</td>\n",
              "      <td>5191.0</td>\n",
              "      <td>0</td>\n",
              "    </tr>\n",
              "    <tr>\n",
              "      <th>3</th>\n",
              "      <td>no</td>\n",
              "      <td>telephone</td>\n",
              "      <td>may</td>\n",
              "      <td>151</td>\n",
              "      <td>1</td>\n",
              "      <td>999</td>\n",
              "      <td>0</td>\n",
              "      <td>0</td>\n",
              "      <td>1.1</td>\n",
              "      <td>93.994</td>\n",
              "      <td>-36.4</td>\n",
              "      <td>4.857</td>\n",
              "      <td>5191.0</td>\n",
              "      <td>0</td>\n",
              "    </tr>\n",
              "    <tr>\n",
              "      <th>4</th>\n",
              "      <td>no</td>\n",
              "      <td>telephone</td>\n",
              "      <td>may</td>\n",
              "      <td>307</td>\n",
              "      <td>1</td>\n",
              "      <td>999</td>\n",
              "      <td>0</td>\n",
              "      <td>0</td>\n",
              "      <td>1.1</td>\n",
              "      <td>93.994</td>\n",
              "      <td>-36.4</td>\n",
              "      <td>4.857</td>\n",
              "      <td>5191.0</td>\n",
              "      <td>0</td>\n",
              "    </tr>\n",
              "  </tbody>\n",
              "</table>\n",
              "</div>"
            ],
            "text/plain": [
              "    credit    contact month  ...  euribor3m  nr.employed  subscribed\n",
              "0       no  telephone   may  ...      4.857       5191.0           0\n",
              "1  unknown  telephone   may  ...      4.857       5191.0           0\n",
              "2       no  telephone   may  ...      4.857       5191.0           0\n",
              "3       no  telephone   may  ...      4.857       5191.0           0\n",
              "4       no  telephone   may  ...      4.857       5191.0           0\n",
              "\n",
              "[5 rows x 14 columns]"
            ]
          },
          "metadata": {
            "tags": []
          },
          "execution_count": 22
        }
      ]
    },
    {
      "cell_type": "code",
      "metadata": {
        "id": "hMCEXz71-89t"
      },
      "source": [
        "#Encoding rest of the un ordinal categorical variable \n",
        "lc_X1 = LabelEncoder()\n",
        "lst = ['credit','contact','month']\n",
        "for i in lst:\n",
        "    df[i] = lc_X1.fit_transform(df[i])"
      ],
      "execution_count": 23,
      "outputs": []
    },
    {
      "cell_type": "code",
      "metadata": {
        "colab": {
          "base_uri": "https://localhost:8080/",
          "height": 215
        },
        "id": "vK9GIKnb-89t",
        "outputId": "66de8897-6ede-41c3-daac-c570cecab8d7"
      },
      "source": [
        "df.head()\n",
        "# df.groupby(df['marital']).mean()"
      ],
      "execution_count": 24,
      "outputs": [
        {
          "output_type": "execute_result",
          "data": {
            "text/html": [
              "<div>\n",
              "<style scoped>\n",
              "    .dataframe tbody tr th:only-of-type {\n",
              "        vertical-align: middle;\n",
              "    }\n",
              "\n",
              "    .dataframe tbody tr th {\n",
              "        vertical-align: top;\n",
              "    }\n",
              "\n",
              "    .dataframe thead th {\n",
              "        text-align: right;\n",
              "    }\n",
              "</style>\n",
              "<table border=\"1\" class=\"dataframe\">\n",
              "  <thead>\n",
              "    <tr style=\"text-align: right;\">\n",
              "      <th></th>\n",
              "      <th>credit</th>\n",
              "      <th>contact</th>\n",
              "      <th>month</th>\n",
              "      <th>duration</th>\n",
              "      <th>campaign</th>\n",
              "      <th>pdays</th>\n",
              "      <th>previous</th>\n",
              "      <th>poutcome</th>\n",
              "      <th>emp.var.rate</th>\n",
              "      <th>cons.price.idx</th>\n",
              "      <th>cons.conf.idx</th>\n",
              "      <th>euribor3m</th>\n",
              "      <th>nr.employed</th>\n",
              "      <th>subscribed</th>\n",
              "    </tr>\n",
              "  </thead>\n",
              "  <tbody>\n",
              "    <tr>\n",
              "      <th>0</th>\n",
              "      <td>0</td>\n",
              "      <td>1</td>\n",
              "      <td>6</td>\n",
              "      <td>261</td>\n",
              "      <td>1</td>\n",
              "      <td>999</td>\n",
              "      <td>0</td>\n",
              "      <td>0</td>\n",
              "      <td>1.1</td>\n",
              "      <td>93.994</td>\n",
              "      <td>-36.4</td>\n",
              "      <td>4.857</td>\n",
              "      <td>5191.0</td>\n",
              "      <td>0</td>\n",
              "    </tr>\n",
              "    <tr>\n",
              "      <th>1</th>\n",
              "      <td>1</td>\n",
              "      <td>1</td>\n",
              "      <td>6</td>\n",
              "      <td>149</td>\n",
              "      <td>1</td>\n",
              "      <td>999</td>\n",
              "      <td>0</td>\n",
              "      <td>0</td>\n",
              "      <td>1.1</td>\n",
              "      <td>93.994</td>\n",
              "      <td>-36.4</td>\n",
              "      <td>4.857</td>\n",
              "      <td>5191.0</td>\n",
              "      <td>0</td>\n",
              "    </tr>\n",
              "    <tr>\n",
              "      <th>2</th>\n",
              "      <td>0</td>\n",
              "      <td>1</td>\n",
              "      <td>6</td>\n",
              "      <td>226</td>\n",
              "      <td>1</td>\n",
              "      <td>999</td>\n",
              "      <td>0</td>\n",
              "      <td>0</td>\n",
              "      <td>1.1</td>\n",
              "      <td>93.994</td>\n",
              "      <td>-36.4</td>\n",
              "      <td>4.857</td>\n",
              "      <td>5191.0</td>\n",
              "      <td>0</td>\n",
              "    </tr>\n",
              "    <tr>\n",
              "      <th>3</th>\n",
              "      <td>0</td>\n",
              "      <td>1</td>\n",
              "      <td>6</td>\n",
              "      <td>151</td>\n",
              "      <td>1</td>\n",
              "      <td>999</td>\n",
              "      <td>0</td>\n",
              "      <td>0</td>\n",
              "      <td>1.1</td>\n",
              "      <td>93.994</td>\n",
              "      <td>-36.4</td>\n",
              "      <td>4.857</td>\n",
              "      <td>5191.0</td>\n",
              "      <td>0</td>\n",
              "    </tr>\n",
              "    <tr>\n",
              "      <th>4</th>\n",
              "      <td>0</td>\n",
              "      <td>1</td>\n",
              "      <td>6</td>\n",
              "      <td>307</td>\n",
              "      <td>1</td>\n",
              "      <td>999</td>\n",
              "      <td>0</td>\n",
              "      <td>0</td>\n",
              "      <td>1.1</td>\n",
              "      <td>93.994</td>\n",
              "      <td>-36.4</td>\n",
              "      <td>4.857</td>\n",
              "      <td>5191.0</td>\n",
              "      <td>0</td>\n",
              "    </tr>\n",
              "  </tbody>\n",
              "</table>\n",
              "</div>"
            ],
            "text/plain": [
              "   credit  contact  month  ...  euribor3m  nr.employed  subscribed\n",
              "0       0        1      6  ...      4.857       5191.0           0\n",
              "1       1        1      6  ...      4.857       5191.0           0\n",
              "2       0        1      6  ...      4.857       5191.0           0\n",
              "3       0        1      6  ...      4.857       5191.0           0\n",
              "4       0        1      6  ...      4.857       5191.0           0\n",
              "\n",
              "[5 rows x 14 columns]"
            ]
          },
          "metadata": {
            "tags": []
          },
          "execution_count": 24
        }
      ]
    },
    {
      "cell_type": "code",
      "metadata": {
        "id": "-HCE0NNf-89t"
      },
      "source": [
        "#one hot encoding\n",
        "df_1 = pd.get_dummies(df,\n",
        "                      columns=['credit','contact','month'],\n",
        "                      drop_first=True)"
      ],
      "execution_count": 25,
      "outputs": []
    },
    {
      "cell_type": "code",
      "metadata": {
        "colab": {
          "base_uri": "https://localhost:8080/",
          "height": 232
        },
        "id": "qI_TE6eC-89u",
        "outputId": "c4bfe06f-dd98-43d4-c934-57cfdb45643b"
      },
      "source": [
        "print(df_1.shape)\n",
        "df_1.head()"
      ],
      "execution_count": 26,
      "outputs": [
        {
          "output_type": "stream",
          "text": [
            "(41188, 23)\n"
          ],
          "name": "stdout"
        },
        {
          "output_type": "execute_result",
          "data": {
            "text/html": [
              "<div>\n",
              "<style scoped>\n",
              "    .dataframe tbody tr th:only-of-type {\n",
              "        vertical-align: middle;\n",
              "    }\n",
              "\n",
              "    .dataframe tbody tr th {\n",
              "        vertical-align: top;\n",
              "    }\n",
              "\n",
              "    .dataframe thead th {\n",
              "        text-align: right;\n",
              "    }\n",
              "</style>\n",
              "<table border=\"1\" class=\"dataframe\">\n",
              "  <thead>\n",
              "    <tr style=\"text-align: right;\">\n",
              "      <th></th>\n",
              "      <th>duration</th>\n",
              "      <th>campaign</th>\n",
              "      <th>pdays</th>\n",
              "      <th>previous</th>\n",
              "      <th>poutcome</th>\n",
              "      <th>emp.var.rate</th>\n",
              "      <th>cons.price.idx</th>\n",
              "      <th>cons.conf.idx</th>\n",
              "      <th>euribor3m</th>\n",
              "      <th>nr.employed</th>\n",
              "      <th>subscribed</th>\n",
              "      <th>credit_1</th>\n",
              "      <th>credit_2</th>\n",
              "      <th>contact_1</th>\n",
              "      <th>month_1</th>\n",
              "      <th>month_2</th>\n",
              "      <th>month_3</th>\n",
              "      <th>month_4</th>\n",
              "      <th>month_5</th>\n",
              "      <th>month_6</th>\n",
              "      <th>month_7</th>\n",
              "      <th>month_8</th>\n",
              "      <th>month_9</th>\n",
              "    </tr>\n",
              "  </thead>\n",
              "  <tbody>\n",
              "    <tr>\n",
              "      <th>0</th>\n",
              "      <td>261</td>\n",
              "      <td>1</td>\n",
              "      <td>999</td>\n",
              "      <td>0</td>\n",
              "      <td>0</td>\n",
              "      <td>1.1</td>\n",
              "      <td>93.994</td>\n",
              "      <td>-36.4</td>\n",
              "      <td>4.857</td>\n",
              "      <td>5191.0</td>\n",
              "      <td>0</td>\n",
              "      <td>0</td>\n",
              "      <td>0</td>\n",
              "      <td>1</td>\n",
              "      <td>0</td>\n",
              "      <td>0</td>\n",
              "      <td>0</td>\n",
              "      <td>0</td>\n",
              "      <td>0</td>\n",
              "      <td>1</td>\n",
              "      <td>0</td>\n",
              "      <td>0</td>\n",
              "      <td>0</td>\n",
              "    </tr>\n",
              "    <tr>\n",
              "      <th>1</th>\n",
              "      <td>149</td>\n",
              "      <td>1</td>\n",
              "      <td>999</td>\n",
              "      <td>0</td>\n",
              "      <td>0</td>\n",
              "      <td>1.1</td>\n",
              "      <td>93.994</td>\n",
              "      <td>-36.4</td>\n",
              "      <td>4.857</td>\n",
              "      <td>5191.0</td>\n",
              "      <td>0</td>\n",
              "      <td>1</td>\n",
              "      <td>0</td>\n",
              "      <td>1</td>\n",
              "      <td>0</td>\n",
              "      <td>0</td>\n",
              "      <td>0</td>\n",
              "      <td>0</td>\n",
              "      <td>0</td>\n",
              "      <td>1</td>\n",
              "      <td>0</td>\n",
              "      <td>0</td>\n",
              "      <td>0</td>\n",
              "    </tr>\n",
              "    <tr>\n",
              "      <th>2</th>\n",
              "      <td>226</td>\n",
              "      <td>1</td>\n",
              "      <td>999</td>\n",
              "      <td>0</td>\n",
              "      <td>0</td>\n",
              "      <td>1.1</td>\n",
              "      <td>93.994</td>\n",
              "      <td>-36.4</td>\n",
              "      <td>4.857</td>\n",
              "      <td>5191.0</td>\n",
              "      <td>0</td>\n",
              "      <td>0</td>\n",
              "      <td>0</td>\n",
              "      <td>1</td>\n",
              "      <td>0</td>\n",
              "      <td>0</td>\n",
              "      <td>0</td>\n",
              "      <td>0</td>\n",
              "      <td>0</td>\n",
              "      <td>1</td>\n",
              "      <td>0</td>\n",
              "      <td>0</td>\n",
              "      <td>0</td>\n",
              "    </tr>\n",
              "    <tr>\n",
              "      <th>3</th>\n",
              "      <td>151</td>\n",
              "      <td>1</td>\n",
              "      <td>999</td>\n",
              "      <td>0</td>\n",
              "      <td>0</td>\n",
              "      <td>1.1</td>\n",
              "      <td>93.994</td>\n",
              "      <td>-36.4</td>\n",
              "      <td>4.857</td>\n",
              "      <td>5191.0</td>\n",
              "      <td>0</td>\n",
              "      <td>0</td>\n",
              "      <td>0</td>\n",
              "      <td>1</td>\n",
              "      <td>0</td>\n",
              "      <td>0</td>\n",
              "      <td>0</td>\n",
              "      <td>0</td>\n",
              "      <td>0</td>\n",
              "      <td>1</td>\n",
              "      <td>0</td>\n",
              "      <td>0</td>\n",
              "      <td>0</td>\n",
              "    </tr>\n",
              "    <tr>\n",
              "      <th>4</th>\n",
              "      <td>307</td>\n",
              "      <td>1</td>\n",
              "      <td>999</td>\n",
              "      <td>0</td>\n",
              "      <td>0</td>\n",
              "      <td>1.1</td>\n",
              "      <td>93.994</td>\n",
              "      <td>-36.4</td>\n",
              "      <td>4.857</td>\n",
              "      <td>5191.0</td>\n",
              "      <td>0</td>\n",
              "      <td>0</td>\n",
              "      <td>0</td>\n",
              "      <td>1</td>\n",
              "      <td>0</td>\n",
              "      <td>0</td>\n",
              "      <td>0</td>\n",
              "      <td>0</td>\n",
              "      <td>0</td>\n",
              "      <td>1</td>\n",
              "      <td>0</td>\n",
              "      <td>0</td>\n",
              "      <td>0</td>\n",
              "    </tr>\n",
              "  </tbody>\n",
              "</table>\n",
              "</div>"
            ],
            "text/plain": [
              "   duration  campaign  pdays  previous  ...  month_6  month_7  month_8  month_9\n",
              "0       261         1    999         0  ...        1        0        0        0\n",
              "1       149         1    999         0  ...        1        0        0        0\n",
              "2       226         1    999         0  ...        1        0        0        0\n",
              "3       151         1    999         0  ...        1        0        0        0\n",
              "4       307         1    999         0  ...        1        0        0        0\n",
              "\n",
              "[5 rows x 23 columns]"
            ]
          },
          "metadata": {
            "tags": []
          },
          "execution_count": 26
        }
      ]
    },
    {
      "cell_type": "markdown",
      "metadata": {
        "id": "rZKM8QpOPbwu"
      },
      "source": [
        "## Splitting the data and Scaling"
      ]
    },
    {
      "cell_type": "code",
      "metadata": {
        "id": "61Ublvft-89u"
      },
      "source": [
        "#Assign Variable\n",
        "X = df_1.drop(columns = 'subscribed',axis=1).values\n",
        "y = df_1['subscribed'].values \n",
        "#split training - test set\n",
        "X_train,X_test,y_train,y_test = train_test_split(X,y,test_size=0.2,random_state=101)"
      ],
      "execution_count": 27,
      "outputs": []
    },
    {
      "cell_type": "code",
      "metadata": {
        "id": "fpvwUzM7-89u"
      },
      "source": [
        "sc = StandardScaler()\n",
        "X_train = sc.fit_transform(X_train)\n",
        "X_test = sc.fit_transform(X_test)"
      ],
      "execution_count": 28,
      "outputs": []
    },
    {
      "cell_type": "markdown",
      "metadata": {
        "id": "jp9TdDEgPz1M"
      },
      "source": [
        "# Printing Results"
      ]
    },
    {
      "cell_type": "code",
      "metadata": {
        "id": "MyoM7rNk-89u"
      },
      "source": [
        "# We are using this function to calculate the accuracy, precision, recall, f1_score etc.\n",
        "# Hyperparams: model = string, labels = y, pred = model.pred(y)\n",
        "def print_scores(model, labels, pred):\n",
        "    # Confusion matrix\n",
        "    accuracy = round(accuracy_score(labels, pred), 3)\n",
        "    precision = round(precision_score(labels, pred), 3)    \n",
        "    recall = round(recall_score(labels, pred), 3)\n",
        "    f1 = round(f1_score(labels, pred), 3)\n",
        "    \n",
        "    cm = confusion_matrix(labels, pred)\n",
        "    df = pd.DataFrame(cm)\n",
        "#     print(df)\n",
        "    \n",
        "    print(f\"TP: {df[0][0]} \")\n",
        "    print(f\"TN: {df[1][1]} \")\n",
        "    print(f\"FP: {df[1][0]} \")\n",
        "    print(f\"FN: {df[0][1]} \")\n",
        "    \n",
        "    print(f\"{model}:: Accuracy: {accuracy}, Precision: {precision}, Recall: {recall}, f1_score: {f1}\")"
      ],
      "execution_count": 29,
      "outputs": []
    },
    {
      "cell_type": "code",
      "metadata": {
        "id": "l6Qlx7eUA_ye"
      },
      "source": [
        "# print the cross-validation results\r\n",
        "def print_cv_result(results):\r\n",
        "    print(f\"Best Params : {results.best_params_}\\n\")\r\n",
        "    \r\n",
        "    means = results.cv_results_['mean_test_score']\r\n",
        "    stds = results.cv_results_['std_test_score']\r\n",
        "    \r\n",
        "    for mean, std, params in zip(means, stds, results.cv_results_['params']):\r\n",
        "        print(f'{round(mean, 3)} (+/-{round(std * 2, 3)}) for {params}')"
      ],
      "execution_count": 30,
      "outputs": []
    },
    {
      "cell_type": "markdown",
      "metadata": {
        "id": "lNwe4-13-89v"
      },
      "source": [
        "# SVM"
      ]
    },
    {
      "cell_type": "code",
      "metadata": {
        "colab": {
          "base_uri": "https://localhost:8080/"
        },
        "id": "f4uyzHqI-89v",
        "outputId": "97598d9c-6929-4e7a-a58c-4e01999bc6be"
      },
      "source": [
        "# Standard\n",
        "\n",
        "start = time()\n",
        "svc = SVC(kernel = \"rbf\", C=10)\n",
        "svc.fit(X_train,y_train)\n",
        "y_pred_svm = svc.predict(X_test)\n",
        "end = time()\n",
        "print(f\"SVM Time:{round((end - start), 5) * 1000}\")\n",
        "print_scores(\"SVM\", y_test, y_pred_svm)"
      ],
      "execution_count": 31,
      "outputs": [
        {
          "output_type": "stream",
          "text": [
            "SVM Time:21650.66\n",
            "TP: 7116 \n",
            "TN: 358 \n",
            "FP: 163 \n",
            "FN: 601 \n",
            "SVM:: Accuracy: 0.907, Precision: 0.687, Recall: 0.373, f1_score: 0.484\n"
          ],
          "name": "stdout"
        }
      ]
    },
    {
      "cell_type": "code",
      "metadata": {
        "id": "t8BrqjXf-89v"
      },
      "source": [
        "# K-Fold Cross Validation\r\n",
        "\r\n",
        "# start = time()\r\n",
        "# svc = SVC()\r\n",
        "# parameters = {\r\n",
        "#     'kernel' : ['linear', 'rbf'],\r\n",
        "#     'C' : [1, 10]\r\n",
        "# }\r\n",
        "\r\n",
        "# cv = GridSearchCV(svc, parameters, cv=5)\r\n",
        "\r\n",
        "# cv.fit(X_train, y_train)\r\n",
        "\r\n",
        "# print_cv_result(cv)\r\n",
        "\r\n",
        "# # best_params = cv.best_params_\r\n",
        "# # print(best_params)\r\n",
        "# # svc = SVC(kernel=best_params['kernel'], C=best_params['C'])\r\n",
        "\r\n",
        "\r\n",
        "# y_pred_svm = cv.predict(X_test)\r\n",
        "# print_scores(\"SVM\", y_test, y_pred_svm)\r\n",
        "\r\n",
        "# end = time()\r\n",
        "# print(f\"SVM Time:{round((end - start), 5) * 1000}\")\r\n"
      ],
      "execution_count": 32,
      "outputs": []
    },
    {
      "cell_type": "markdown",
      "metadata": {
        "id": "aGKzZpF8Nzqk"
      },
      "source": [
        "# Logistic Regression"
      ]
    },
    {
      "cell_type": "code",
      "metadata": {
        "colab": {
          "base_uri": "https://localhost:8080/"
        },
        "id": "cl5JeNkjMGJb",
        "outputId": "d80a5820-852d-4b8e-8def-1ad60cedf4b6"
      },
      "source": [
        "lgr = LogisticRegression()\r\n",
        "lgr.fit(X_train, y_train)\r\n",
        "y_pred_lgr = lgr.predict(X_test)\r\n",
        "print_scores(\"LGR\", y_test, y_pred_lgr)"
      ],
      "execution_count": 33,
      "outputs": [
        {
          "output_type": "stream",
          "text": [
            "TP: 7087 \n",
            "TN: 372 \n",
            "FP: 192 \n",
            "FN: 587 \n",
            "LGR:: Accuracy: 0.905, Precision: 0.66, Recall: 0.388, f1_score: 0.489\n"
          ],
          "name": "stdout"
        }
      ]
    },
    {
      "cell_type": "markdown",
      "metadata": {
        "id": "_EAjDJHN-89v"
      },
      "source": [
        "# ANN"
      ]
    },
    {
      "cell_type": "code",
      "metadata": {
        "colab": {
          "base_uri": "https://localhost:8080/"
        },
        "id": "WA49ZKU0-89v",
        "outputId": "5eb0f821-37ae-4572-8aee-c4b8318e91fd"
      },
      "source": [
        "classifier = Sequential()\r\n",
        "print(df_1.shape)"
      ],
      "execution_count": 34,
      "outputs": [
        {
          "output_type": "stream",
          "text": [
            "(41188, 23)\n"
          ],
          "name": "stdout"
        }
      ]
    },
    {
      "cell_type": "markdown",
      "metadata": {
        "id": "mvGz3rO6-89v"
      },
      "source": [
        "##### Configuring the layers\n",
        "* units — number of nodes for first layer\n",
        "* activation — activation function we use hidden layers\n",
        "* kernel_initializer — initiating weight as close as 0\n",
        "* input_dim — number of independent variable in our dataset\n",
        "\n",
        "<!-- ![img](https://miro.medium.com/max/4200/1*GTLzJ0sUmwDPb9uVffnZ6g.png) -->"
      ]
    },
    {
      "cell_type": "code",
      "metadata": {
        "id": "REhAWsjb-89w"
      },
      "source": [
        "classifier.add(Dense(units=13,\n",
        "                     activation='relu',\n",
        "                     kernel_initializer='uniform',\n",
        "                     input_dim=22))\n",
        "classifier.add(Dropout(rate=0.1))"
      ],
      "execution_count": 35,
      "outputs": []
    },
    {
      "cell_type": "code",
      "metadata": {
        "id": "ErvIRA9r-89w"
      },
      "source": [
        "classifier.add(Dense(units=13,\n",
        "                     activation='relu',\n",
        "                     kernel_initializer='uniform'))\n",
        "classifier.add(Dropout(rate=0.1))"
      ],
      "execution_count": 36,
      "outputs": []
    },
    {
      "cell_type": "code",
      "metadata": {
        "id": "ztRPVrha-89w"
      },
      "source": [
        "classifier.add(Dense(units=1,\n",
        "                     activation='sigmoid',\n",
        "                     kernel_initializer='uniform'))"
      ],
      "execution_count": 37,
      "outputs": []
    },
    {
      "cell_type": "code",
      "metadata": {
        "id": "tFt2VnBW-89w"
      },
      "source": [
        "#compile ANN\n",
        "classifier.compile(optimizer='adam',loss='binary_crossentropy',\n",
        "                  metrics=['accuracy'])"
      ],
      "execution_count": 38,
      "outputs": []
    },
    {
      "cell_type": "markdown",
      "metadata": {
        "id": "GTmY3io8-89w"
      },
      "source": [
        "#####  Training and testing\n",
        "\n",
        "* batch_size — number of sample it takes for each iteration\n",
        "* epochs — number of iteration to optimise the model"
      ]
    },
    {
      "cell_type": "code",
      "metadata": {
        "colab": {
          "base_uri": "https://localhost:8080/"
        },
        "id": "3-vtxlqS-89x",
        "outputId": "0825a96a-1193-4c12-839b-837d90296725"
      },
      "source": [
        "  #fitting ANN\n",
        "\n",
        "  print(X_train.shape, y_train.shape)\n",
        "  start = time()\n",
        "  history = classifier.fit(x=X_train, y=y_train, batch_size=10,epochs=100)"
      ],
      "execution_count": null,
      "outputs": [
        {
          "output_type": "stream",
          "text": [
            "(32950, 22) (32950,)\n",
            "Epoch 1/100\n",
            "3295/3295 [==============================] - 4s 1ms/step - loss: 0.2172 - accuracy: 0.9032\n",
            "Epoch 2/100\n",
            "3295/3295 [==============================] - 4s 1ms/step - loss: 0.1903 - accuracy: 0.9107\n",
            "Epoch 3/100\n",
            "3295/3295 [==============================] - 4s 1ms/step - loss: 0.1889 - accuracy: 0.9099\n",
            "Epoch 4/100\n",
            "3295/3295 [==============================] - 4s 1ms/step - loss: 0.1871 - accuracy: 0.9086\n",
            "Epoch 5/100\n",
            "3295/3295 [==============================] - 4s 1ms/step - loss: 0.1870 - accuracy: 0.9111\n",
            "Epoch 6/100\n",
            "3295/3295 [==============================] - 4s 1ms/step - loss: 0.1848 - accuracy: 0.9098\n",
            "Epoch 7/100\n",
            "3295/3295 [==============================] - 4s 1ms/step - loss: 0.1842 - accuracy: 0.9138\n",
            "Epoch 8/100\n",
            "3295/3295 [==============================] - 4s 1ms/step - loss: 0.1820 - accuracy: 0.9144\n",
            "Epoch 9/100\n",
            "3295/3295 [==============================] - 4s 1ms/step - loss: 0.1830 - accuracy: 0.9138\n",
            "Epoch 10/100\n",
            "3295/3295 [==============================] - 4s 1ms/step - loss: 0.1828 - accuracy: 0.9148\n",
            "Epoch 11/100\n",
            "3295/3295 [==============================] - 4s 1ms/step - loss: 0.1820 - accuracy: 0.9154\n",
            "Epoch 12/100\n",
            "3295/3295 [==============================] - 4s 1ms/step - loss: 0.1819 - accuracy: 0.9145\n",
            "Epoch 13/100\n",
            "3295/3295 [==============================] - 4s 1ms/step - loss: 0.1812 - accuracy: 0.9148\n",
            "Epoch 14/100\n",
            "3295/3295 [==============================] - 4s 1ms/step - loss: 0.1815 - accuracy: 0.9147\n",
            "Epoch 15/100\n",
            "3295/3295 [==============================] - 4s 1ms/step - loss: 0.1803 - accuracy: 0.9158\n",
            "Epoch 16/100\n",
            "3295/3295 [==============================] - 4s 1ms/step - loss: 0.1808 - accuracy: 0.9158\n",
            "Epoch 17/100\n",
            "3295/3295 [==============================] - 4s 1ms/step - loss: 0.1811 - accuracy: 0.9148\n",
            "Epoch 18/100\n",
            "3295/3295 [==============================] - 4s 1ms/step - loss: 0.1808 - accuracy: 0.9153\n",
            "Epoch 19/100\n",
            "3295/3295 [==============================] - 4s 1ms/step - loss: 0.1805 - accuracy: 0.9155\n",
            "Epoch 20/100\n",
            "3295/3295 [==============================] - 4s 1ms/step - loss: 0.1800 - accuracy: 0.9166\n",
            "Epoch 21/100\n",
            "3295/3295 [==============================] - 4s 1ms/step - loss: 0.1805 - accuracy: 0.9156\n",
            "Epoch 22/100\n",
            "3295/3295 [==============================] - 4s 1ms/step - loss: 0.1805 - accuracy: 0.9167\n",
            "Epoch 23/100\n",
            "3295/3295 [==============================] - 4s 1ms/step - loss: 0.1806 - accuracy: 0.9161\n",
            "Epoch 24/100\n",
            "3295/3295 [==============================] - 4s 1ms/step - loss: 0.1800 - accuracy: 0.9170\n",
            "Epoch 25/100\n",
            "3295/3295 [==============================] - 4s 1ms/step - loss: 0.1811 - accuracy: 0.9166\n",
            "Epoch 26/100\n",
            "3295/3295 [==============================] - 4s 1ms/step - loss: 0.1807 - accuracy: 0.9152\n",
            "Epoch 27/100\n",
            "3295/3295 [==============================] - 4s 1ms/step - loss: 0.1800 - accuracy: 0.9162\n",
            "Epoch 28/100\n",
            "3295/3295 [==============================] - 4s 1ms/step - loss: 0.1799 - accuracy: 0.9176\n",
            "Epoch 29/100\n",
            "3295/3295 [==============================] - 4s 1ms/step - loss: 0.1796 - accuracy: 0.9165\n",
            "Epoch 30/100\n",
            "3295/3295 [==============================] - 4s 1ms/step - loss: 0.1795 - accuracy: 0.9158\n",
            "Epoch 31/100\n",
            "3295/3295 [==============================] - 4s 1ms/step - loss: 0.1801 - accuracy: 0.9165\n",
            "Epoch 32/100\n",
            "3295/3295 [==============================] - 4s 1ms/step - loss: 0.1794 - accuracy: 0.9164\n",
            "Epoch 33/100\n",
            "3295/3295 [==============================] - 4s 1ms/step - loss: 0.1801 - accuracy: 0.9153\n",
            "Epoch 34/100\n",
            "  84/3295 [..............................] - ETA: 3s - loss: 0.1778 - accuracy: 0.9298"
          ],
          "name": "stdout"
        }
      ]
    },
    {
      "cell_type": "code",
      "metadata": {
        "id": "DsncBYC0-89x"
      },
      "source": [
        "y_pred_ann = classifier.predict(X_test)\n",
        "end = time()\n",
        "print(f\"ANN Time:{round((end - start), 5) * 1000}\")\n",
        "\"\"\"\n",
        "y_pred array contains boolean value of whether dependent variable has more than 50% chance of being ‘yes’ or not.\n",
        "\n",
        "If ‘yes’ it will be True, if ‘no’ it will be ‘False’.\n",
        "\"\"\"\n",
        "y_pred_ann_bool = y_pred_ann > 0.5\n",
        "\n",
        "print_scores(\"ANN\", y_test, y_pred_ann_bool)"
      ],
      "execution_count": null,
      "outputs": []
    },
    {
      "cell_type": "markdown",
      "metadata": {
        "id": "gQ9WYcW8ODSV"
      },
      "source": [
        "# References"
      ]
    },
    {
      "cell_type": "markdown",
      "metadata": {
        "id": "WhJDnQEy-89y"
      },
      "source": [
        "* Activation Function : https://www.analyticsvidhya.com/blog/2020/01/fundamentals-deep-learning-activation-functions-when-to-use-them/\n",
        "* Keras : https://medium.com/datadriveninvestor/building-neural-network-using-keras-for-classification-3a3656c726c1\n",
        "* Confusion Matrix : https://towardsdatascience.com/accuracy-precision-recall-or-f1-331fb37c5cb9"
      ]
    }
  ]
}