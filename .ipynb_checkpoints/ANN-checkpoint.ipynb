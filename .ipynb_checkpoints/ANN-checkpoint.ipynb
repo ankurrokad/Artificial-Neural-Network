{
 "cells": [
  {
   "cell_type": "markdown",
   "metadata": {
    "colab_type": "text",
    "id": "view-in-github"
   },
   "source": [
    "<a href=\"https://colab.research.google.com/github/ankurrokad/Artificial-Neural-Network/blob/Ankur/ANN.ipynb\" target=\"_parent\"><img src=\"https://colab.research.google.com/assets/colab-badge.svg\" alt=\"Open In Colab\"/></a>"
   ]
  },
  {
   "cell_type": "markdown",
   "metadata": {
    "id": "B_fiEC8Z-89i"
   },
   "source": [
    "### Problem\n",
    "\n",
    "**Our goal is to predict , when customer service representative call the customer, will they subscribe for a bank term deposit or not?**\n",
    "\n",
    "**Dataset : https://archive.ics.uci.edu/ml/datasets/Bank+Marketing**\n",
    "\n",
    "### Team\n",
    "\n",
    "* [Ankur Rokad](https://github.com/ankurrokad)\n",
    "* [Sahista Patel](https://github.com/Sahista-Patel)\n",
    "* [Murali Krishna](https://github.com/muralikrishnarar)\n",
    "* [Gursanjam Kaur](https://github.com/sv2021)\n",
    "\n",
    "\n"
   ]
  },
  {
   "cell_type": "code",
   "execution_count": 1,
   "metadata": {
    "id": "9blIbfX4-89n"
   },
   "outputs": [],
   "source": [
    "import pandas as pd\n",
    "import numpy as np\n",
    "import matplotlib.pyplot as plot\n",
    "import seaborn as sos\n",
    "from sklearn.model_selection import train_test_split, GridSearchCV\n",
    "from sklearn.preprocessing import LabelEncoder, StandardScaler\n",
    "from sklearn.metrics import f1_score, accuracy_score, precision_score, recall_score, confusion_matrix\n",
    "from sklearn.linear_model import LogisticRegression\n",
    "from sklearn.svm import SVC\n",
    "from time import time"
   ]
  },
  {
   "cell_type": "code",
   "execution_count": 2,
   "metadata": {
    "id": "ldK4MZYC-89o"
   },
   "outputs": [],
   "source": [
    "#ANN Model\n",
    "from keras.models import Sequential\n",
    "from keras.layers import Dense, Dropout"
   ]
  },
  {
   "cell_type": "code",
   "execution_count": 3,
   "metadata": {
    "id": "-rT6pWNcyYoa"
   },
   "outputs": [],
   "source": [
    "import seaborn as sns\n",
    "import matplotlib.pyplot as plt"
   ]
  },
  {
   "cell_type": "code",
   "execution_count": 4,
   "metadata": {
    "colab": {
     "base_uri": "https://localhost:8080/",
     "height": 215
    },
    "id": "TKviD9z_-89o",
    "outputId": "34456f6c-11e7-47a1-f18f-e35bc8d9a2ad"
   },
   "outputs": [
    {
     "data": {
      "text/html": [
       "<div>\n",
       "<style scoped>\n",
       "    .dataframe tbody tr th:only-of-type {\n",
       "        vertical-align: middle;\n",
       "    }\n",
       "\n",
       "    .dataframe tbody tr th {\n",
       "        vertical-align: top;\n",
       "    }\n",
       "\n",
       "    .dataframe thead th {\n",
       "        text-align: right;\n",
       "    }\n",
       "</style>\n",
       "<table border=\"1\" class=\"dataframe\">\n",
       "  <thead>\n",
       "    <tr style=\"text-align: right;\">\n",
       "      <th></th>\n",
       "      <th>age</th>\n",
       "      <th>job</th>\n",
       "      <th>marital</th>\n",
       "      <th>education</th>\n",
       "      <th>credit</th>\n",
       "      <th>housing</th>\n",
       "      <th>loan</th>\n",
       "      <th>contact</th>\n",
       "      <th>month</th>\n",
       "      <th>day_of_week</th>\n",
       "      <th>...</th>\n",
       "      <th>campaign</th>\n",
       "      <th>pdays</th>\n",
       "      <th>previous</th>\n",
       "      <th>poutcome</th>\n",
       "      <th>emp.var.rate</th>\n",
       "      <th>cons.price.idx</th>\n",
       "      <th>cons.conf.idx</th>\n",
       "      <th>euribor3m</th>\n",
       "      <th>nr.employed</th>\n",
       "      <th>subscribed</th>\n",
       "    </tr>\n",
       "  </thead>\n",
       "  <tbody>\n",
       "    <tr>\n",
       "      <th>0</th>\n",
       "      <td>56</td>\n",
       "      <td>housemaid</td>\n",
       "      <td>married</td>\n",
       "      <td>basic.4y</td>\n",
       "      <td>no</td>\n",
       "      <td>no</td>\n",
       "      <td>no</td>\n",
       "      <td>telephone</td>\n",
       "      <td>may</td>\n",
       "      <td>mon</td>\n",
       "      <td>...</td>\n",
       "      <td>1</td>\n",
       "      <td>999</td>\n",
       "      <td>0</td>\n",
       "      <td>nonexistent</td>\n",
       "      <td>1.1</td>\n",
       "      <td>93.994</td>\n",
       "      <td>-36.4</td>\n",
       "      <td>4.857</td>\n",
       "      <td>5191.0</td>\n",
       "      <td>no</td>\n",
       "    </tr>\n",
       "    <tr>\n",
       "      <th>1</th>\n",
       "      <td>57</td>\n",
       "      <td>services</td>\n",
       "      <td>married</td>\n",
       "      <td>high.school</td>\n",
       "      <td>unknown</td>\n",
       "      <td>no</td>\n",
       "      <td>no</td>\n",
       "      <td>telephone</td>\n",
       "      <td>may</td>\n",
       "      <td>mon</td>\n",
       "      <td>...</td>\n",
       "      <td>1</td>\n",
       "      <td>999</td>\n",
       "      <td>0</td>\n",
       "      <td>nonexistent</td>\n",
       "      <td>1.1</td>\n",
       "      <td>93.994</td>\n",
       "      <td>-36.4</td>\n",
       "      <td>4.857</td>\n",
       "      <td>5191.0</td>\n",
       "      <td>no</td>\n",
       "    </tr>\n",
       "    <tr>\n",
       "      <th>2</th>\n",
       "      <td>37</td>\n",
       "      <td>services</td>\n",
       "      <td>married</td>\n",
       "      <td>high.school</td>\n",
       "      <td>no</td>\n",
       "      <td>yes</td>\n",
       "      <td>no</td>\n",
       "      <td>telephone</td>\n",
       "      <td>may</td>\n",
       "      <td>mon</td>\n",
       "      <td>...</td>\n",
       "      <td>1</td>\n",
       "      <td>999</td>\n",
       "      <td>0</td>\n",
       "      <td>nonexistent</td>\n",
       "      <td>1.1</td>\n",
       "      <td>93.994</td>\n",
       "      <td>-36.4</td>\n",
       "      <td>4.857</td>\n",
       "      <td>5191.0</td>\n",
       "      <td>no</td>\n",
       "    </tr>\n",
       "    <tr>\n",
       "      <th>3</th>\n",
       "      <td>40</td>\n",
       "      <td>admin.</td>\n",
       "      <td>married</td>\n",
       "      <td>basic.6y</td>\n",
       "      <td>no</td>\n",
       "      <td>no</td>\n",
       "      <td>no</td>\n",
       "      <td>telephone</td>\n",
       "      <td>may</td>\n",
       "      <td>mon</td>\n",
       "      <td>...</td>\n",
       "      <td>1</td>\n",
       "      <td>999</td>\n",
       "      <td>0</td>\n",
       "      <td>nonexistent</td>\n",
       "      <td>1.1</td>\n",
       "      <td>93.994</td>\n",
       "      <td>-36.4</td>\n",
       "      <td>4.857</td>\n",
       "      <td>5191.0</td>\n",
       "      <td>no</td>\n",
       "    </tr>\n",
       "    <tr>\n",
       "      <th>4</th>\n",
       "      <td>56</td>\n",
       "      <td>services</td>\n",
       "      <td>married</td>\n",
       "      <td>high.school</td>\n",
       "      <td>no</td>\n",
       "      <td>no</td>\n",
       "      <td>yes</td>\n",
       "      <td>telephone</td>\n",
       "      <td>may</td>\n",
       "      <td>mon</td>\n",
       "      <td>...</td>\n",
       "      <td>1</td>\n",
       "      <td>999</td>\n",
       "      <td>0</td>\n",
       "      <td>nonexistent</td>\n",
       "      <td>1.1</td>\n",
       "      <td>93.994</td>\n",
       "      <td>-36.4</td>\n",
       "      <td>4.857</td>\n",
       "      <td>5191.0</td>\n",
       "      <td>no</td>\n",
       "    </tr>\n",
       "  </tbody>\n",
       "</table>\n",
       "<p>5 rows × 21 columns</p>\n",
       "</div>"
      ],
      "text/plain": [
       "   age        job  marital    education   credit housing loan    contact  \\\n",
       "0   56  housemaid  married     basic.4y       no      no   no  telephone   \n",
       "1   57   services  married  high.school  unknown      no   no  telephone   \n",
       "2   37   services  married  high.school       no     yes   no  telephone   \n",
       "3   40     admin.  married     basic.6y       no      no   no  telephone   \n",
       "4   56   services  married  high.school       no      no  yes  telephone   \n",
       "\n",
       "  month day_of_week  ...  campaign  pdays  previous     poutcome emp.var.rate  \\\n",
       "0   may         mon  ...         1    999         0  nonexistent          1.1   \n",
       "1   may         mon  ...         1    999         0  nonexistent          1.1   \n",
       "2   may         mon  ...         1    999         0  nonexistent          1.1   \n",
       "3   may         mon  ...         1    999         0  nonexistent          1.1   \n",
       "4   may         mon  ...         1    999         0  nonexistent          1.1   \n",
       "\n",
       "   cons.price.idx  cons.conf.idx  euribor3m  nr.employed  subscribed  \n",
       "0          93.994          -36.4      4.857       5191.0          no  \n",
       "1          93.994          -36.4      4.857       5191.0          no  \n",
       "2          93.994          -36.4      4.857       5191.0          no  \n",
       "3          93.994          -36.4      4.857       5191.0          no  \n",
       "4          93.994          -36.4      4.857       5191.0          no  \n",
       "\n",
       "[5 rows x 21 columns]"
      ]
     },
     "execution_count": 4,
     "metadata": {},
     "output_type": "execute_result"
    }
   ],
   "source": [
    "df = pd.read_csv('https://raw.githubusercontent.com/ankurrokad/Artificial-Neural-Network/main/bank-additional-full.csv', sep=';')\n",
    "df.columns = ['age', 'job', 'marital', 'education', 'credit', 'housing', 'loan','contact', 'month', 'day_of_week',\n",
    "              'duration', 'campaign', 'pdays','previous', 'poutcome', 'emp.var.rate', 'cons.price.idx','cons.conf.idx',\n",
    "              'euribor3m', 'nr.employed', 'subscribed']\n",
    "df.head()\n"
   ]
  },
  {
   "cell_type": "markdown",
   "metadata": {
    "id": "7sUoA3Mk-89p"
   },
   "source": [
    "# Dataset Discription\n",
    "\n",
    "### User Details:\n",
    "\n",
    "1 - age (numeric)\n",
    "\n",
    "2 - job : type of job (categorical: 'admin.','blue-collar','entrepreneur','housemaid','management','retired','self-employed','services','student','technician','unemployed','unknown')\n",
    "\n",
    "3 - marital : marital status (categorical: 'divorced','married','single','unknown'; note: 'divorced' means divorced or widowed)\n",
    "\n",
    "4 - education (categorical: 'basic.4y','basic.6y','basic.9y','high.school','illiterate','professional.course','university.degree','unknown')\n",
    "\n",
    "5 - default: has credit in default? (categorical: 'no','yes','unknown')\n",
    "\n",
    "6 - housing: has housing loan? (categorical: 'no','yes','unknown')\n",
    "\n",
    "7 - loan: has personal loan? (categorical: 'no','yes','unknown')\n",
    "\n",
    "### Related with the last contact of the current campaign:\n",
    "8 - contact: contact communication type (categorical: 'cellular','telephone')\n",
    "\n",
    "9 - month: last contact month of year (categorical: 'jan', 'feb', 'mar', ..., 'nov', 'dec')\n",
    "\n",
    "10 - day_of_week: last contact day of the week (categorical: 'mon','tue','wed','thu','fri')\n",
    "\n",
    "11 - duration: last contact duration, in seconds (numeric). Important note: this attribute highly affects the output target (e.g., if duration=0 then y='no'). Yet, the duration is not known before a call is performed. Also, after the end of the call y is obviously known. Thus, this input should only be included for benchmark purposes and should be discarded if the intention is to have a realistic predictive model.\n",
    "\n",
    "# Other attributes:\n",
    "12 - campaign: number of contacts performed during this campaign and for this client (numeric, includes last contact)\n",
    "\n",
    "13 - pdays: number of days that passed by after the client was last contacted from a previous campaign (numeric; 999 means client was not previously contacted)\n",
    "\n",
    "14 - previous: number of contacts performed before this campaign and for this client (numeric)\n",
    "\n",
    "15 - poutcome: outcome of the previous marketing campaign (categorical: 'failure','nonexistent','success')\n",
    "\n",
    "# Social and economic context attributes\n",
    "16 - emp.var.rate: employment variation rate - quarterly indicator (numeric)\n",
    "\n",
    "17 - cons.price.idx: consumer price index - monthly indicator (numeric)\n",
    "\n",
    "18 - cons.conf.idx: consumer confidence index - monthly indicator (numeric)\n",
    "\n",
    "19 - euribor3m: euribor 3 month rate - daily indicator (numeric)\n",
    "\n",
    "20 - nr.employed: number of employees - quarterly indicator (numeric)\n",
    "\n",
    "# Output variable (desired target):\n",
    "21 - y - has the client subscribed a term deposit? (binary: 'yes','no')"
   ]
  },
  {
   "cell_type": "code",
   "execution_count": 5,
   "metadata": {
    "colab": {
     "base_uri": "https://localhost:8080/"
    },
    "id": "tWwbpeb0TAEN",
    "outputId": "d4037561-1ed3-4fe8-b63f-6a9e21f33b13"
   },
   "outputs": [
    {
     "data": {
      "text/plain": [
       "no     0.887346\n",
       "yes    0.112654\n",
       "Name: subscribed, dtype: float64"
      ]
     },
     "execution_count": 5,
     "metadata": {},
     "output_type": "execute_result"
    }
   ],
   "source": [
    "df['subscribed'].value_counts()/41188"
   ]
  },
  {
   "cell_type": "code",
   "execution_count": 6,
   "metadata": {
    "colab": {
     "base_uri": "https://localhost:8080/"
    },
    "id": "06LmBa__-89q",
    "outputId": "b1028b3d-7223-40a2-cb1d-45de4bc9ca5e"
   },
   "outputs": [
    {
     "data": {
      "text/plain": [
       "age               0\n",
       "job               0\n",
       "marital           0\n",
       "education         0\n",
       "credit            0\n",
       "housing           0\n",
       "loan              0\n",
       "contact           0\n",
       "month             0\n",
       "day_of_week       0\n",
       "duration          0\n",
       "campaign          0\n",
       "pdays             0\n",
       "previous          0\n",
       "poutcome          0\n",
       "emp.var.rate      0\n",
       "cons.price.idx    0\n",
       "cons.conf.idx     0\n",
       "euribor3m         0\n",
       "nr.employed       0\n",
       "subscribed        0\n",
       "dtype: int64"
      ]
     },
     "execution_count": 6,
     "metadata": {},
     "output_type": "execute_result"
    }
   ],
   "source": [
    "df.isnull().sum()"
   ]
  },
  {
   "cell_type": "markdown",
   "metadata": {
    "id": "htWsFk1M-89q"
   },
   "source": [
    "We dont have any null values, so no need to do any imputation or anything"
   ]
  },
  {
   "cell_type": "markdown",
   "metadata": {
    "id": "uhDL54zf-89r"
   },
   "source": [
    "# Pre processing"
   ]
  },
  {
   "cell_type": "markdown",
   "metadata": {
    "id": "WDn1yZ4YPh6T"
   },
   "source": [
    "## Label Encoding"
   ]
  },
  {
   "cell_type": "code",
   "execution_count": 8,
   "metadata": {
    "colab": {
     "base_uri": "https://localhost:8080/"
    },
    "id": "tuOBkb-u-89r",
    "outputId": "a5be037c-dd5a-458e-bd22-36bdd5b2ddcc"
   },
   "outputs": [
    {
     "name": "stdout",
     "output_type": "stream",
     "text": [
      "<class 'pandas.core.frame.DataFrame'>\n",
      "RangeIndex: 41188 entries, 0 to 41187\n",
      "Data columns (total 11 columns):\n",
      " #   Column       Non-Null Count  Dtype \n",
      "---  ------       --------------  ----- \n",
      " 0   job          41188 non-null  object\n",
      " 1   marital      41188 non-null  object\n",
      " 2   education    41188 non-null  object\n",
      " 3   credit       41188 non-null  object\n",
      " 4   housing      41188 non-null  object\n",
      " 5   loan         41188 non-null  object\n",
      " 6   contact      41188 non-null  object\n",
      " 7   month        41188 non-null  object\n",
      " 8   day_of_week  41188 non-null  object\n",
      " 9   poutcome     41188 non-null  object\n",
      " 10  subscribed   41188 non-null  object\n",
      "dtypes: object(11)\n",
      "memory usage: 3.5+ MB\n"
     ]
    }
   ],
   "source": [
    "df.select_dtypes('object').info()"
   ]
  },
  {
   "cell_type": "code",
   "execution_count": 9,
   "metadata": {
    "id": "fQv_lmac-89s"
   },
   "outputs": [],
   "source": [
    "dict_job = {\n",
    "    \"job\":{\n",
    "        \"housemaid\":1,\n",
    "        \"unemployed\":0,\n",
    "        \"entrepreneur\":4,\n",
    "        \"blue-collar\":1,\n",
    "        \"services\":3,\n",
    "        \"admin.\":2,\n",
    "        \"technician\":2,\n",
    "        \"retired\":1,\n",
    "        \"management\":4,\n",
    "        \"self-employed\":3,\n",
    "        \"unknown\":1,\n",
    "        \"student\":0.5\n",
    "    }}\n",
    "dict_education = {\n",
    "    \"education\":{\n",
    "        \"basic.4y\":1,\n",
    "        \"basic.6y\":1,\n",
    "        \"basic.9y\":1,\n",
    "        \"high.school\":1,\n",
    "        \"professional.course\":2,\n",
    "        \"university.degree\":2,\n",
    "        \"illiterate\":0.9,\n",
    "        \"unknown\":0.9\n",
    "    }}\n",
    "\n",
    "dict_poutcome = {\n",
    "    \"poutcome\":{\n",
    "        \"nonexistent\":0,\n",
    "        \"failure\":0,\n",
    "        \"success\":1\n",
    "    }}\n",
    "dict_y = {\n",
    "    \"subscribed\":{\n",
    "        \"no\":0,\n",
    "        \"yes\":1\n",
    "    }}"
   ]
  },
  {
   "cell_type": "code",
   "execution_count": 10,
   "metadata": {
    "id": "FdXdAd80-89t"
   },
   "outputs": [],
   "source": [
    "for i in [dict_poutcome,dict_y, dict_education, dict_job]:\n",
    "    df.replace(i,inplace=True)"
   ]
  },
  {
   "cell_type": "code",
   "execution_count": 11,
   "metadata": {
    "colab": {
     "base_uri": "https://localhost:8080/",
     "height": 215
    },
    "id": "vRFADWo2-89t",
    "outputId": "318eb095-ef31-4c63-b784-44e46ac30df3"
   },
   "outputs": [
    {
     "data": {
      "text/html": [
       "<div>\n",
       "<style scoped>\n",
       "    .dataframe tbody tr th:only-of-type {\n",
       "        vertical-align: middle;\n",
       "    }\n",
       "\n",
       "    .dataframe tbody tr th {\n",
       "        vertical-align: top;\n",
       "    }\n",
       "\n",
       "    .dataframe thead th {\n",
       "        text-align: right;\n",
       "    }\n",
       "</style>\n",
       "<table border=\"1\" class=\"dataframe\">\n",
       "  <thead>\n",
       "    <tr style=\"text-align: right;\">\n",
       "      <th></th>\n",
       "      <th>age</th>\n",
       "      <th>job</th>\n",
       "      <th>marital</th>\n",
       "      <th>education</th>\n",
       "      <th>credit</th>\n",
       "      <th>housing</th>\n",
       "      <th>loan</th>\n",
       "      <th>contact</th>\n",
       "      <th>month</th>\n",
       "      <th>day_of_week</th>\n",
       "      <th>...</th>\n",
       "      <th>campaign</th>\n",
       "      <th>pdays</th>\n",
       "      <th>previous</th>\n",
       "      <th>poutcome</th>\n",
       "      <th>emp.var.rate</th>\n",
       "      <th>cons.price.idx</th>\n",
       "      <th>cons.conf.idx</th>\n",
       "      <th>euribor3m</th>\n",
       "      <th>nr.employed</th>\n",
       "      <th>subscribed</th>\n",
       "    </tr>\n",
       "  </thead>\n",
       "  <tbody>\n",
       "    <tr>\n",
       "      <th>0</th>\n",
       "      <td>56</td>\n",
       "      <td>1.0</td>\n",
       "      <td>married</td>\n",
       "      <td>1.0</td>\n",
       "      <td>no</td>\n",
       "      <td>no</td>\n",
       "      <td>no</td>\n",
       "      <td>telephone</td>\n",
       "      <td>may</td>\n",
       "      <td>mon</td>\n",
       "      <td>...</td>\n",
       "      <td>1</td>\n",
       "      <td>999</td>\n",
       "      <td>0</td>\n",
       "      <td>0</td>\n",
       "      <td>1.1</td>\n",
       "      <td>93.994</td>\n",
       "      <td>-36.4</td>\n",
       "      <td>4.857</td>\n",
       "      <td>5191.0</td>\n",
       "      <td>0</td>\n",
       "    </tr>\n",
       "    <tr>\n",
       "      <th>1</th>\n",
       "      <td>57</td>\n",
       "      <td>3.0</td>\n",
       "      <td>married</td>\n",
       "      <td>1.0</td>\n",
       "      <td>unknown</td>\n",
       "      <td>no</td>\n",
       "      <td>no</td>\n",
       "      <td>telephone</td>\n",
       "      <td>may</td>\n",
       "      <td>mon</td>\n",
       "      <td>...</td>\n",
       "      <td>1</td>\n",
       "      <td>999</td>\n",
       "      <td>0</td>\n",
       "      <td>0</td>\n",
       "      <td>1.1</td>\n",
       "      <td>93.994</td>\n",
       "      <td>-36.4</td>\n",
       "      <td>4.857</td>\n",
       "      <td>5191.0</td>\n",
       "      <td>0</td>\n",
       "    </tr>\n",
       "    <tr>\n",
       "      <th>2</th>\n",
       "      <td>37</td>\n",
       "      <td>3.0</td>\n",
       "      <td>married</td>\n",
       "      <td>1.0</td>\n",
       "      <td>no</td>\n",
       "      <td>yes</td>\n",
       "      <td>no</td>\n",
       "      <td>telephone</td>\n",
       "      <td>may</td>\n",
       "      <td>mon</td>\n",
       "      <td>...</td>\n",
       "      <td>1</td>\n",
       "      <td>999</td>\n",
       "      <td>0</td>\n",
       "      <td>0</td>\n",
       "      <td>1.1</td>\n",
       "      <td>93.994</td>\n",
       "      <td>-36.4</td>\n",
       "      <td>4.857</td>\n",
       "      <td>5191.0</td>\n",
       "      <td>0</td>\n",
       "    </tr>\n",
       "    <tr>\n",
       "      <th>3</th>\n",
       "      <td>40</td>\n",
       "      <td>2.0</td>\n",
       "      <td>married</td>\n",
       "      <td>1.0</td>\n",
       "      <td>no</td>\n",
       "      <td>no</td>\n",
       "      <td>no</td>\n",
       "      <td>telephone</td>\n",
       "      <td>may</td>\n",
       "      <td>mon</td>\n",
       "      <td>...</td>\n",
       "      <td>1</td>\n",
       "      <td>999</td>\n",
       "      <td>0</td>\n",
       "      <td>0</td>\n",
       "      <td>1.1</td>\n",
       "      <td>93.994</td>\n",
       "      <td>-36.4</td>\n",
       "      <td>4.857</td>\n",
       "      <td>5191.0</td>\n",
       "      <td>0</td>\n",
       "    </tr>\n",
       "    <tr>\n",
       "      <th>4</th>\n",
       "      <td>56</td>\n",
       "      <td>3.0</td>\n",
       "      <td>married</td>\n",
       "      <td>1.0</td>\n",
       "      <td>no</td>\n",
       "      <td>no</td>\n",
       "      <td>yes</td>\n",
       "      <td>telephone</td>\n",
       "      <td>may</td>\n",
       "      <td>mon</td>\n",
       "      <td>...</td>\n",
       "      <td>1</td>\n",
       "      <td>999</td>\n",
       "      <td>0</td>\n",
       "      <td>0</td>\n",
       "      <td>1.1</td>\n",
       "      <td>93.994</td>\n",
       "      <td>-36.4</td>\n",
       "      <td>4.857</td>\n",
       "      <td>5191.0</td>\n",
       "      <td>0</td>\n",
       "    </tr>\n",
       "  </tbody>\n",
       "</table>\n",
       "<p>5 rows × 21 columns</p>\n",
       "</div>"
      ],
      "text/plain": [
       "   age  job  marital  education   credit housing loan    contact month  \\\n",
       "0   56  1.0  married        1.0       no      no   no  telephone   may   \n",
       "1   57  3.0  married        1.0  unknown      no   no  telephone   may   \n",
       "2   37  3.0  married        1.0       no     yes   no  telephone   may   \n",
       "3   40  2.0  married        1.0       no      no   no  telephone   may   \n",
       "4   56  3.0  married        1.0       no      no  yes  telephone   may   \n",
       "\n",
       "  day_of_week  ...  campaign  pdays  previous  poutcome  emp.var.rate  \\\n",
       "0         mon  ...         1    999         0         0           1.1   \n",
       "1         mon  ...         1    999         0         0           1.1   \n",
       "2         mon  ...         1    999         0         0           1.1   \n",
       "3         mon  ...         1    999         0         0           1.1   \n",
       "4         mon  ...         1    999         0         0           1.1   \n",
       "\n",
       "   cons.price.idx  cons.conf.idx  euribor3m  nr.employed  subscribed  \n",
       "0          93.994          -36.4      4.857       5191.0           0  \n",
       "1          93.994          -36.4      4.857       5191.0           0  \n",
       "2          93.994          -36.4      4.857       5191.0           0  \n",
       "3          93.994          -36.4      4.857       5191.0           0  \n",
       "4          93.994          -36.4      4.857       5191.0           0  \n",
       "\n",
       "[5 rows x 21 columns]"
      ]
     },
     "execution_count": 11,
     "metadata": {},
     "output_type": "execute_result"
    }
   ],
   "source": [
    "df.head()"
   ]
  },
  {
   "cell_type": "code",
   "execution_count": 12,
   "metadata": {
    "id": "hMCEXz71-89t"
   },
   "outputs": [],
   "source": [
    "#Encoding rest of the un ordinal categorical variable \n",
    "lc_X1 = LabelEncoder()\n",
    "# lst = ['credit','contact','month']\n",
    "lst = ['marital','credit','housing','loan','contact','month','day_of_week']\n",
    "for i in lst:\n",
    "    df[i] = lc_X1.fit_transform(df[i])"
   ]
  },
  {
   "cell_type": "code",
   "execution_count": 13,
   "metadata": {
    "colab": {
     "base_uri": "https://localhost:8080/",
     "height": 215
    },
    "id": "vK9GIKnb-89t",
    "outputId": "66de8897-6ede-41c3-daac-c570cecab8d7"
   },
   "outputs": [
    {
     "data": {
      "text/html": [
       "<div>\n",
       "<style scoped>\n",
       "    .dataframe tbody tr th:only-of-type {\n",
       "        vertical-align: middle;\n",
       "    }\n",
       "\n",
       "    .dataframe tbody tr th {\n",
       "        vertical-align: top;\n",
       "    }\n",
       "\n",
       "    .dataframe thead th {\n",
       "        text-align: right;\n",
       "    }\n",
       "</style>\n",
       "<table border=\"1\" class=\"dataframe\">\n",
       "  <thead>\n",
       "    <tr style=\"text-align: right;\">\n",
       "      <th></th>\n",
       "      <th>age</th>\n",
       "      <th>job</th>\n",
       "      <th>marital</th>\n",
       "      <th>education</th>\n",
       "      <th>credit</th>\n",
       "      <th>housing</th>\n",
       "      <th>loan</th>\n",
       "      <th>contact</th>\n",
       "      <th>month</th>\n",
       "      <th>day_of_week</th>\n",
       "      <th>...</th>\n",
       "      <th>campaign</th>\n",
       "      <th>pdays</th>\n",
       "      <th>previous</th>\n",
       "      <th>poutcome</th>\n",
       "      <th>emp.var.rate</th>\n",
       "      <th>cons.price.idx</th>\n",
       "      <th>cons.conf.idx</th>\n",
       "      <th>euribor3m</th>\n",
       "      <th>nr.employed</th>\n",
       "      <th>subscribed</th>\n",
       "    </tr>\n",
       "  </thead>\n",
       "  <tbody>\n",
       "    <tr>\n",
       "      <th>0</th>\n",
       "      <td>56</td>\n",
       "      <td>1.0</td>\n",
       "      <td>1</td>\n",
       "      <td>1.0</td>\n",
       "      <td>0</td>\n",
       "      <td>0</td>\n",
       "      <td>0</td>\n",
       "      <td>1</td>\n",
       "      <td>6</td>\n",
       "      <td>1</td>\n",
       "      <td>...</td>\n",
       "      <td>1</td>\n",
       "      <td>999</td>\n",
       "      <td>0</td>\n",
       "      <td>0</td>\n",
       "      <td>1.1</td>\n",
       "      <td>93.994</td>\n",
       "      <td>-36.4</td>\n",
       "      <td>4.857</td>\n",
       "      <td>5191.0</td>\n",
       "      <td>0</td>\n",
       "    </tr>\n",
       "    <tr>\n",
       "      <th>1</th>\n",
       "      <td>57</td>\n",
       "      <td>3.0</td>\n",
       "      <td>1</td>\n",
       "      <td>1.0</td>\n",
       "      <td>1</td>\n",
       "      <td>0</td>\n",
       "      <td>0</td>\n",
       "      <td>1</td>\n",
       "      <td>6</td>\n",
       "      <td>1</td>\n",
       "      <td>...</td>\n",
       "      <td>1</td>\n",
       "      <td>999</td>\n",
       "      <td>0</td>\n",
       "      <td>0</td>\n",
       "      <td>1.1</td>\n",
       "      <td>93.994</td>\n",
       "      <td>-36.4</td>\n",
       "      <td>4.857</td>\n",
       "      <td>5191.0</td>\n",
       "      <td>0</td>\n",
       "    </tr>\n",
       "    <tr>\n",
       "      <th>2</th>\n",
       "      <td>37</td>\n",
       "      <td>3.0</td>\n",
       "      <td>1</td>\n",
       "      <td>1.0</td>\n",
       "      <td>0</td>\n",
       "      <td>2</td>\n",
       "      <td>0</td>\n",
       "      <td>1</td>\n",
       "      <td>6</td>\n",
       "      <td>1</td>\n",
       "      <td>...</td>\n",
       "      <td>1</td>\n",
       "      <td>999</td>\n",
       "      <td>0</td>\n",
       "      <td>0</td>\n",
       "      <td>1.1</td>\n",
       "      <td>93.994</td>\n",
       "      <td>-36.4</td>\n",
       "      <td>4.857</td>\n",
       "      <td>5191.0</td>\n",
       "      <td>0</td>\n",
       "    </tr>\n",
       "    <tr>\n",
       "      <th>3</th>\n",
       "      <td>40</td>\n",
       "      <td>2.0</td>\n",
       "      <td>1</td>\n",
       "      <td>1.0</td>\n",
       "      <td>0</td>\n",
       "      <td>0</td>\n",
       "      <td>0</td>\n",
       "      <td>1</td>\n",
       "      <td>6</td>\n",
       "      <td>1</td>\n",
       "      <td>...</td>\n",
       "      <td>1</td>\n",
       "      <td>999</td>\n",
       "      <td>0</td>\n",
       "      <td>0</td>\n",
       "      <td>1.1</td>\n",
       "      <td>93.994</td>\n",
       "      <td>-36.4</td>\n",
       "      <td>4.857</td>\n",
       "      <td>5191.0</td>\n",
       "      <td>0</td>\n",
       "    </tr>\n",
       "    <tr>\n",
       "      <th>4</th>\n",
       "      <td>56</td>\n",
       "      <td>3.0</td>\n",
       "      <td>1</td>\n",
       "      <td>1.0</td>\n",
       "      <td>0</td>\n",
       "      <td>0</td>\n",
       "      <td>2</td>\n",
       "      <td>1</td>\n",
       "      <td>6</td>\n",
       "      <td>1</td>\n",
       "      <td>...</td>\n",
       "      <td>1</td>\n",
       "      <td>999</td>\n",
       "      <td>0</td>\n",
       "      <td>0</td>\n",
       "      <td>1.1</td>\n",
       "      <td>93.994</td>\n",
       "      <td>-36.4</td>\n",
       "      <td>4.857</td>\n",
       "      <td>5191.0</td>\n",
       "      <td>0</td>\n",
       "    </tr>\n",
       "  </tbody>\n",
       "</table>\n",
       "<p>5 rows × 21 columns</p>\n",
       "</div>"
      ],
      "text/plain": [
       "   age  job  marital  education  credit  housing  loan  contact  month  \\\n",
       "0   56  1.0        1        1.0       0        0     0        1      6   \n",
       "1   57  3.0        1        1.0       1        0     0        1      6   \n",
       "2   37  3.0        1        1.0       0        2     0        1      6   \n",
       "3   40  2.0        1        1.0       0        0     0        1      6   \n",
       "4   56  3.0        1        1.0       0        0     2        1      6   \n",
       "\n",
       "   day_of_week  ...  campaign  pdays  previous  poutcome  emp.var.rate  \\\n",
       "0            1  ...         1    999         0         0           1.1   \n",
       "1            1  ...         1    999         0         0           1.1   \n",
       "2            1  ...         1    999         0         0           1.1   \n",
       "3            1  ...         1    999         0         0           1.1   \n",
       "4            1  ...         1    999         0         0           1.1   \n",
       "\n",
       "   cons.price.idx  cons.conf.idx  euribor3m  nr.employed  subscribed  \n",
       "0          93.994          -36.4      4.857       5191.0           0  \n",
       "1          93.994          -36.4      4.857       5191.0           0  \n",
       "2          93.994          -36.4      4.857       5191.0           0  \n",
       "3          93.994          -36.4      4.857       5191.0           0  \n",
       "4          93.994          -36.4      4.857       5191.0           0  \n",
       "\n",
       "[5 rows x 21 columns]"
      ]
     },
     "execution_count": 13,
     "metadata": {},
     "output_type": "execute_result"
    }
   ],
   "source": [
    "df.head()"
   ]
  },
  {
   "cell_type": "code",
   "execution_count": 14,
   "metadata": {
    "id": "-HCE0NNf-89t"
   },
   "outputs": [],
   "source": [
    "#one hot encoding\n",
    "df_1 = pd.get_dummies(df,\n",
    "                      columns=['marital','credit','housing','loan','contact','month','day_of_week'],\n",
    "                      drop_first=True)"
   ]
  },
  {
   "cell_type": "markdown",
   "metadata": {},
   "source": [
    "## Checking the correlation "
   ]
  },
  {
   "cell_type": "code",
   "execution_count": 15,
   "metadata": {},
   "outputs": [
    {
     "data": {
      "text/plain": [
       "Text(0.5, 1.0, 'Correlation')"
      ]
     },
     "execution_count": 15,
     "metadata": {},
     "output_type": "execute_result"
    },
    {
     "data": {
      "image/png": "[encoded data removed]",
      "text/plain": [
       "<Figure size 1080x864 with 2 Axes>"
      ]
     },
     "metadata": {
      "needs_background": "light"
     },
     "output_type": "display_data"
    }
   ],
   "source": [
    "corr = df.corr()\n",
    "mask = np.triu(np.ones_like(corr, dtype=np.bool))\n",
    "f, ax = plt.subplots(figsize=(15,12))\n",
    "cmap = sns.diverging_palette(220, 10, as_cmap=True)\n",
    "#Drawing heatmap\n",
    "sns.heatmap(corr, \n",
    "            mask=mask,\n",
    "            cmap=cmap, \n",
    "            vmax=1, \n",
    "            center=0.5, \n",
    "            square=True, \n",
    "            linewidths=.5, \n",
    "            cbar_kws={\"shrink\": .6},\n",
    "            annot=True\n",
    "           )\n",
    "plt.title(\"Correlation\", fontsize =10)"
   ]
  },
  {
   "cell_type": "code",
   "execution_count": 16,
   "metadata": {
    "colab": {
     "base_uri": "https://localhost:8080/",
     "height": 232
    },
    "id": "qI_TE6eC-89u",
    "outputId": "c4bfe06f-dd98-43d4-c934-57cfdb45643b"
   },
   "outputs": [
    {
     "name": "stdout",
     "output_type": "stream",
     "text": [
      "(41188, 37)\n"
     ]
    },
    {
     "data": {
      "text/html": [
       "<div>\n",
       "<style scoped>\n",
       "    .dataframe tbody tr th:only-of-type {\n",
       "        vertical-align: middle;\n",
       "    }\n",
       "\n",
       "    .dataframe tbody tr th {\n",
       "        vertical-align: top;\n",
       "    }\n",
       "\n",
       "    .dataframe thead th {\n",
       "        text-align: right;\n",
       "    }\n",
       "</style>\n",
       "<table border=\"1\" class=\"dataframe\">\n",
       "  <thead>\n",
       "    <tr style=\"text-align: right;\">\n",
       "      <th></th>\n",
       "      <th>age</th>\n",
       "      <th>job</th>\n",
       "      <th>education</th>\n",
       "      <th>duration</th>\n",
       "      <th>campaign</th>\n",
       "      <th>pdays</th>\n",
       "      <th>previous</th>\n",
       "      <th>poutcome</th>\n",
       "      <th>emp.var.rate</th>\n",
       "      <th>cons.price.idx</th>\n",
       "      <th>...</th>\n",
       "      <th>month_4</th>\n",
       "      <th>month_5</th>\n",
       "      <th>month_6</th>\n",
       "      <th>month_7</th>\n",
       "      <th>month_8</th>\n",
       "      <th>month_9</th>\n",
       "      <th>day_of_week_1</th>\n",
       "      <th>day_of_week_2</th>\n",
       "      <th>day_of_week_3</th>\n",
       "      <th>day_of_week_4</th>\n",
       "    </tr>\n",
       "  </thead>\n",
       "  <tbody>\n",
       "    <tr>\n",
       "      <th>0</th>\n",
       "      <td>56</td>\n",
       "      <td>1.0</td>\n",
       "      <td>1.0</td>\n",
       "      <td>261</td>\n",
       "      <td>1</td>\n",
       "      <td>999</td>\n",
       "      <td>0</td>\n",
       "      <td>0</td>\n",
       "      <td>1.1</td>\n",
       "      <td>93.994</td>\n",
       "      <td>...</td>\n",
       "      <td>0</td>\n",
       "      <td>0</td>\n",
       "      <td>1</td>\n",
       "      <td>0</td>\n",
       "      <td>0</td>\n",
       "      <td>0</td>\n",
       "      <td>1</td>\n",
       "      <td>0</td>\n",
       "      <td>0</td>\n",
       "      <td>0</td>\n",
       "    </tr>\n",
       "    <tr>\n",
       "      <th>1</th>\n",
       "      <td>57</td>\n",
       "      <td>3.0</td>\n",
       "      <td>1.0</td>\n",
       "      <td>149</td>\n",
       "      <td>1</td>\n",
       "      <td>999</td>\n",
       "      <td>0</td>\n",
       "      <td>0</td>\n",
       "      <td>1.1</td>\n",
       "      <td>93.994</td>\n",
       "      <td>...</td>\n",
       "      <td>0</td>\n",
       "      <td>0</td>\n",
       "      <td>1</td>\n",
       "      <td>0</td>\n",
       "      <td>0</td>\n",
       "      <td>0</td>\n",
       "      <td>1</td>\n",
       "      <td>0</td>\n",
       "      <td>0</td>\n",
       "      <td>0</td>\n",
       "    </tr>\n",
       "    <tr>\n",
       "      <th>2</th>\n",
       "      <td>37</td>\n",
       "      <td>3.0</td>\n",
       "      <td>1.0</td>\n",
       "      <td>226</td>\n",
       "      <td>1</td>\n",
       "      <td>999</td>\n",
       "      <td>0</td>\n",
       "      <td>0</td>\n",
       "      <td>1.1</td>\n",
       "      <td>93.994</td>\n",
       "      <td>...</td>\n",
       "      <td>0</td>\n",
       "      <td>0</td>\n",
       "      <td>1</td>\n",
       "      <td>0</td>\n",
       "      <td>0</td>\n",
       "      <td>0</td>\n",
       "      <td>1</td>\n",
       "      <td>0</td>\n",
       "      <td>0</td>\n",
       "      <td>0</td>\n",
       "    </tr>\n",
       "    <tr>\n",
       "      <th>3</th>\n",
       "      <td>40</td>\n",
       "      <td>2.0</td>\n",
       "      <td>1.0</td>\n",
       "      <td>151</td>\n",
       "      <td>1</td>\n",
       "      <td>999</td>\n",
       "      <td>0</td>\n",
       "      <td>0</td>\n",
       "      <td>1.1</td>\n",
       "      <td>93.994</td>\n",
       "      <td>...</td>\n",
       "      <td>0</td>\n",
       "      <td>0</td>\n",
       "      <td>1</td>\n",
       "      <td>0</td>\n",
       "      <td>0</td>\n",
       "      <td>0</td>\n",
       "      <td>1</td>\n",
       "      <td>0</td>\n",
       "      <td>0</td>\n",
       "      <td>0</td>\n",
       "    </tr>\n",
       "    <tr>\n",
       "      <th>4</th>\n",
       "      <td>56</td>\n",
       "      <td>3.0</td>\n",
       "      <td>1.0</td>\n",
       "      <td>307</td>\n",
       "      <td>1</td>\n",
       "      <td>999</td>\n",
       "      <td>0</td>\n",
       "      <td>0</td>\n",
       "      <td>1.1</td>\n",
       "      <td>93.994</td>\n",
       "      <td>...</td>\n",
       "      <td>0</td>\n",
       "      <td>0</td>\n",
       "      <td>1</td>\n",
       "      <td>0</td>\n",
       "      <td>0</td>\n",
       "      <td>0</td>\n",
       "      <td>1</td>\n",
       "      <td>0</td>\n",
       "      <td>0</td>\n",
       "      <td>0</td>\n",
       "    </tr>\n",
       "  </tbody>\n",
       "</table>\n",
       "<p>5 rows × 37 columns</p>\n",
       "</div>"
      ],
      "text/plain": [
       "   age  job  education  duration  campaign  pdays  previous  poutcome  \\\n",
       "0   56  1.0        1.0       261         1    999         0         0   \n",
       "1   57  3.0        1.0       149         1    999         0         0   \n",
       "2   37  3.0        1.0       226         1    999         0         0   \n",
       "3   40  2.0        1.0       151         1    999         0         0   \n",
       "4   56  3.0        1.0       307         1    999         0         0   \n",
       "\n",
       "   emp.var.rate  cons.price.idx  ...  month_4  month_5  month_6  month_7  \\\n",
       "0           1.1          93.994  ...        0        0        1        0   \n",
       "1           1.1          93.994  ...        0        0        1        0   \n",
       "2           1.1          93.994  ...        0        0        1        0   \n",
       "3           1.1          93.994  ...        0        0        1        0   \n",
       "4           1.1          93.994  ...        0        0        1        0   \n",
       "\n",
       "   month_8  month_9  day_of_week_1  day_of_week_2  day_of_week_3  \\\n",
       "0        0        0              1              0              0   \n",
       "1        0        0              1              0              0   \n",
       "2        0        0              1              0              0   \n",
       "3        0        0              1              0              0   \n",
       "4        0        0              1              0              0   \n",
       "\n",
       "   day_of_week_4  \n",
       "0              0  \n",
       "1              0  \n",
       "2              0  \n",
       "3              0  \n",
       "4              0  \n",
       "\n",
       "[5 rows x 37 columns]"
      ]
     },
     "execution_count": 16,
     "metadata": {},
     "output_type": "execute_result"
    }
   ],
   "source": [
    "print(df_1.shape)\n",
    "df_1.head()"
   ]
  },
  {
   "cell_type": "markdown",
   "metadata": {
    "id": "rZKM8QpOPbwu"
   },
   "source": [
    "## Splitting the data and Scaling"
   ]
  },
  {
   "cell_type": "code",
   "execution_count": 17,
   "metadata": {
    "id": "61Ublvft-89u"
   },
   "outputs": [],
   "source": [
    "#Assign Variable\n",
    "X = df_1.drop(columns = 'subscribed',axis=1).values\n",
    "y = df_1['subscribed'].values \n",
    "#split training - test set\n",
    "X_train,X_test,y_train,y_test = train_test_split(X,y,test_size=0.2,random_state=101)"
   ]
  },
  {
   "cell_type": "code",
   "execution_count": 18,
   "metadata": {
    "id": "fpvwUzM7-89u"
   },
   "outputs": [],
   "source": [
    "sc = StandardScaler()\n",
    "X_train = sc.fit_transform(X_train)\n",
    "X_test = sc.fit_transform(X_test)"
   ]
  },
  {
   "cell_type": "markdown",
   "metadata": {
    "id": "jp9TdDEgPz1M"
   },
   "source": [
    "# Printing Results"
   ]
  },
  {
   "cell_type": "code",
   "execution_count": 46,
   "metadata": {
    "id": "MyoM7rNk-89u"
   },
   "outputs": [],
   "source": [
    "# We are using this function to calculate the accuracy, precision, recall, f1_score etc.\n",
    "# Hyperparams: model = string, labels = y, pred = model.pred(y)\n",
    "def print_scores(model, labels, pred):\n",
    "    # Confusion matrix\n",
    "    accuracy = round(accuracy_score(labels, pred), 3)\n",
    "    precision = round(precision_score(labels, pred), 3)    \n",
    "    recall = round(recall_score(labels, pred), 3)\n",
    "    f1 = round(f1_score(labels, pred), 3)\n",
    "    \n",
    "    cm = confusion_matrix(labels, pred)\n",
    "    df = pd.DataFrame(cm)\n",
    "    \n",
    "    labels = [f\"TP: {df[0][0]} \",f\"TN: {df[1][1]} \",f\"FP: {df[1][0]} \",f\"FN: {df[0][1]} \"]\n",
    "    labels = np.asarray(labels).reshape(2,2)\n",
    "    sns.heatmap(cm, annot=labels, fmt='', cmap='Blues')\n",
    "    \n",
    "#     print(f\"TP: {df[0][0]} \")\n",
    "#     print(f\"TN: {df[1][1]} \")\n",
    "#     print(f\"FP: {df[1][0]} \")\n",
    "#     print(f\"FN: {df[0][1]} \")\n",
    "    \n",
    "    print(f\"{model}:: Accuracy: {accuracy}, Precision: {precision}, Recall: {recall}, f1_score: {f1}\")"
   ]
  },
  {
   "cell_type": "code",
   "execution_count": 20,
   "metadata": {
    "id": "l6Qlx7eUA_ye"
   },
   "outputs": [],
   "source": [
    "# print the cross-validation results\n",
    "def print_cv_result(results):\n",
    "    print(f\"Best Params : {results.best_params_}\\n\")\n",
    "    \n",
    "    means = results.cv_results_['mean_test_score']\n",
    "    stds = results.cv_results_['std_test_score']\n",
    "    \n",
    "    for mean, std, params in zip(means, stds, results.cv_results_['params']):\n",
    "        print(f'{round(mean, 3)} (+/-{round(std * 2, 3)}) for {params}')"
   ]
  },
  {
   "cell_type": "markdown",
   "metadata": {
    "id": "lNwe4-13-89v"
   },
   "source": [
    "# SVM"
   ]
  },
  {
   "cell_type": "code",
   "execution_count": 21,
   "metadata": {
    "colab": {
     "base_uri": "https://localhost:8080/"
    },
    "id": "f4uyzHqI-89v",
    "outputId": "97598d9c-6929-4e7a-a58c-4e01999bc6be"
   },
   "outputs": [
    {
     "name": "stdout",
     "output_type": "stream",
     "text": [
      "SVM Time:41099.469999999994\n",
      "TP: 7036 \n",
      "TN: 405 \n",
      "FP: 243 \n",
      "FN: 554 \n",
      "SVM:: Accuracy: 0.903, Precision: 0.625, Recall: 0.422, f1_score: 0.504\n"
     ]
    }
   ],
   "source": [
    "start = time()\n",
    "svc = SVC(kernel = \"rbf\", C=10)\n",
    "svc.fit(X_train,y_train)\n",
    "y_pred_svm = svc.predict(X_test)\n",
    "end = time()\n",
    "print(f\"SVM Time:{round((end - start), 5) * 1000}\")\n",
    "print_scores(\"SVM\", y_test, y_pred_svm)"
   ]
  },
  {
   "cell_type": "code",
   "execution_count": 22,
   "metadata": {
    "id": "t8BrqjXf-89v"
   },
   "outputs": [],
   "source": [
    "# K-Fold Cross Validation\n",
    "\n",
    "# start = time()\n",
    "# svc = SVC()\n",
    "# parameters = {\n",
    "#     'kernel' : ['linear', 'rbf'],\n",
    "#     'C' : [1, 10]\n",
    "# }\n",
    "\n",
    "# cv = GridSearchCV(svc, parameters, cv=5)\n",
    "\n",
    "# cv.fit(X_train, y_train)\n",
    "\n",
    "# print_cv_result(cv)\n",
    "\n",
    "# # best_params = cv.best_params_\n",
    "# # print(best_params)\n",
    "# # svc = SVC(kernel=best_params['kernel'], C=best_params['C'])\n",
    "\n",
    "\n",
    "# y_pred_svm = cv.predict(X_test)\n",
    "# print_scores(\"SVM\", y_test, y_pred_svm)\n",
    "\n",
    "# end = time()\n",
    "# print(f\"SVM Time:{round((end - start), 5) * 1000}\")\n"
   ]
  },
  {
   "cell_type": "markdown",
   "metadata": {
    "id": "aGKzZpF8Nzqk"
   },
   "source": [
    "# Logistic Regression"
   ]
  },
  {
   "cell_type": "code",
   "execution_count": 47,
   "metadata": {
    "colab": {
     "base_uri": "https://localhost:8080/"
    },
    "id": "cl5JeNkjMGJb",
    "outputId": "d80a5820-852d-4b8e-8def-1ad60cedf4b6"
   },
   "outputs": [
    {
     "name": "stdout",
     "output_type": "stream",
     "text": [
      "TP: 7091 \n",
      "TN: 381 \n",
      "FP: 188 \n",
      "FN: 578 \n",
      "LGR:: Accuracy: 0.907, Precision: 0.67, Recall: 0.397, f1_score: 0.499\n"
     ]
    },
    {
     "data": {
      "image/png": "[encoded data removed]",
      "text/plain": [
       "<Figure size 432x288 with 2 Axes>"
      ]
     },
     "metadata": {
      "needs_background": "light"
     },
     "output_type": "display_data"
    }
   ],
   "source": [
    "lgr = LogisticRegression()\n",
    "lgr.fit(X_train, y_train)\n",
    "y_pred_lgr = lgr.predict(X_test)\n",
    "print_scores(\"LGR\", y_test, y_pred_lgr)"
   ]
  },
  {
   "cell_type": "markdown",
   "metadata": {
    "id": "_EAjDJHN-89v"
   },
   "source": [
    "# ANN"
   ]
  },
  {
   "cell_type": "code",
   "execution_count": 31,
   "metadata": {
    "colab": {
     "base_uri": "https://localhost:8080/"
    },
    "id": "WA49ZKU0-89v",
    "outputId": "5eb0f821-37ae-4572-8aee-c4b8318e91fd"
   },
   "outputs": [
    {
     "name": "stdout",
     "output_type": "stream",
     "text": [
      "(41188, 37)\n"
     ]
    }
   ],
   "source": [
    "classifier = Sequential()\n",
    "print(df_1.shape)"
   ]
  },
  {
   "cell_type": "markdown",
   "metadata": {
    "id": "mvGz3rO6-89v"
   },
   "source": [
    "##### Configuring the layers\n",
    "* units — number of nodes for first layer\n",
    "* activation — activation function we use hidden layers\n",
    "* kernel_initializer — initiating weight as close as 0\n",
    "* input_dim — number of independent variable in our dataset\n",
    "\n",
    "<!-- ![img](https://miro.medium.com/max/4200/1*GTLzJ0sUmwDPb9uVffnZ6g.png) -->"
   ]
  },
  {
   "cell_type": "code",
   "execution_count": 32,
   "metadata": {
    "id": "REhAWsjb-89w"
   },
   "outputs": [],
   "source": [
    "classifier.add(Dense(units=13,\n",
    "                     activation='relu',\n",
    "                     kernel_initializer='uniform',\n",
    "                     input_dim=36))\n",
    "classifier.add(Dropout(rate=0.1))"
   ]
  },
  {
   "cell_type": "code",
   "execution_count": 33,
   "metadata": {
    "id": "ErvIRA9r-89w"
   },
   "outputs": [],
   "source": [
    "classifier.add(Dense(units=13,\n",
    "                     activation='relu',\n",
    "                     kernel_initializer='uniform'))\n",
    "classifier.add(Dropout(rate=0.1))"
   ]
  },
  {
   "cell_type": "code",
   "execution_count": 34,
   "metadata": {
    "id": "ztRPVrha-89w"
   },
   "outputs": [],
   "source": [
    "classifier.add(Dense(units=1,\n",
    "                     activation='sigmoid',\n",
    "                     kernel_initializer='uniform'))"
   ]
  },
  {
   "cell_type": "code",
   "execution_count": 35,
   "metadata": {
    "id": "tFt2VnBW-89w"
   },
   "outputs": [],
   "source": [
    "#compile ANN\n",
    "classifier.compile(optimizer='adam',loss='binary_crossentropy',\n",
    "                  metrics=['accuracy'])"
   ]
  },
  {
   "cell_type": "markdown",
   "metadata": {
    "id": "GTmY3io8-89w"
   },
   "source": [
    "#####  Training and testing\n",
    "\n",
    "* batch_size — number of sample it takes for each iteration\n",
    "* epochs — number of iteration to optimise the model"
   ]
  },
  {
   "cell_type": "code",
   "execution_count": 36,
   "metadata": {
    "colab": {
     "base_uri": "https://localhost:8080/"
    },
    "id": "3-vtxlqS-89x",
    "outputId": "0825a96a-1193-4c12-839b-837d90296725"
   },
   "outputs": [
    {
     "name": "stdout",
     "output_type": "stream",
     "text": [
      "(32950, 36) (32950,)\n",
      "Epoch 1/100\n",
      "3295/3295 [==============================] - 2s 494us/step - loss: 0.2204 - accuracy: 0.9010\n",
      "Epoch 2/100\n",
      "3295/3295 [==============================] - 1s 438us/step - loss: 0.1914 - accuracy: 0.9062\n",
      "Epoch 3/100\n",
      "3295/3295 [==============================] - 1s 437us/step - loss: 0.1877 - accuracy: 0.9087\n",
      "Epoch 4/100\n",
      "3295/3295 [==============================] - 1s 447us/step - loss: 0.1865 - accuracy: 0.9099\n",
      "Epoch 5/100\n",
      "3295/3295 [==============================] - 1s 441us/step - loss: 0.1840 - accuracy: 0.9109\n",
      "Epoch 6/100\n",
      "3295/3295 [==============================] - 1s 438us/step - loss: 0.1838 - accuracy: 0.9131\n",
      "Epoch 7/100\n",
      "3295/3295 [==============================] - 1s 438us/step - loss: 0.1841 - accuracy: 0.9132\n",
      "Epoch 8/100\n",
      "3295/3295 [==============================] - 1s 441us/step - loss: 0.1824 - accuracy: 0.9136\n",
      "Epoch 9/100\n",
      "3295/3295 [==============================] - 2s 458us/step - loss: 0.1821 - accuracy: 0.9150\n",
      "Epoch 10/100\n",
      "3295/3295 [==============================] - 1s 442us/step - loss: 0.1823 - accuracy: 0.9160\n",
      "Epoch 11/100\n",
      "3295/3295 [==============================] - 1s 439us/step - loss: 0.1816 - accuracy: 0.9146\n",
      "Epoch 12/100\n",
      "3295/3295 [==============================] - 1s 444us/step - loss: 0.1824 - accuracy: 0.9148\n",
      "Epoch 13/100\n",
      "3295/3295 [==============================] - 2s 458us/step - loss: 0.1810 - accuracy: 0.9158\n",
      "Epoch 14/100\n",
      "3295/3295 [==============================] - 1s 438us/step - loss: 0.1798 - accuracy: 0.9157\n",
      "Epoch 15/100\n",
      "3295/3295 [==============================] - 1s 443us/step - loss: 0.1798 - accuracy: 0.9160\n",
      "Epoch 16/100\n",
      "3295/3295 [==============================] - 1s 446us/step - loss: 0.1796 - accuracy: 0.9150\n",
      "Epoch 17/100\n",
      "3295/3295 [==============================] - 1s 442us/step - loss: 0.1794 - accuracy: 0.9165\n",
      "Epoch 18/100\n",
      "3295/3295 [==============================] - 1s 441us/step - loss: 0.1790 - accuracy: 0.9175\n",
      "Epoch 19/100\n",
      "3295/3295 [==============================] - 1s 443us/step - loss: 0.1782 - accuracy: 0.9172\n",
      "Epoch 20/100\n",
      "3295/3295 [==============================] - 1s 441us/step - loss: 0.1796 - accuracy: 0.9170\n",
      "Epoch 21/100\n",
      "3295/3295 [==============================] - 1s 443us/step - loss: 0.1784 - accuracy: 0.9165\n",
      "Epoch 22/100\n",
      "3295/3295 [==============================] - 2s 482us/step - loss: 0.1779 - accuracy: 0.9185\n",
      "Epoch 23/100\n",
      "3295/3295 [==============================] - 1s 443us/step - loss: 0.1776 - accuracy: 0.9185\n",
      "Epoch 24/100\n",
      "3295/3295 [==============================] - 1s 446us/step - loss: 0.1784 - accuracy: 0.9168\n",
      "Epoch 25/100\n",
      "3295/3295 [==============================] - 1s 443us/step - loss: 0.1783 - accuracy: 0.9178\n",
      "Epoch 26/100\n",
      "3295/3295 [==============================] - 1s 442us/step - loss: 0.1770 - accuracy: 0.9185\n",
      "Epoch 27/100\n",
      "3295/3295 [==============================] - 1s 444us/step - loss: 0.1769 - accuracy: 0.9185\n",
      "Epoch 28/100\n",
      "3295/3295 [==============================] - 1s 439us/step - loss: 0.1770 - accuracy: 0.9180\n",
      "Epoch 29/100\n",
      "3295/3295 [==============================] - 1s 445us/step - loss: 0.1765 - accuracy: 0.9185\n",
      "Epoch 30/100\n",
      "3295/3295 [==============================] - 1s 445us/step - loss: 0.1759 - accuracy: 0.9190\n",
      "Epoch 31/100\n",
      "3295/3295 [==============================] - 1s 441us/step - loss: 0.1757 - accuracy: 0.9196\n",
      "Epoch 32/100\n",
      "3295/3295 [==============================] - 1s 451us/step - loss: 0.1755 - accuracy: 0.9193\n",
      "Epoch 33/100\n",
      "3295/3295 [==============================] - 1s 442us/step - loss: 0.1766 - accuracy: 0.9183\n",
      "Epoch 34/100\n",
      "3295/3295 [==============================] - 1s 441us/step - loss: 0.1755 - accuracy: 0.9188\n",
      "Epoch 35/100\n",
      "3295/3295 [==============================] - 1s 453us/step - loss: 0.1763 - accuracy: 0.9185\n",
      "Epoch 36/100\n",
      "3295/3295 [==============================] - 1s 442us/step - loss: 0.1759 - accuracy: 0.9190\n",
      "Epoch 37/100\n",
      "3295/3295 [==============================] - 1s 442us/step - loss: 0.1760 - accuracy: 0.9179\n",
      "Epoch 38/100\n",
      "3295/3295 [==============================] - 2s 455us/step - loss: 0.1764 - accuracy: 0.9182\n",
      "Epoch 39/100\n",
      "3295/3295 [==============================] - 1s 441us/step - loss: 0.1760 - accuracy: 0.9185\n",
      "Epoch 40/100\n",
      "3295/3295 [==============================] - 1s 447us/step - loss: 0.1756 - accuracy: 0.9187\n",
      "Epoch 41/100\n",
      "3295/3295 [==============================] - 1s 441us/step - loss: 0.1749 - accuracy: 0.9194\n",
      "Epoch 42/100\n",
      "3295/3295 [==============================] - 1s 440us/step - loss: 0.1762 - accuracy: 0.9192\n",
      "Epoch 43/100\n",
      "3295/3295 [==============================] - 1s 449us/step - loss: 0.1753 - accuracy: 0.9197\n",
      "Epoch 44/100\n",
      "3295/3295 [==============================] - 1s 444us/step - loss: 0.1756 - accuracy: 0.9192\n",
      "Epoch 45/100\n",
      "3295/3295 [==============================] - 2s 478us/step - loss: 0.1756 - accuracy: 0.9198\n",
      "Epoch 46/100\n",
      "3295/3295 [==============================] - 2s 529us/step - loss: 0.1751 - accuracy: 0.9193\n",
      "Epoch 47/100\n",
      "3295/3295 [==============================] - 2s 472us/step - loss: 0.1744 - accuracy: 0.9209\n",
      "Epoch 48/100\n",
      "3295/3295 [==============================] - 2s 499us/step - loss: 0.1762 - accuracy: 0.9202\n",
      "Epoch 49/100\n",
      "3295/3295 [==============================] - 2s 529us/step - loss: 0.1749 - accuracy: 0.9197\n",
      "Epoch 50/100\n",
      "3295/3295 [==============================] - 2s 483us/step - loss: 0.1755 - accuracy: 0.9200\n",
      "Epoch 51/100\n",
      "3295/3295 [==============================] - 2s 495us/step - loss: 0.1738 - accuracy: 0.9200\n",
      "Epoch 52/100\n",
      "3295/3295 [==============================] - 2s 520us/step - loss: 0.1745 - accuracy: 0.9206\n",
      "Epoch 53/100\n",
      "3295/3295 [==============================] - 2s 473us/step - loss: 0.1744 - accuracy: 0.9205\n",
      "Epoch 54/100\n",
      "3295/3295 [==============================] - 2s 505us/step - loss: 0.1747 - accuracy: 0.9202\n",
      "Epoch 55/100\n",
      "3295/3295 [==============================] - 2s 537us/step - loss: 0.1744 - accuracy: 0.9206\n",
      "Epoch 56/100\n",
      "3295/3295 [==============================] - 1s 451us/step - loss: 0.1729 - accuracy: 0.9202\n",
      "Epoch 57/100\n",
      "3295/3295 [==============================] - 2s 497us/step - loss: 0.1753 - accuracy: 0.9199\n",
      "Epoch 58/100\n",
      "3295/3295 [==============================] - 2s 518us/step - loss: 0.1746 - accuracy: 0.9205\n",
      "Epoch 59/100\n",
      "3295/3295 [==============================] - 2s 492us/step - loss: 0.1741 - accuracy: 0.9203\n",
      "Epoch 60/100\n",
      "3295/3295 [==============================] - 2s 509us/step - loss: 0.1751 - accuracy: 0.9194\n",
      "Epoch 61/100\n",
      "3295/3295 [==============================] - 2s 519us/step - loss: 0.1741 - accuracy: 0.9201\n",
      "Epoch 62/100\n",
      "3295/3295 [==============================] - 2s 496us/step - loss: 0.1742 - accuracy: 0.9207\n",
      "Epoch 63/100\n",
      "3295/3295 [==============================] - 2s 506us/step - loss: 0.1744 - accuracy: 0.9199\n",
      "Epoch 64/100\n",
      "3295/3295 [==============================] - 2s 519us/step - loss: 0.1751 - accuracy: 0.9200\n",
      "Epoch 65/100\n",
      "3295/3295 [==============================] - 2s 491us/step - loss: 0.1747 - accuracy: 0.9201\n",
      "Epoch 66/100\n",
      "3295/3295 [==============================] - 2s 475us/step - loss: 0.1742 - accuracy: 0.9204\n",
      "Epoch 67/100\n",
      "3295/3295 [==============================] - 2s 482us/step - loss: 0.1737 - accuracy: 0.9195\n",
      "Epoch 68/100\n",
      "3295/3295 [==============================] - 1s 451us/step - loss: 0.1741 - accuracy: 0.9205\n",
      "Epoch 69/100\n",
      "3295/3295 [==============================] - 1s 448us/step - loss: 0.1744 - accuracy: 0.9202\n",
      "Epoch 70/100\n",
      "3295/3295 [==============================] - 2s 467us/step - loss: 0.1738 - accuracy: 0.9199\n",
      "Epoch 71/100\n",
      "3295/3295 [==============================] - 1s 445us/step - loss: 0.1747 - accuracy: 0.9205\n",
      "Epoch 72/100\n",
      "3295/3295 [==============================] - 2s 487us/step - loss: 0.1735 - accuracy: 0.9211\n",
      "Epoch 73/100\n",
      "3295/3295 [==============================] - 2s 457us/step - loss: 0.1746 - accuracy: 0.9208\n",
      "Epoch 74/100\n",
      "3295/3295 [==============================] - 1s 441us/step - loss: 0.1734 - accuracy: 0.9201\n",
      "Epoch 75/100\n",
      "3295/3295 [==============================] - 1s 440us/step - loss: 0.1745 - accuracy: 0.9198\n",
      "Epoch 76/100\n",
      "3295/3295 [==============================] - 2s 472us/step - loss: 0.1731 - accuracy: 0.9215\n",
      "Epoch 77/100\n",
      "3295/3295 [==============================] - 2s 520us/step - loss: 0.1742 - accuracy: 0.9198\n",
      "Epoch 78/100\n"
     ]
    },
    {
     "name": "stdout",
     "output_type": "stream",
     "text": [
      "3295/3295 [==============================] - 2s 535us/step - loss: 0.1748 - accuracy: 0.9207\n",
      "Epoch 79/100\n",
      "3295/3295 [==============================] - 1s 455us/step - loss: 0.1734 - accuracy: 0.9214\n",
      "Epoch 80/100\n",
      "3295/3295 [==============================] - 2s 458us/step - loss: 0.1740 - accuracy: 0.9204\n",
      "Epoch 81/100\n",
      "3295/3295 [==============================] - 1s 427us/step - loss: 0.1737 - accuracy: 0.9207\n",
      "Epoch 82/100\n",
      "3295/3295 [==============================] - 1s 425us/step - loss: 0.1739 - accuracy: 0.9209\n",
      "Epoch 83/100\n",
      "3295/3295 [==============================] - 1s 427us/step - loss: 0.1734 - accuracy: 0.9205\n",
      "Epoch 84/100\n",
      "3295/3295 [==============================] - 1s 447us/step - loss: 0.1740 - accuracy: 0.9207\n",
      "Epoch 85/100\n",
      "3295/3295 [==============================] - 1s 426us/step - loss: 0.1738 - accuracy: 0.9204\n",
      "Epoch 86/100\n",
      "3295/3295 [==============================] - 1s 430us/step - loss: 0.1740 - accuracy: 0.9202\n",
      "Epoch 87/100\n",
      "3295/3295 [==============================] - 2s 507us/step - loss: 0.1742 - accuracy: 0.9218\n",
      "Epoch 88/100\n",
      "3295/3295 [==============================] - 2s 503us/step - loss: 0.1734 - accuracy: 0.9205\n",
      "Epoch 89/100\n",
      "3295/3295 [==============================] - 1s 441us/step - loss: 0.1727 - accuracy: 0.9203\n",
      "Epoch 90/100\n",
      "3295/3295 [==============================] - 2s 532us/step - loss: 0.1733 - accuracy: 0.9212\n",
      "Epoch 91/100\n",
      "3295/3295 [==============================] - 2s 512us/step - loss: 0.1742 - accuracy: 0.9206\n",
      "Epoch 92/100\n",
      "3295/3295 [==============================] - 2s 488us/step - loss: 0.1729 - accuracy: 0.9215\n",
      "Epoch 93/100\n",
      "3295/3295 [==============================] - 2s 481us/step - loss: 0.1732 - accuracy: 0.9228\n",
      "Epoch 94/100\n",
      "3295/3295 [==============================] - 2s 498us/step - loss: 0.1736 - accuracy: 0.9203\n",
      "Epoch 95/100\n",
      "3295/3295 [==============================] - 2s 460us/step - loss: 0.1738 - accuracy: 0.9203\n",
      "Epoch 96/100\n",
      "3295/3295 [==============================] - 1s 416us/step - loss: 0.1735 - accuracy: 0.9210\n",
      "Epoch 97/100\n",
      "3295/3295 [==============================] - 2s 465us/step - loss: 0.1729 - accuracy: 0.9215\n",
      "Epoch 98/100\n",
      "3295/3295 [==============================] - 2s 470us/step - loss: 0.1733 - accuracy: 0.9203\n",
      "Epoch 99/100\n",
      "3295/3295 [==============================] - 2s 473us/step - loss: 0.1727 - accuracy: 0.9217\n",
      "Epoch 100/100\n",
      "3295/3295 [==============================] - 2s 480us/step - loss: 0.1733 - accuracy: 0.9203\n"
     ]
    },
    {
     "data": {
      "text/plain": [
       "<tensorflow.python.keras.callbacks.History at 0x2228b33ba90>"
      ]
     },
     "execution_count": 36,
     "metadata": {},
     "output_type": "execute_result"
    }
   ],
   "source": [
    "  #fitting ANN\n",
    "\n",
    "print(X_train.shape, y_train.shape)\n",
    "start = time()\n",
    "classifier.fit(x=X_train, y=y_train, batch_size=10,epochs=100)"
   ]
  },
  {
   "cell_type": "code",
   "execution_count": 45,
   "metadata": {
    "id": "DsncBYC0-89x"
   },
   "outputs": [
    {
     "name": "stdout",
     "output_type": "stream",
     "text": [
      "ANN Time:981614.7899999999\n",
      "TP: 7024 \n",
      "TN: 486 \n",
      "FP: 255 \n",
      "FN: 473 \n",
      "ANN:: Accuracy: 0.912, Precision: 0.656, Recall: 0.507, f1_score: 0.572\n"
     ]
    },
    {
     "data": {
      "image/png": "[encoded data removed]",
      "text/plain": [
       "<Figure size 432x288 with 2 Axes>"
      ]
     },
     "metadata": {
      "needs_background": "light"
     },
     "output_type": "display_data"
    }
   ],
   "source": [
    "y_pred_ann = classifier.predict(X_test)\n",
    "end = time()\n",
    "print(f\"ANN Time:{round((end - start), 5) * 1000}\")\n",
    "\"\"\"\n",
    "y_pred array contains boolean value of whether dependent variable has more than 50% chance of being ‘yes’ or not.\n",
    "\n",
    "If ‘yes’ it will be True, if ‘no’ it will be ‘False’.\n",
    "\"\"\"\n",
    "y_pred_ann_bool = y_pred_ann > 0.5\n",
    "\n",
    "print_scores(\"ANN\", y_test, y_pred_ann_bool)"
   ]
  },
  {
   "cell_type": "markdown",
   "metadata": {
    "id": "gQ9WYcW8ODSV"
   },
   "source": [
    "# References"
   ]
  },
  {
   "cell_type": "markdown",
   "metadata": {
    "id": "WhJDnQEy-89y"
   },
   "source": [
    "* Activation Function : https://www.analyticsvidhya.com/blog/2020/01/fundamentals-deep-learning-activation-functions-when-to-use-them/\n",
    "* Keras : https://medium.com/datadriveninvestor/building-neural-network-using-keras-for-classification-3a3656c726c1\n",
    "* Confusion Matrix : https://towardsdatascience.com/accuracy-precision-recall-or-f1-331fb37c5cb9"
   ]
  }
 ],
 "metadata": {
  "colab": {
   "collapsed_sections": [],
   "include_colab_link": true,
   "name": "ANN.ipynb",
   "provenance": []
  },
  "kernelspec": {
   "display_name": "Python 3",
   "language": "python",
   "name": "python3"
  },
  "language_info": {
   "codemirror_mode": {
    "name": "ipython",
    "version": 3
   },
   "file_extension": ".py",
   "mimetype": "text/x-python",
   "name": "python",
   "nbconvert_exporter": "python",
   "pygments_lexer": "ipython3",
   "version": "3.8.3"
  }
 },
 "nbformat": 4,
 "nbformat_minor": 1
}
